{
 "cells": [
  {
   "cell_type": "markdown",
   "metadata": {},
   "source": [
    "calcaulate analytic thresholds of code capacity models for depolarizing channel for steane, shor, 5-qubit, and surface codes"
   ]
  },
  {
   "cell_type": "code",
   "execution_count": 43,
   "metadata": {},
   "outputs": [
    {
     "name": "stdout",
     "output_type": "stream",
     "text": [
      "The autoreload extension is already loaded. To reload it, use:\n",
      "  %reload_ext autoreload\n"
     ]
    }
   ],
   "source": [
    "from cs_entropy import *\n",
    "from color_compass import *\n",
    "from code_definitions import *\n",
    "from lattice_definitions import *\n",
    "\n",
    "from tqdm import tqdm\n",
    "\n",
    "# autoreload \n",
    "%load_ext autoreload\n",
    "%autoreload 2"
   ]
  },
  {
   "cell_type": "code",
   "execution_count": 44,
   "metadata": {},
   "outputs": [
    {
     "name": "stdout",
     "output_type": "stream",
     "text": [
      "Steane code\n",
      "+-xz-xz-xz-xz-xz-xz-xz-\n",
      "| ++ ++ ++ ++ ++ ++ ++\n",
      "| XZ __ __ _X X_ __ _Z\n",
      "| _Z __ ZX Z_ __ _Z __\n",
      "| _Z __ _X ZX __ _Z _Z\n",
      "| _Z ZX __ __ _Z __ __\n",
      "| _Z _X __ _X XZ X_ _Z\n",
      "| XZ _X _X __ _Z _Z X_\n",
      "| XZ _X _X _X _Z XZ XZ\n",
      "Five qubit code\n",
      "+-xz-xz-xz-xz-xz-\n",
      "| ++ ++ ++ ++ ++\n",
      "| XZ XX __ XX _Z\n",
      "| XZ _Z XX __ XX\n",
      "| XZ XZ XZ _X X_\n",
      "| XZ XX _Z _Z XX\n",
      "| XZ X_ _X XZ XZ\n",
      "Surface code\n",
      "+-xz-xz-xz-xz-xz-xz-xz-xz-xz-\n",
      "| ++ ++ ++ ++ ++ ++ ++ ++ ++\n",
      "| _Z _X __ __ __ X_ __ XZ __\n",
      "| __ __ _X __ __ XZ __ _Z __\n",
      "| __ Z_ ZX Z_ Z_ _Z __ __ __\n",
      "| _Z ZX __ _X __ __ __ _Z __\n",
      "| __ Z_ _X ZX __ __ _Z _Z __\n",
      "| __ __ _X __ ZX __ _Z __ __\n",
      "| XZ __ __ _X __ X_ __ X_ _Z\n",
      "| X_ __ __ _X __ X_ _Z X_ XZ\n",
      "| X_ __ __ __ _X X_ XZ X_ X_\n",
      "Shor red code\n",
      "+-xz-xz-xz-xz-xz-xz-xz-xz-xz-\n",
      "| ++ ++ ++ ++ ++ ++ ++ ++ ++\n",
      "| _Z _X __ XZ __ __ __ __ __\n",
      "| __ ZX Z_ _Z _Z __ __ __ __\n",
      "| __ _X __ __ XZ __ __ __ __\n",
      "| _Z _X ZX __ __ _Z __ __ __\n",
      "| __ _X _X __ __ XZ __ _Z __\n",
      "| __ _X _X __ __ X_ __ XZ __\n",
      "| XZ __ _X X_ __ __ _Z __ __\n",
      "| X_ __ _X X_ __ __ XZ __ _Z\n",
      "| X_ __ _X X_ __ __ X_ __ XZ\n",
      "Shor blue code\n",
      "+-xz-xz-xz-xz-xz-xz-xz-xz-xz-\n",
      "| ++ ++ ++ ++ ++ ++ ++ ++ ++\n",
      "| XZ _X __ __ __ __ __ _Z __\n",
      "| __ __ ZX __ __ Z_ __ _Z _Z\n",
      "| __ __ __ ZX __ __ Z_ __ _Z\n",
      "| _Z ZX __ __ _X __ __ _Z __\n",
      "| __ __ _X __ __ ZX __ _Z _Z\n",
      "| __ __ __ _X __ __ ZX __ _Z\n",
      "| _Z Z_ __ __ ZX __ __ _Z __\n",
      "| X_ __ __ __ __ _X __ XZ _Z\n",
      "| X_ __ __ __ __ __ _X X_ XZ\n"
     ]
    }
   ],
   "source": [
    "steane_code = SteaneCode()\n",
    "print('Steane code')\n",
    "print(steane_code.tableau)\n",
    "five_code = FiveQubitCode()\n",
    "print('Five qubit code')\n",
    "print(five_code.tableau)\n",
    "surface_code = SurfaceCode(3, 3)\n",
    "print('Surface code')\n",
    "print(surface_code.tableau)\n",
    "shor_red_code = ShorRedCode(3, 3)\n",
    "print('Shor red code')\n",
    "print(shor_red_code.tableau)\n",
    "shor_blue_code = ShorBlueCode(3, 3)\n",
    "print('Shor blue code')\n",
    "print(shor_blue_code.tableau)"
   ]
  },
  {
   "cell_type": "markdown",
   "metadata": {},
   "source": [
    "The threshold can be determined by the joint distribution of syndromes and logical effects as follows: \n",
    "\n",
    "Given $P(Z, Y)$, for each $y \\in Y$, find the class $z(y)$ that has the highest probability. The optimal $z^*(y)$ which is the optimal correction. Remove that row from the joint distribution, then find all other instances of the syndrome, add their weight to the logical error, and remove them. "
   ]
  },
  {
   "cell_type": "code",
   "execution_count": 101,
   "metadata": {},
   "outputs": [],
   "source": [
    "def same_keys(key1, key2):\n",
    "    return np.all(key1[0] == key2[0]) and np.all(key1[1] == key2[1])\n",
    "\n",
    "def compute_mle_error_rate(joint_dist):\n",
    "    new_joint_dist = joint_dist.copy()\n",
    "    logical_error_rate = 0\n",
    "    success_dist = {}\n",
    "    failure_dist = {}\n",
    "    while(len(new_joint_dist) > 0):\n",
    "        # pick an element in the joint dist dictionary \n",
    "        key_og = next(iter(new_joint_dist))\n",
    "\n",
    "        # get the syndrome \n",
    "        syndrome = key_og[0]\n",
    "\n",
    "\n",
    "        # now, iterate over all the elements in the dictionary, \n",
    "        # and find the one that has the highest probability\n",
    "        # record all the keys while doing this\n",
    "        all_keys_with_same_syndrome = [key_og]\n",
    "        val_max = new_joint_dist[key_og]\n",
    "        key_max = key_og\n",
    "        for key, value in new_joint_dist.items():\n",
    "            if np.all(key[0] == syndrome):\n",
    "                if not same_keys(key, key_og):\n",
    "                    all_keys_with_same_syndrome.append(key)\n",
    "                    if value > val_max:\n",
    "                        val_max = value\n",
    "                        key_max = key\n",
    "        # now, we have the key with the highest probability\n",
    "        # we can now compute the logical error rate\n",
    "        # remove the highest weight key from the joint dist and add it to the success dist\n",
    "        new_joint_dist.pop(key_max)\n",
    "        success_dist[key_max] = val_max\n",
    "        # also, remove it from the all_keys_with_same_syndrome list\n",
    "        all_keys_with_same_syndrome.remove(key_max)\n",
    "\n",
    "        # now, calculate the failure dist for all the other keys\n",
    "        for key in all_keys_with_same_syndrome:\n",
    "            failure_dist[key] = new_joint_dist[key]\n",
    "            new_joint_dist.pop(key)\n",
    "            logical_error_rate += failure_dist[key]\n",
    "    return logical_error_rate, success_dist, failure_dist\n"
   ]
  },
  {
   "cell_type": "markdown",
   "metadata": {},
   "source": [
    "# threshold of 5 qubit code"
   ]
  },
  {
   "cell_type": "code",
   "execution_count": 137,
   "metadata": {},
   "outputs": [
    {
     "name": "stderr",
     "output_type": "stream",
     "text": [
      "  0%|          | 0/10 [00:00<?, ?it/s]"
     ]
    },
    {
     "name": "stderr",
     "output_type": "stream",
     "text": [
      "100%|██████████| 10/10 [00:00<00:00, 19.61it/s]\n"
     ]
    }
   ],
   "source": [
    "p_line = np.linspace(0, 0.2, 10)\n",
    "depol_channels = [DepolarizingChannel(p, 5) for p in p_line]\n",
    "joint_dists = [five_code.make_joint_distribution(depol_channel) for depol_channel in tqdm(depol_channels)]"
   ]
  },
  {
   "cell_type": "code",
   "execution_count": 138,
   "metadata": {},
   "outputs": [],
   "source": [
    "logical_error_rates = []\n",
    "for joint_dist in joint_dists:\n",
    "    logical_error_rate, success_dist, failure_dist = compute_mle_error_rate(joint_dist)\n",
    "    logical_error_rates.append(logical_error_rate)"
   ]
  },
  {
   "cell_type": "code",
   "execution_count": 139,
   "metadata": {},
   "outputs": [
    {
     "data": {
      "text/plain": [
       "16"
      ]
     },
     "execution_count": 139,
     "metadata": {},
     "output_type": "execute_result"
    }
   ],
   "source": [
    "len(success_dist)"
   ]
  },
  {
   "cell_type": "code",
   "execution_count": 140,
   "metadata": {},
   "outputs": [
    {
     "data": {
      "text/plain": [
       "Text(0.5, 0, 'Depolarizing probability')"
      ]
     },
     "execution_count": 140,
     "metadata": {},
     "output_type": "execute_result"
    },
    {
     "data": {
      "image/png": "[encoded data removed]",
      "text/plain": [
       "<Figure size 640x480 with 1 Axes>"
      ]
     },
     "metadata": {},
     "output_type": "display_data"
    }
   ],
   "source": [
    "# plot the logical error rates and y = x\n",
    "plt.plot(p_line, logical_error_rates, label='Logical error rate')\n",
    "plt.plot(p_line, p_line, label='y=x')\n",
    "plt.xlabel('Depolarizing probability')"
   ]
  },
  {
   "cell_type": "code",
   "execution_count": 143,
   "metadata": {},
   "outputs": [
    {
     "name": "stdout",
     "output_type": "stream",
     "text": [
      "[0.1376109]\n"
     ]
    }
   ],
   "source": [
    "# find the point at each the logical error rate is equal to the depolarizing probability\n",
    "# fit to a spline before\n",
    "from scipy.interpolate import UnivariateSpline\n",
    "spline = UnivariateSpline(p_line, logical_error_rates - p_line, s=0)\n",
    "spline.set_smoothing_factor(0.01)\n",
    "p_cross = spline.roots()\n",
    "print(p_cross)"
   ]
  },
  {
   "cell_type": "markdown",
   "metadata": {},
   "source": [
    "https://quantumcomputing.stackexchange.com/questions/36965/how-to-calculate-pseudo-threshold-of-the-5-1-3-code-analytically-to-match-si"
   ]
  },
  {
   "cell_type": "markdown",
   "metadata": {},
   "source": [
    "# threshold of the steane code"
   ]
  },
  {
   "cell_type": "code",
   "execution_count": 127,
   "metadata": {},
   "outputs": [
    {
     "name": "stderr",
     "output_type": "stream",
     "text": [
      "  0%|          | 0/10 [00:00<?, ?it/s]"
     ]
    },
    {
     "name": "stderr",
     "output_type": "stream",
     "text": [
      "100%|██████████| 10/10 [00:08<00:00,  1.13it/s]\n"
     ]
    }
   ],
   "source": [
    "p_line = np.linspace(0, 0.2, 10)\n",
    "depol_channels = [DepolarizingChannel(p, 7) for p in p_line]\n",
    "joint_dists = [steane_code.make_joint_distribution(depol_channel) for depol_channel in tqdm(depol_channels)]"
   ]
  },
  {
   "cell_type": "code",
   "execution_count": 128,
   "metadata": {},
   "outputs": [],
   "source": [
    "logical_error_rates = []\n",
    "for joint_dist in joint_dists:\n",
    "    logical_error_rate, success_dist, failure_dist = compute_mle_error_rate(joint_dist)\n",
    "    logical_error_rates.append(logical_error_rate)"
   ]
  },
  {
   "cell_type": "code",
   "execution_count": 129,
   "metadata": {},
   "outputs": [
    {
     "data": {
      "text/plain": [
       "64"
      ]
     },
     "execution_count": 129,
     "metadata": {},
     "output_type": "execute_result"
    }
   ],
   "source": [
    "2**6"
   ]
  },
  {
   "cell_type": "code",
   "execution_count": 130,
   "metadata": {},
   "outputs": [
    {
     "data": {
      "text/plain": [
       "64"
      ]
     },
     "execution_count": 130,
     "metadata": {},
     "output_type": "execute_result"
    }
   ],
   "source": [
    "len(success_dist)"
   ]
  },
  {
   "cell_type": "code",
   "execution_count": 132,
   "metadata": {},
   "outputs": [
    {
     "data": {
      "text/plain": [
       "{((0.0, 0.0, 0.0, 0.0, 0.0, 0.0), (0.0, 0.0)): 0.20993053497942346,\n",
       " ((0.0, 0.0, 0.0, 1.0, 1.0, 1.0), (0.0, 1.0)): 0.018062046639231777,\n",
       " ((1.0, 1.0, 1.0, 1.0, 1.0, 1.0), (1.0, 1.0)): 0.018062046639231777,\n",
       " ((1.0, 1.0, 1.0, 0.0, 0.0, 0.0), (1.0, 0.0)): 0.018062046639231777,\n",
       " ((0.0, 0.0, 0.0, 1.0, 1.0, 0.0), (0.0, 1.0)): 0.018062046639231777,\n",
       " ((0.0, 0.0, 0.0, 0.0, 0.0, 1.0), (0.0, 1.0)): 0.018062046639231794,\n",
       " ((1.0, 1.0, 1.0, 0.0, 0.0, 1.0), (1.0, 1.0)): 0.002061320896204846,\n",
       " ((1.0, 1.0, 1.0, 1.0, 1.0, 0.0), (0.0, 1.0)): 0.002061320896204847,\n",
       " ((1.0, 1.0, 0.0, 1.0, 1.0, 0.0), (1.0, 1.0)): 0.018062046639231777,\n",
       " ((1.0, 1.0, 0.0, 0.0, 0.0, 1.0), (0.0, 1.0)): 0.0020613208962048466,\n",
       " ((0.0, 0.0, 1.0, 0.0, 0.0, 1.0), (1.0, 1.0)): 0.01806204663923181,\n",
       " ((0.0, 0.0, 1.0, 1.0, 1.0, 0.0), (1.0, 0.0)): 0.002061320896204847,\n",
       " ((1.0, 1.0, 0.0, 0.0, 0.0, 0.0), (1.0, 0.0)): 0.018062046639231777,\n",
       " ((1.0, 1.0, 0.0, 1.0, 1.0, 1.0), (0.0, 1.0)): 0.002061320896204847,\n",
       " ((0.0, 0.0, 1.0, 1.0, 1.0, 1.0), (1.0, 1.0)): 0.002061320896204847,\n",
       " ((0.0, 0.0, 1.0, 0.0, 0.0, 0.0), (1.0, 0.0)): 0.01806204663923183,\n",
       " ((0.0, 0.0, 0.0, 1.0, 0.0, 1.0), (0.0, 1.0)): 0.018062046639231777,\n",
       " ((0.0, 0.0, 0.0, 0.0, 1.0, 0.0), (0.0, 1.0)): 0.01806204663923178,\n",
       " ((1.0, 1.0, 1.0, 0.0, 1.0, 0.0), (1.0, 1.0)): 0.0020613208962048466,\n",
       " ((1.0, 1.0, 1.0, 1.0, 0.0, 1.0), (1.0, 1.0)): 0.002061320896204846,\n",
       " ((0.0, 0.0, 0.0, 0.0, 1.0, 1.0), (0.0, 1.0)): 0.018062046639231777,\n",
       " ((0.0, 0.0, 0.0, 1.0, 0.0, 0.0), (0.0, 1.0)): 0.018062046639231777,\n",
       " ((1.0, 1.0, 1.0, 1.0, 0.0, 0.0), (1.0, 1.0)): 0.0020613208962048466,\n",
       " ((1.0, 1.0, 1.0, 0.0, 1.0, 1.0), (1.0, 0.0)): 0.002061320896204846,\n",
       " ((1.0, 1.0, 0.0, 0.0, 1.0, 1.0), (0.0, 1.0)): 0.002061320896204846,\n",
       " ((1.0, 1.0, 0.0, 1.0, 0.0, 0.0), (0.0, 1.0)): 0.002061320896204846,\n",
       " ((0.0, 0.0, 1.0, 1.0, 0.0, 0.0), (1.0, 0.0)): 0.002061320896204847,\n",
       " ((0.0, 0.0, 1.0, 0.0, 1.0, 1.0), (1.0, 1.0)): 0.002061320896204847,\n",
       " ((1.0, 1.0, 0.0, 1.0, 0.0, 1.0), (1.0, 1.0)): 0.002061320896204846,\n",
       " ((1.0, 1.0, 0.0, 0.0, 1.0, 0.0), (1.0, 1.0)): 0.002061320896204846,\n",
       " ((0.0, 0.0, 1.0, 0.0, 1.0, 0.0), (1.0, 1.0)): 0.0020613208962048475,\n",
       " ((0.0, 0.0, 1.0, 1.0, 0.0, 1.0), (1.0, 1.0)): 0.002061320896204847,\n",
       " ((1.0, 0.0, 1.0, 1.0, 0.0, 1.0), (1.0, 1.0)): 0.018062046639231777,\n",
       " ((1.0, 0.0, 1.0, 0.0, 1.0, 0.0), (1.0, 1.0)): 0.0020613208962048466,\n",
       " ((0.0, 1.0, 0.0, 0.0, 1.0, 0.0), (1.0, 1.0)): 0.018062046639231784,\n",
       " ((0.0, 1.0, 0.0, 1.0, 0.0, 1.0), (0.0, 1.0)): 0.002061320896204846,\n",
       " ((1.0, 0.0, 1.0, 0.0, 1.0, 1.0), (1.0, 1.0)): 0.002061320896204846,\n",
       " ((1.0, 0.0, 1.0, 1.0, 0.0, 0.0), (0.0, 1.0)): 0.002061320896204847,\n",
       " ((0.0, 1.0, 0.0, 1.0, 0.0, 0.0), (1.0, 1.0)): 0.0020613208962048466,\n",
       " ((0.0, 1.0, 0.0, 0.0, 1.0, 1.0), (0.0, 1.0)): 0.002061320896204847,\n",
       " ((0.0, 1.0, 1.0, 0.0, 1.0, 1.0), (1.0, 1.0)): 0.018062046639231777,\n",
       " ((0.0, 1.0, 1.0, 1.0, 0.0, 0.0), (0.0, 1.0)): 0.0020613208962048466,\n",
       " ((1.0, 0.0, 0.0, 1.0, 0.0, 0.0), (1.0, 1.0)): 0.01806204663923178,\n",
       " ((1.0, 0.0, 0.0, 0.0, 1.0, 1.0), (1.0, 0.0)): 0.002061320896204846,\n",
       " ((0.0, 1.0, 1.0, 1.0, 0.0, 1.0), (0.0, 1.0)): 0.002061320896204846,\n",
       " ((0.0, 1.0, 1.0, 0.0, 1.0, 0.0), (0.0, 1.0)): 0.0020613208962048475,\n",
       " ((1.0, 0.0, 0.0, 0.0, 1.0, 0.0), (1.0, 1.0)): 0.002061320896204846,\n",
       " ((1.0, 0.0, 0.0, 1.0, 0.0, 1.0), (0.0, 1.0)): 0.002061320896204847,\n",
       " ((1.0, 0.0, 1.0, 0.0, 0.0, 0.0), (1.0, 0.0)): 0.018062046639231777,\n",
       " ((1.0, 0.0, 1.0, 1.0, 1.0, 1.0), (0.0, 1.0)): 0.0020613208962048466,\n",
       " ((0.0, 1.0, 0.0, 1.0, 1.0, 1.0), (1.0, 1.0)): 0.0020613208962048466,\n",
       " ((0.0, 1.0, 0.0, 0.0, 0.0, 0.0), (1.0, 0.0)): 0.01806204663923179,\n",
       " ((1.0, 0.0, 1.0, 1.0, 1.0, 0.0), (1.0, 1.0)): 0.002061320896204846,\n",
       " ((1.0, 0.0, 1.0, 0.0, 0.0, 1.0), (1.0, 1.0)): 0.002061320896204846,\n",
       " ((0.0, 1.0, 0.0, 0.0, 0.0, 1.0), (0.0, 1.0)): 0.002061320896204846,\n",
       " ((0.0, 1.0, 0.0, 1.0, 1.0, 0.0), (0.0, 1.0)): 0.002061320896204846,\n",
       " ((0.0, 1.0, 1.0, 1.0, 1.0, 0.0), (0.0, 1.0)): 0.002061320896204846,\n",
       " ((0.0, 1.0, 1.0, 0.0, 0.0, 1.0), (0.0, 1.0)): 0.0020613208962048466,\n",
       " ((1.0, 0.0, 0.0, 0.0, 0.0, 1.0), (0.0, 1.0)): 0.0020613208962048466,\n",
       " ((1.0, 0.0, 0.0, 1.0, 1.0, 0.0), (1.0, 1.0)): 0.002061320896204846,\n",
       " ((0.0, 1.0, 1.0, 0.0, 0.0, 0.0), (1.0, 0.0)): 0.018062046639231777,\n",
       " ((0.0, 1.0, 1.0, 1.0, 1.0, 1.0), (0.0, 1.0)): 0.0020613208962048466,\n",
       " ((1.0, 0.0, 0.0, 1.0, 1.0, 1.0), (1.0, 1.0)): 0.0020613208962048466,\n",
       " ((1.0, 0.0, 0.0, 0.0, 0.0, 0.0), (1.0, 0.0)): 0.01806204663923178}"
      ]
     },
     "execution_count": 132,
     "metadata": {},
     "output_type": "execute_result"
    }
   ],
   "source": [
    "success_dist"
   ]
  },
  {
   "cell_type": "code",
   "execution_count": 133,
   "metadata": {},
   "outputs": [
    {
     "data": {
      "text/plain": [
       "{((0.0, 0.0, 0.0, 0.0, 0.0, 0.0), (0.0, 1.0)): 0.0008850260631001377,\n",
       " ((0.0, 0.0, 0.0, 0.0, 0.0, 0.0), (1.0, 1.0)): 0.0008850260631001377,\n",
       " ((0.0, 0.0, 0.0, 0.0, 0.0, 0.0), (1.0, 0.0)): 0.0008850260631001377,\n",
       " ((0.0, 0.0, 0.0, 1.0, 1.0, 1.0), (0.0, 0.0)): 0.004491810882487416,\n",
       " ((0.0, 0.0, 0.0, 1.0, 1.0, 1.0), (1.0, 0.0)): 0.0005422646547782354,\n",
       " ((0.0, 0.0, 0.0, 1.0, 1.0, 1.0), (1.0, 1.0)): 0.0005422646547782354,\n",
       " ((1.0, 1.0, 1.0, 1.0, 1.0, 1.0), (1.0, 0.0)): 0.0005422646547782355,\n",
       " ((1.0, 1.0, 1.0, 1.0, 1.0, 1.0), (0.0, 0.0)): 0.00449181088248742,\n",
       " ((1.0, 1.0, 1.0, 1.0, 1.0, 1.0), (0.0, 1.0)): 0.0005422646547782354,\n",
       " ((1.0, 1.0, 1.0, 0.0, 0.0, 0.0), (1.0, 1.0)): 0.0005422646547782354,\n",
       " ((1.0, 1.0, 1.0, 0.0, 0.0, 0.0), (0.0, 1.0)): 0.0005422646547782353,\n",
       " ((1.0, 1.0, 1.0, 0.0, 0.0, 0.0), (0.0, 0.0)): 0.004491810882487422,\n",
       " ((0.0, 0.0, 0.0, 1.0, 1.0, 0.0), (0.0, 0.0)): 0.004491810882487417,\n",
       " ((0.0, 0.0, 0.0, 1.0, 1.0, 0.0), (1.0, 0.0)): 0.0005422646547782354,\n",
       " ((0.0, 0.0, 0.0, 1.0, 1.0, 0.0), (1.0, 1.0)): 0.0005422646547782354,\n",
       " ((0.0, 0.0, 0.0, 0.0, 0.0, 1.0), (0.0, 0.0)): 0.0044918108824874145,\n",
       " ((0.0, 0.0, 0.0, 0.0, 0.0, 1.0), (1.0, 1.0)): 0.0005422646547782352,\n",
       " ((0.0, 0.0, 0.0, 0.0, 0.0, 1.0), (1.0, 0.0)): 0.000542264654778235,\n",
       " ((1.0, 1.0, 1.0, 0.0, 0.0, 1.0), (1.0, 0.0)): 0.0020613208962048444,\n",
       " ((1.0, 1.0, 1.0, 0.0, 0.0, 1.0), (0.0, 1.0)): 0.002061320896204846,\n",
       " ((1.0, 1.0, 1.0, 0.0, 0.0, 1.0), (0.0, 0.0)): 0.0007448054869684504,\n",
       " ((1.0, 1.0, 1.0, 1.0, 1.0, 0.0), (1.0, 1.0)): 0.002061320896204845,\n",
       " ((1.0, 1.0, 1.0, 1.0, 1.0, 0.0), (1.0, 0.0)): 0.0020613208962048466,\n",
       " ((1.0, 1.0, 1.0, 1.0, 1.0, 0.0), (0.0, 0.0)): 0.0007448054869684504,\n",
       " ((1.0, 1.0, 0.0, 1.0, 1.0, 0.0), (1.0, 0.0)): 0.0005422646547782356,\n",
       " ((1.0, 1.0, 0.0, 1.0, 1.0, 0.0), (0.0, 0.0)): 0.00449181088248742,\n",
       " ((1.0, 1.0, 0.0, 1.0, 1.0, 0.0), (0.0, 1.0)): 0.0005422646547782354,\n",
       " ((1.0, 1.0, 0.0, 0.0, 0.0, 1.0), (1.0, 0.0)): 0.0020613208962048444,\n",
       " ((1.0, 1.0, 0.0, 0.0, 0.0, 1.0), (1.0, 1.0)): 0.0020613208962048457,\n",
       " ((1.0, 1.0, 0.0, 0.0, 0.0, 1.0), (0.0, 0.0)): 0.0007448054869684504,\n",
       " ((0.0, 0.0, 1.0, 0.0, 0.0, 1.0), (0.0, 0.0)): 0.004491810882487413,\n",
       " ((0.0, 0.0, 1.0, 0.0, 0.0, 1.0), (0.0, 1.0)): 0.0005422646547782354,\n",
       " ((0.0, 0.0, 1.0, 0.0, 0.0, 1.0), (1.0, 0.0)): 0.0005422646547782349,\n",
       " ((0.0, 0.0, 1.0, 1.0, 1.0, 0.0), (0.0, 1.0)): 0.002061320896204845,\n",
       " ((0.0, 0.0, 1.0, 1.0, 1.0, 0.0), (0.0, 0.0)): 0.0007448054869684504,\n",
       " ((0.0, 0.0, 1.0, 1.0, 1.0, 0.0), (1.0, 1.0)): 0.0020613208962048466,\n",
       " ((1.0, 1.0, 0.0, 0.0, 0.0, 0.0), (1.0, 1.0)): 0.0005422646547782356,\n",
       " ((1.0, 1.0, 0.0, 0.0, 0.0, 0.0), (0.0, 1.0)): 0.0005422646547782353,\n",
       " ((1.0, 1.0, 0.0, 0.0, 0.0, 0.0), (0.0, 0.0)): 0.004491810882487422,\n",
       " ((1.0, 1.0, 0.0, 1.0, 1.0, 1.0), (1.0, 1.0)): 0.002061320896204845,\n",
       " ((1.0, 1.0, 0.0, 1.0, 1.0, 1.0), (1.0, 0.0)): 0.002061320896204846,\n",
       " ((1.0, 1.0, 0.0, 1.0, 1.0, 1.0), (0.0, 0.0)): 0.0007448054869684504,\n",
       " ((0.0, 0.0, 1.0, 1.0, 1.0, 1.0), (0.0, 1.0)): 0.002061320896204845,\n",
       " ((0.0, 0.0, 1.0, 1.0, 1.0, 1.0), (0.0, 0.0)): 0.0007448054869684504,\n",
       " ((0.0, 0.0, 1.0, 1.0, 1.0, 1.0), (1.0, 0.0)): 0.0020613208962048466,\n",
       " ((0.0, 0.0, 1.0, 0.0, 0.0, 0.0), (0.0, 0.0)): 0.004491810882487413,\n",
       " ((0.0, 0.0, 1.0, 0.0, 0.0, 0.0), (0.0, 1.0)): 0.0005422646547782353,\n",
       " ((0.0, 0.0, 1.0, 0.0, 0.0, 0.0), (1.0, 1.0)): 0.0005422646547782351,\n",
       " ((0.0, 0.0, 0.0, 1.0, 0.0, 1.0), (0.0, 0.0)): 0.004491810882487416,\n",
       " ((0.0, 0.0, 0.0, 1.0, 0.0, 1.0), (1.0, 0.0)): 0.0005422646547782354,\n",
       " ((0.0, 0.0, 0.0, 1.0, 0.0, 1.0), (1.0, 1.0)): 0.0005422646547782353,\n",
       " ((0.0, 0.0, 0.0, 0.0, 1.0, 0.0), (0.0, 0.0)): 0.004491810882487416,\n",
       " ((0.0, 0.0, 0.0, 0.0, 1.0, 0.0), (1.0, 1.0)): 0.0005422646547782353,\n",
       " ((0.0, 0.0, 0.0, 0.0, 1.0, 0.0), (1.0, 0.0)): 0.0005422646547782353,\n",
       " ((1.0, 1.0, 1.0, 0.0, 1.0, 0.0), (1.0, 0.0)): 0.0020613208962048457,\n",
       " ((1.0, 1.0, 1.0, 0.0, 1.0, 0.0), (0.0, 1.0)): 0.0020613208962048466,\n",
       " ((1.0, 1.0, 1.0, 0.0, 1.0, 0.0), (0.0, 0.0)): 0.0007448054869684503,\n",
       " ((1.0, 1.0, 1.0, 1.0, 0.0, 1.0), (1.0, 0.0)): 0.002061320896204846,\n",
       " ((1.0, 1.0, 1.0, 1.0, 0.0, 1.0), (0.0, 0.0)): 0.0007448054869684503,\n",
       " ((1.0, 1.0, 1.0, 1.0, 0.0, 1.0), (0.0, 1.0)): 0.002061320896204846,\n",
       " ((0.0, 0.0, 0.0, 0.0, 1.0, 1.0), (0.0, 0.0)): 0.004491810882487415,\n",
       " ((0.0, 0.0, 0.0, 0.0, 1.0, 1.0), (1.0, 1.0)): 0.0005422646547782354,\n",
       " ((0.0, 0.0, 0.0, 0.0, 1.0, 1.0), (1.0, 0.0)): 0.0005422646547782353,\n",
       " ((0.0, 0.0, 0.0, 1.0, 0.0, 0.0), (0.0, 0.0)): 0.004491810882487417,\n",
       " ((0.0, 0.0, 0.0, 1.0, 0.0, 0.0), (1.0, 0.0)): 0.0005422646547782354,\n",
       " ((0.0, 0.0, 0.0, 1.0, 0.0, 0.0), (1.0, 1.0)): 0.0005422646547782352,\n",
       " ((1.0, 1.0, 1.0, 1.0, 0.0, 0.0), (1.0, 0.0)): 0.0020613208962048457,\n",
       " ((1.0, 1.0, 1.0, 1.0, 0.0, 0.0), (0.0, 0.0)): 0.0007448054869684504,\n",
       " ((1.0, 1.0, 1.0, 1.0, 0.0, 0.0), (0.0, 1.0)): 0.002061320896204846,\n",
       " ((1.0, 1.0, 1.0, 0.0, 1.0, 1.0), (1.0, 1.0)): 0.002061320896204846,\n",
       " ((1.0, 1.0, 1.0, 0.0, 1.0, 1.0), (0.0, 1.0)): 0.0020613208962048457,\n",
       " ((1.0, 1.0, 1.0, 0.0, 1.0, 1.0), (0.0, 0.0)): 0.0007448054869684503,\n",
       " ((1.0, 1.0, 0.0, 0.0, 1.0, 1.0), (1.0, 0.0)): 0.0020613208962048457,\n",
       " ((1.0, 1.0, 0.0, 0.0, 1.0, 1.0), (1.0, 1.0)): 0.0020613208962048457,\n",
       " ((1.0, 1.0, 0.0, 0.0, 1.0, 1.0), (0.0, 0.0)): 0.0007448054869684502,\n",
       " ((1.0, 1.0, 0.0, 1.0, 0.0, 0.0), (1.0, 1.0)): 0.0020613208962048457,\n",
       " ((1.0, 1.0, 0.0, 1.0, 0.0, 0.0), (1.0, 0.0)): 0.0020613208962048457,\n",
       " ((1.0, 1.0, 0.0, 1.0, 0.0, 0.0), (0.0, 0.0)): 0.0007448054869684503,\n",
       " ((0.0, 0.0, 1.0, 1.0, 0.0, 0.0), (0.0, 1.0)): 0.002061320896204845,\n",
       " ((0.0, 0.0, 1.0, 1.0, 0.0, 0.0), (0.0, 0.0)): 0.0007448054869684503,\n",
       " ((0.0, 0.0, 1.0, 1.0, 0.0, 0.0), (1.0, 1.0)): 0.002061320896204847,\n",
       " ((0.0, 0.0, 1.0, 0.0, 1.0, 1.0), (0.0, 0.0)): 0.0007448054869684508,\n",
       " ((0.0, 0.0, 1.0, 0.0, 1.0, 1.0), (0.0, 1.0)): 0.002061320896204845,\n",
       " ((0.0, 0.0, 1.0, 0.0, 1.0, 1.0), (1.0, 0.0)): 0.0020613208962048466,\n",
       " ((1.0, 1.0, 0.0, 1.0, 0.0, 1.0), (1.0, 0.0)): 0.0020613208962048453,\n",
       " ((1.0, 1.0, 0.0, 1.0, 0.0, 1.0), (0.0, 0.0)): 0.0007448054869684503,\n",
       " ((1.0, 1.0, 0.0, 1.0, 0.0, 1.0), (0.0, 1.0)): 0.002061320896204846,\n",
       " ((1.0, 1.0, 0.0, 0.0, 1.0, 0.0), (1.0, 0.0)): 0.0020613208962048453,\n",
       " ((1.0, 1.0, 0.0, 0.0, 1.0, 0.0), (0.0, 1.0)): 0.002061320896204846,\n",
       " ((1.0, 1.0, 0.0, 0.0, 1.0, 0.0), (0.0, 0.0)): 0.0007448054869684503,\n",
       " ((0.0, 0.0, 1.0, 0.0, 1.0, 0.0), (0.0, 0.0)): 0.0007448054869684508,\n",
       " ((0.0, 0.0, 1.0, 0.0, 1.0, 0.0), (0.0, 1.0)): 0.0020613208962048444,\n",
       " ((0.0, 0.0, 1.0, 0.0, 1.0, 0.0), (1.0, 0.0)): 0.0020613208962048466,\n",
       " ((0.0, 0.0, 1.0, 1.0, 0.0, 1.0), (0.0, 1.0)): 0.002061320896204845,\n",
       " ((0.0, 0.0, 1.0, 1.0, 0.0, 1.0), (0.0, 0.0)): 0.0007448054869684503,\n",
       " ((0.0, 0.0, 1.0, 1.0, 0.0, 1.0), (1.0, 0.0)): 0.0020613208962048466,\n",
       " ((1.0, 0.0, 1.0, 1.0, 0.0, 1.0), (1.0, 0.0)): 0.0005422646547782356,\n",
       " ((1.0, 0.0, 1.0, 1.0, 0.0, 1.0), (0.0, 0.0)): 0.00449181088248742,\n",
       " ((1.0, 0.0, 1.0, 1.0, 0.0, 1.0), (0.0, 1.0)): 0.0005422646547782353,\n",
       " ((1.0, 0.0, 1.0, 0.0, 1.0, 0.0), (1.0, 0.0)): 0.0020613208962048457,\n",
       " ((1.0, 0.0, 1.0, 0.0, 1.0, 0.0), (0.0, 1.0)): 0.0020613208962048466,\n",
       " ((1.0, 0.0, 1.0, 0.0, 1.0, 0.0), (0.0, 0.0)): 0.0007448054869684503,\n",
       " ((0.0, 1.0, 0.0, 0.0, 1.0, 0.0), (0.0, 0.0)): 0.00449181088248742,\n",
       " ((0.0, 1.0, 0.0, 0.0, 1.0, 0.0), (0.0, 1.0)): 0.0005422646547782354,\n",
       " ((0.0, 1.0, 0.0, 0.0, 1.0, 0.0), (1.0, 0.0)): 0.0005422646547782354,\n",
       " ((0.0, 1.0, 0.0, 1.0, 0.0, 1.0), (0.0, 0.0)): 0.0007448054869684504,\n",
       " ((0.0, 1.0, 0.0, 1.0, 0.0, 1.0), (1.0, 0.0)): 0.002061320896204846,\n",
       " ((0.0, 1.0, 0.0, 1.0, 0.0, 1.0), (1.0, 1.0)): 0.002061320896204846,\n",
       " ((1.0, 0.0, 1.0, 0.0, 1.0, 1.0), (1.0, 0.0)): 0.0020613208962048457,\n",
       " ((1.0, 0.0, 1.0, 0.0, 1.0, 1.0), (0.0, 1.0)): 0.0020613208962048457,\n",
       " ((1.0, 0.0, 1.0, 0.0, 1.0, 1.0), (0.0, 0.0)): 0.0007448054869684503,\n",
       " ((1.0, 0.0, 1.0, 1.0, 0.0, 0.0), (1.0, 1.0)): 0.002061320896204845,\n",
       " ((1.0, 0.0, 1.0, 1.0, 0.0, 0.0), (1.0, 0.0)): 0.0020613208962048466,\n",
       " ((1.0, 0.0, 1.0, 1.0, 0.0, 0.0), (0.0, 0.0)): 0.0007448054869684503,\n",
       " ((0.0, 1.0, 0.0, 1.0, 0.0, 0.0), (0.0, 1.0)): 0.002061320896204846,\n",
       " ((0.0, 1.0, 0.0, 1.0, 0.0, 0.0), (0.0, 0.0)): 0.0007448054869684504,\n",
       " ((0.0, 1.0, 0.0, 1.0, 0.0, 0.0), (1.0, 0.0)): 0.0020613208962048453,\n",
       " ((0.0, 1.0, 0.0, 0.0, 1.0, 1.0), (0.0, 0.0)): 0.0007448054869684508,\n",
       " ((0.0, 1.0, 0.0, 0.0, 1.0, 1.0), (1.0, 1.0)): 0.002061320896204845,\n",
       " ((0.0, 1.0, 0.0, 0.0, 1.0, 1.0), (1.0, 0.0)): 0.002061320896204846,\n",
       " ((0.0, 1.0, 1.0, 0.0, 1.0, 1.0), (0.0, 0.0)): 0.00449181088248742,\n",
       " ((0.0, 1.0, 1.0, 0.0, 1.0, 1.0), (0.0, 1.0)): 0.0005422646547782354,\n",
       " ((0.0, 1.0, 1.0, 0.0, 1.0, 1.0), (1.0, 0.0)): 0.0005422646547782354,\n",
       " ((0.0, 1.0, 1.0, 1.0, 0.0, 0.0), (0.0, 0.0)): 0.0007448054869684506,\n",
       " ((0.0, 1.0, 1.0, 1.0, 0.0, 0.0), (1.0, 0.0)): 0.0020613208962048457,\n",
       " ((0.0, 1.0, 1.0, 1.0, 0.0, 0.0), (1.0, 1.0)): 0.002061320896204846,\n",
       " ((1.0, 0.0, 0.0, 1.0, 0.0, 0.0), (1.0, 0.0)): 0.0005422646547782355,\n",
       " ((1.0, 0.0, 0.0, 1.0, 0.0, 0.0), (0.0, 0.0)): 0.00449181088248742,\n",
       " ((1.0, 0.0, 0.0, 1.0, 0.0, 0.0), (0.0, 1.0)): 0.0005422646547782353,\n",
       " ((1.0, 0.0, 0.0, 0.0, 1.0, 1.0), (1.0, 1.0)): 0.0020613208962048457,\n",
       " ((1.0, 0.0, 0.0, 0.0, 1.0, 1.0), (0.0, 1.0)): 0.002061320896204846,\n",
       " ((1.0, 0.0, 0.0, 0.0, 1.0, 1.0), (0.0, 0.0)): 0.0007448054869684502,\n",
       " ((0.0, 1.0, 1.0, 1.0, 0.0, 1.0), (0.0, 0.0)): 0.0007448054869684504,\n",
       " ((0.0, 1.0, 1.0, 1.0, 0.0, 1.0), (1.0, 0.0)): 0.0020613208962048457,\n",
       " ((0.0, 1.0, 1.0, 1.0, 0.0, 1.0), (1.0, 1.0)): 0.002061320896204846,\n",
       " ((0.0, 1.0, 1.0, 0.0, 1.0, 0.0), (0.0, 0.0)): 0.0007448054869684508,\n",
       " ((0.0, 1.0, 1.0, 0.0, 1.0, 0.0), (1.0, 1.0)): 0.002061320896204844,\n",
       " ((0.0, 1.0, 1.0, 0.0, 1.0, 0.0), (1.0, 0.0)): 0.002061320896204846,\n",
       " ((1.0, 0.0, 0.0, 0.0, 1.0, 0.0), (1.0, 0.0)): 0.0020613208962048453,\n",
       " ((1.0, 0.0, 0.0, 0.0, 1.0, 0.0), (0.0, 1.0)): 0.002061320896204846,\n",
       " ((1.0, 0.0, 0.0, 0.0, 1.0, 0.0), (0.0, 0.0)): 0.0007448054869684503,\n",
       " ((1.0, 0.0, 0.0, 1.0, 0.0, 1.0), (1.0, 1.0)): 0.002061320896204845,\n",
       " ((1.0, 0.0, 0.0, 1.0, 0.0, 1.0), (1.0, 0.0)): 0.002061320896204846,\n",
       " ((1.0, 0.0, 0.0, 1.0, 0.0, 1.0), (0.0, 0.0)): 0.0007448054869684503,\n",
       " ((1.0, 0.0, 1.0, 0.0, 0.0, 0.0), (1.0, 1.0)): 0.0005422646547782355,\n",
       " ((1.0, 0.0, 1.0, 0.0, 0.0, 0.0), (0.0, 1.0)): 0.0005422646547782354,\n",
       " ((1.0, 0.0, 1.0, 0.0, 0.0, 0.0), (0.0, 0.0)): 0.004491810882487423,\n",
       " ((1.0, 0.0, 1.0, 1.0, 1.0, 1.0), (1.0, 1.0)): 0.002061320896204846,\n",
       " ((1.0, 0.0, 1.0, 1.0, 1.0, 1.0), (1.0, 0.0)): 0.002061320896204846,\n",
       " ((1.0, 0.0, 1.0, 1.0, 1.0, 1.0), (0.0, 0.0)): 0.0007448054869684502,\n",
       " ((0.0, 1.0, 0.0, 1.0, 1.0, 1.0), (0.0, 1.0)): 0.002061320896204846,\n",
       " ((0.0, 1.0, 0.0, 1.0, 1.0, 1.0), (0.0, 0.0)): 0.0007448054869684504,\n",
       " ((0.0, 1.0, 0.0, 1.0, 1.0, 1.0), (1.0, 0.0)): 0.0020613208962048457,\n",
       " ((0.0, 1.0, 0.0, 0.0, 0.0, 0.0), (0.0, 0.0)): 0.004491810882487422,\n",
       " ((0.0, 1.0, 0.0, 0.0, 0.0, 0.0), (0.0, 1.0)): 0.0005422646547782354,\n",
       " ((0.0, 1.0, 0.0, 0.0, 0.0, 0.0), (1.0, 1.0)): 0.0005422646547782354,\n",
       " ((1.0, 0.0, 1.0, 1.0, 1.0, 0.0), (1.0, 0.0)): 0.0020613208962048457,\n",
       " ((1.0, 0.0, 1.0, 1.0, 1.0, 0.0), (0.0, 0.0)): 0.0007448054869684503,\n",
       " ((1.0, 0.0, 1.0, 1.0, 1.0, 0.0), (0.0, 1.0)): 0.002061320896204846,\n",
       " ((1.0, 0.0, 1.0, 0.0, 0.0, 1.0), (1.0, 0.0)): 0.0020613208962048444,\n",
       " ((1.0, 0.0, 1.0, 0.0, 0.0, 1.0), (0.0, 1.0)): 0.002061320896204846,\n",
       " ((1.0, 0.0, 1.0, 0.0, 0.0, 1.0), (0.0, 0.0)): 0.0007448054869684506,\n",
       " ((0.0, 1.0, 0.0, 0.0, 0.0, 1.0), (0.0, 0.0)): 0.0007448054869684508,\n",
       " ((0.0, 1.0, 0.0, 0.0, 0.0, 1.0), (1.0, 1.0)): 0.0020613208962048457,\n",
       " ((0.0, 1.0, 0.0, 0.0, 0.0, 1.0), (1.0, 0.0)): 0.002061320896204845,\n",
       " ((0.0, 1.0, 0.0, 1.0, 1.0, 0.0), (0.0, 0.0)): 0.0007448054869684503,\n",
       " ((0.0, 1.0, 0.0, 1.0, 1.0, 0.0), (1.0, 0.0)): 0.0020613208962048457,\n",
       " ((0.0, 1.0, 0.0, 1.0, 1.0, 0.0), (1.0, 1.0)): 0.002061320896204846,\n",
       " ((0.0, 1.0, 1.0, 1.0, 1.0, 0.0), (0.0, 0.0)): 0.0007448054869684506,\n",
       " ((0.0, 1.0, 1.0, 1.0, 1.0, 0.0), (1.0, 0.0)): 0.0020613208962048457,\n",
       " ((0.0, 1.0, 1.0, 1.0, 1.0, 0.0), (1.0, 1.0)): 0.002061320896204846,\n",
       " ((0.0, 1.0, 1.0, 0.0, 0.0, 1.0), (0.0, 0.0)): 0.0007448054869684507,\n",
       " ((0.0, 1.0, 1.0, 0.0, 0.0, 1.0), (1.0, 1.0)): 0.0020613208962048457,\n",
       " ((0.0, 1.0, 1.0, 0.0, 0.0, 1.0), (1.0, 0.0)): 0.0020613208962048444,\n",
       " ((1.0, 0.0, 0.0, 0.0, 0.0, 1.0), (1.0, 0.0)): 0.0020613208962048444,\n",
       " ((1.0, 0.0, 0.0, 0.0, 0.0, 1.0), (1.0, 1.0)): 0.0020613208962048457,\n",
       " ((1.0, 0.0, 0.0, 0.0, 0.0, 1.0), (0.0, 0.0)): 0.0007448054869684506,\n",
       " ((1.0, 0.0, 0.0, 1.0, 1.0, 0.0), (1.0, 0.0)): 0.0020613208962048457,\n",
       " ((1.0, 0.0, 0.0, 1.0, 1.0, 0.0), (0.0, 0.0)): 0.0007448054869684503,\n",
       " ((1.0, 0.0, 0.0, 1.0, 1.0, 0.0), (0.0, 1.0)): 0.002061320896204846,\n",
       " ((0.0, 1.0, 1.0, 0.0, 0.0, 0.0), (0.0, 0.0)): 0.004491810882487425,\n",
       " ((0.0, 1.0, 1.0, 0.0, 0.0, 0.0), (0.0, 1.0)): 0.0005422646547782355,\n",
       " ((0.0, 1.0, 1.0, 0.0, 0.0, 0.0), (1.0, 1.0)): 0.0005422646547782354,\n",
       " ((0.0, 1.0, 1.0, 1.0, 1.0, 1.0), (0.0, 0.0)): 0.0007448054869684506,\n",
       " ((0.0, 1.0, 1.0, 1.0, 1.0, 1.0), (1.0, 0.0)): 0.0020613208962048457,\n",
       " ((0.0, 1.0, 1.0, 1.0, 1.0, 1.0), (1.0, 1.0)): 0.002061320896204846,\n",
       " ((1.0, 0.0, 0.0, 1.0, 1.0, 1.0), (1.0, 0.0)): 0.0020613208962048453,\n",
       " ((1.0, 0.0, 0.0, 1.0, 1.0, 1.0), (0.0, 0.0)): 0.0007448054869684504,\n",
       " ((1.0, 0.0, 0.0, 1.0, 1.0, 1.0), (0.0, 1.0)): 0.002061320896204846,\n",
       " ((1.0, 0.0, 0.0, 0.0, 0.0, 0.0), (1.0, 1.0)): 0.0005422646547782354,\n",
       " ((1.0, 0.0, 0.0, 0.0, 0.0, 0.0), (0.0, 1.0)): 0.0005422646547782353,\n",
       " ((1.0, 0.0, 0.0, 0.0, 0.0, 0.0), (0.0, 0.0)): 0.004491810882487422}"
      ]
     },
     "execution_count": 133,
     "metadata": {},
     "output_type": "execute_result"
    }
   ],
   "source": [
    "failure_dist"
   ]
  },
  {
   "cell_type": "code",
   "execution_count": 131,
   "metadata": {},
   "outputs": [
    {
     "data": {
      "text/plain": [
       "Text(0.5, 0, 'Depolarizing probability')"
      ]
     },
     "execution_count": 131,
     "metadata": {},
     "output_type": "execute_result"
    },
    {
     "data": {
      "image/png": "[encoded data removed]",
      "text/plain": [
       "<Figure size 640x480 with 1 Axes>"
      ]
     },
     "metadata": {},
     "output_type": "display_data"
    }
   ],
   "source": [
    "# plot the logical error rates and y = x\n",
    "plt.plot(p_line, logical_error_rates, label='Logical error rate')\n",
    "plt.plot(p_line, p_line, label='y=x')\n",
    "plt.xlabel('Depolarizing probability')"
   ]
  },
  {
   "cell_type": "code",
   "execution_count": 3,
   "metadata": {},
   "outputs": [
    {
     "data": {
      "text/plain": [
       "0.3535533905932738"
      ]
     },
     "execution_count": 3,
     "metadata": {},
     "output_type": "execute_result"
    }
   ],
   "source": [
    "2**(-1.5)"
   ]
  },
  {
   "cell_type": "markdown",
   "metadata": {},
   "source": [
    "# threshold of the surface code"
   ]
  },
  {
   "cell_type": "code",
   "execution_count": 134,
   "metadata": {},
   "outputs": [
    {
     "name": "stderr",
     "output_type": "stream",
     "text": [
      "  0%|          | 0/10 [00:00<?, ?it/s]"
     ]
    },
    {
     "name": "stderr",
     "output_type": "stream",
     "text": [
      "100%|██████████| 10/10 [02:40<00:00, 16.07s/it]\n"
     ]
    }
   ],
   "source": [
    "p_line = np.linspace(0, 0.2, 10)\n",
    "depol_channels = [DepolarizingChannel(p, 9) for p in p_line]\n",
    "joint_dists = [surface_code.make_joint_distribution(depol_channel) for depol_channel in tqdm(depol_channels)]"
   ]
  },
  {
   "cell_type": "code",
   "execution_count": 135,
   "metadata": {},
   "outputs": [],
   "source": [
    "logical_error_rates = []\n",
    "for joint_dist in joint_dists:\n",
    "    logical_error_rate, success_dist, failure_dist = compute_mle_error_rate(joint_dist)\n",
    "    logical_error_rates.append(logical_error_rate)"
   ]
  },
  {
   "cell_type": "code",
   "execution_count": 136,
   "metadata": {},
   "outputs": [
    {
     "data": {
      "text/plain": [
       "Text(0.5, 0, 'Depolarizing probability')"
      ]
     },
     "execution_count": 136,
     "metadata": {},
     "output_type": "execute_result"
    },
    {
     "data": {
      "image/png": "[encoded data removed]",
      "text/plain": [
       "<Figure size 640x480 with 1 Axes>"
      ]
     },
     "metadata": {},
     "output_type": "display_data"
    }
   ],
   "source": [
    "# plot the logical error rates and y = x\n",
    "plt.plot(p_line, logical_error_rates, label='Logical error rate')\n",
    "plt.plot(p_line, p_line, label='y=x')\n",
    "plt.xlabel('Depolarizing probability')"
   ]
  },
  {
   "cell_type": "code",
   "execution_count": null,
   "metadata": {},
   "outputs": [],
   "source": []
  }
 ],
 "metadata": {
  "kernelspec": {
   "display_name": "ErrorGenerators",
   "language": "python",
   "name": "python3"
  },
  "language_info": {
   "codemirror_mode": {
    "name": "ipython",
    "version": 3
   },
   "file_extension": ".py",
   "mimetype": "text/x-python",
   "name": "python",
   "nbconvert_exporter": "python",
   "pygments_lexer": "ipython3",
   "version": "3.10.11"
  }
 },
 "nbformat": 4,
 "nbformat_minor": 2
}
