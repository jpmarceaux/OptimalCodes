{
 "cells": [
  {
   "cell_type": "code",
   "execution_count": 53,
   "metadata": {},
   "outputs": [],
   "source": [
    "from cs_entropy import *\n",
    "from color_compass import *\n",
    "from code_definitions import *\n",
    "\n",
    "from tqdm import tqdm\n",
    "\n",
    "# autoreload \n",
    "%load_ext autoreload\n",
    "%autoreload 2"
   ]
  },
  {
   "cell_type": "code",
   "execution_count": 47,
   "metadata": {},
   "outputs": [],
   "source": [
    "def make_n_qubit_pauli_channel_kraus_ops(n, px, py, pz):\n",
    "    \"\"\"\n",
    "    Make the Krau\n",
    "    \"\"\"\n",
    "\n",
    "    # Make the Pauli channel\n",
    "    K, _, _ = Pauli_channel(px, py, pz)\n",
    "\n",
    "    # tensor product of the Kraus operators\n",
    "    K_list = [K] * n\n",
    "    K_tensor = tensor_channels(K_list)\n",
    "    return K_tensor\n"
   ]
  },
  {
   "cell_type": "code",
   "execution_count": 48,
   "metadata": {},
   "outputs": [],
   "source": [
    "px = 0.01\n",
    "py = 0.01\n",
    "pz = 0.01\n",
    "n = 3"
   ]
  },
  {
   "cell_type": "code",
   "execution_count": 49,
   "metadata": {},
   "outputs": [],
   "source": [
    "Ks = make_n_qubit_pauli_channel_kraus_ops(n, px, py, pz)\n"
   ]
  },
  {
   "cell_type": "code",
   "execution_count": 50,
   "metadata": {},
   "outputs": [
    {
     "data": {
      "text/plain": [
       "64"
      ]
     },
     "execution_count": 50,
     "metadata": {},
     "output_type": "execute_result"
    }
   ],
   "source": [
    "len(Ks)"
   ]
  },
  {
   "cell_type": "code",
   "execution_count": 51,
   "metadata": {},
   "outputs": [
    {
     "data": {
      "text/plain": [
       "(8, 8)"
      ]
     },
     "execution_count": 51,
     "metadata": {},
     "output_type": "execute_result"
    }
   ],
   "source": [
    "Ks[0].shape "
   ]
  },
  {
   "cell_type": "code",
   "execution_count": null,
   "metadata": {},
   "outputs": [],
   "source": []
  },
  {
   "cell_type": "code",
   "execution_count": 52,
   "metadata": {},
   "outputs": [
    {
     "name": "stdout",
     "output_type": "stream",
     "text": [
      "Optimization terminated successfully.\n",
      "         Current function value: -2.274178\n",
      "         Iterations: 20\n",
      "         Function evaluations: 2967\n",
      "         Gradient evaluations: 23\n"
     ]
    },
    {
     "data": {
      "text/plain": [
       "2.274177795466273"
      ]
     },
     "execution_count": 52,
     "metadata": {},
     "output_type": "execute_result"
    }
   ],
   "source": [
    "coherent_inf_channel(Ks, 2**n, 2**n)"
   ]
  },
  {
   "cell_type": "code",
   "execution_count": 45,
   "metadata": {},
   "outputs": [
    {
     "name": "stdout",
     "output_type": "stream",
     "text": [
      "Optimization terminated successfully.\n",
      "         Current function value: -1.516119\n",
      "         Iterations: 10\n",
      "         Function evaluations: 363\n",
      "         Gradient evaluations: 11\n"
     ]
    },
    {
     "data": {
      "text/plain": [
       "1.5161185339347347"
      ]
     },
     "execution_count": 45,
     "metadata": {},
     "output_type": "execute_result"
    }
   ],
   "source": [
    "px = 0.01\n",
    "py = 0.01\n",
    "pz = 0.01\n",
    "n = 2\n",
    "Ks = make_n_qubit_pauli_channel_kraus_ops(n, px, py, pz)\n",
    "\n",
    "coherent_inf_channel(Ks, 2**n, 2**n)"
   ]
  },
  {
   "cell_type": "code",
   "execution_count": null,
   "metadata": {},
   "outputs": [],
   "source": []
  }
 ],
 "metadata": {
  "kernelspec": {
   "display_name": "ErrorGenerators",
   "language": "python",
   "name": "python3"
  },
  "language_info": {
   "codemirror_mode": {
    "name": "ipython",
    "version": 3
   },
   "file_extension": ".py",
   "mimetype": "text/x-python",
   "name": "python",
   "nbconvert_exporter": "python",
   "pygments_lexer": "ipython3",
   "version": "3.10.11"
  }
 },
 "nbformat": 4,
 "nbformat_minor": 2
}
