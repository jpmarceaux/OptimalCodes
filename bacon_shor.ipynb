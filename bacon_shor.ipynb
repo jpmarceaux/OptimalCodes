{
 "cells": [
  {
   "cell_type": "code",
   "execution_count": 3,
   "metadata": {},
   "outputs": [
    {
     "name": "stdout",
     "output_type": "stream",
     "text": [
      "The autoreload extension is already loaded. To reload it, use:\n",
      "  %reload_ext autoreload\n"
     ]
    }
   ],
   "source": [
    "import numpy as np\n",
    "import matplotlib.pyplot as plt\n",
    "import stim\n",
    "import qutip\n",
    "from stim import PauliString\n",
    "\n",
    "\n",
    "from optimal_codes import *\n",
    "\n",
    "# setup autoreload \n",
    "%load_ext autoreload\n",
    "%autoreload 2"
   ]
  },
  {
   "cell_type": "code",
   "execution_count": 38,
   "metadata": {},
   "outputs": [],
   "source": [
    "class SeparablePauliNoise:\n",
    "    def __init__(self, p_x, p_y, p_z, num_qubits=1):\n",
    "        self.p_x = p_x\n",
    "        self.p_y = p_y\n",
    "        self.p_z = p_z\n",
    "        self.num_qubits = num_qubits\n",
    "\n",
    "    @property \n",
    "    def pvec_1q(self):\n",
    "        px = self.p_x\n",
    "        py = self.p_y\n",
    "        pz = self.p_z\n",
    "        return np.array([1-px-py-pz, px, py, pz])\n",
    "\n",
    "    def pvec_joint(self):\n",
    "        # tensor the pvec_1 for each qubit\n",
    "        pvec = self.pvec_1q\n",
    "        pvec_joint = np.array([1])\n",
    "        for i in range(self.num_qubits):\n",
    "            pvec_joint = np.kron(pvec_joint, pvec)\n",
    "        return pvec_joint\n",
    "\n",
    "    def sample_error(self):\n",
    "        pvec = self.pvec_joint()\n",
    "        return random_nqb_paulistring(pvec=pvec[1:], num_qubits=self.num_qubits)"
   ]
  },
  {
   "cell_type": "code",
   "execution_count": 39,
   "metadata": {},
   "outputs": [
    {
     "name": "stdout",
     "output_type": "stream",
     "text": [
      "\u001b[0;31mDocstring:\u001b[0m\n",
      "concatenate((a1, a2, ...), axis=0, out=None, dtype=None, casting=\"same_kind\")\n",
      "\n",
      "Join a sequence of arrays along an existing axis.\n",
      "\n",
      "Parameters\n",
      "----------\n",
      "a1, a2, ... : sequence of array_like\n",
      "    The arrays must have the same shape, except in the dimension\n",
      "    corresponding to `axis` (the first, by default).\n",
      "axis : int, optional\n",
      "    The axis along which the arrays will be joined.  If axis is None,\n",
      "    arrays are flattened before use.  Default is 0.\n",
      "out : ndarray, optional\n",
      "    If provided, the destination to place the result. The shape must be\n",
      "    correct, matching that of what concatenate would have returned if no\n",
      "    out argument were specified.\n",
      "dtype : str or dtype\n",
      "    If provided, the destination array will have this dtype. Cannot be\n",
      "    provided together with `out`.\n",
      "\n",
      "    .. versionadded:: 1.20.0\n",
      "\n",
      "casting : {'no', 'equiv', 'safe', 'same_kind', 'unsafe'}, optional\n",
      "    Controls what kind of data casting may occur. Defaults to 'same_kind'.\n",
      "\n",
      "    .. versionadded:: 1.20.0\n",
      "\n",
      "Returns\n",
      "-------\n",
      "res : ndarray\n",
      "    The concatenated array.\n",
      "\n",
      "See Also\n",
      "--------\n",
      "ma.concatenate : Concatenate function that preserves input masks.\n",
      "array_split : Split an array into multiple sub-arrays of equal or\n",
      "              near-equal size.\n",
      "split : Split array into a list of multiple sub-arrays of equal size.\n",
      "hsplit : Split array into multiple sub-arrays horizontally (column wise).\n",
      "vsplit : Split array into multiple sub-arrays vertically (row wise).\n",
      "dsplit : Split array into multiple sub-arrays along the 3rd axis (depth).\n",
      "stack : Stack a sequence of arrays along a new axis.\n",
      "block : Assemble arrays from blocks.\n",
      "hstack : Stack arrays in sequence horizontally (column wise).\n",
      "vstack : Stack arrays in sequence vertically (row wise).\n",
      "dstack : Stack arrays in sequence depth wise (along third dimension).\n",
      "column_stack : Stack 1-D arrays as columns into a 2-D array.\n",
      "\n",
      "Notes\n",
      "-----\n",
      "When one or more of the arrays to be concatenated is a MaskedArray,\n",
      "this function will return a MaskedArray object instead of an ndarray,\n",
      "but the input masks are *not* preserved. In cases where a MaskedArray\n",
      "is expected as input, use the ma.concatenate function from the masked\n",
      "array module instead.\n",
      "\n",
      "Examples\n",
      "--------\n",
      ">>> a = np.array([[1, 2], [3, 4]])\n",
      ">>> b = np.array([[5, 6]])\n",
      ">>> np.concatenate((a, b), axis=0)\n",
      "array([[1, 2],\n",
      "       [3, 4],\n",
      "       [5, 6]])\n",
      ">>> np.concatenate((a, b.T), axis=1)\n",
      "array([[1, 2, 5],\n",
      "       [3, 4, 6]])\n",
      ">>> np.concatenate((a, b), axis=None)\n",
      "array([1, 2, 3, 4, 5, 6])\n",
      "\n",
      "This function will not preserve masking of MaskedArray inputs.\n",
      "\n",
      ">>> a = np.ma.arange(3)\n",
      ">>> a[1] = np.ma.masked\n",
      ">>> b = np.arange(2, 5)\n",
      ">>> a\n",
      "masked_array(data=[0, --, 2],\n",
      "             mask=[False,  True, False],\n",
      "       fill_value=999999)\n",
      ">>> b\n",
      "array([2, 3, 4])\n",
      ">>> np.concatenate([a, b])\n",
      "masked_array(data=[0, 1, 2, 2, 3, 4],\n",
      "             mask=False,\n",
      "       fill_value=999999)\n",
      ">>> np.ma.concatenate([a, b])\n",
      "masked_array(data=[0, --, 2, 2, 3, 4],\n",
      "             mask=[False,  True, False, False, False, False],\n",
      "       fill_value=999999)\n",
      "\u001b[0;31mType:\u001b[0m      function"
     ]
    }
   ],
   "source": [
    "np.concatenate?"
   ]
  },
  {
   "cell_type": "code",
   "execution_count": 40,
   "metadata": {},
   "outputs": [],
   "source": [
    "dist = SeparablePauliNoise(0.1, 0.1, 0.1, num_qubits=5)"
   ]
  },
  {
   "cell_type": "code",
   "execution_count": 94,
   "metadata": {},
   "outputs": [
    {
     "data": {
      "text/plain": [
       "'_X___'"
      ]
     },
     "execution_count": 94,
     "metadata": {},
     "output_type": "execute_result"
    }
   ],
   "source": [
    "dist.sample_error()"
   ]
  },
  {
   "cell_type": "code",
   "execution_count": null,
   "metadata": {},
   "outputs": [],
   "source": [
    "def make_bs_stabs(n, m):\n",
    "    \"\"\"\n",
    "    Make the x-stabilizers for the Bacon-Shor code in the stim PauliString format.\n",
    "\n",
    "    For n columns, there are n-1 X-stabilizers. For m rows, there are m-1 Z-stabilizers.\n",
    "\n",
    "    The X stabilizers are the columns, as in \n",
    "\n",
    "    * X X * * \n",
    "    * X X * *\n",
    "    * X X * *\n",
    "    * X X * *\n",
    "    * X X * *\n",
    "\n",
    "    The Z stabilizers are the rows, as in\n",
    "\n",
    "    Z Z Z Z Z Z\n",
    "    Z Z Z Z Z Z\n",
    "    * * * * * *\n",
    "    * * * * * *\n",
    "    * * * * * *\n",
    "\n",
    "    Args:\n",
    "        n (int): The number of rows in the Bacon-Shor code.\n",
    "        m (int): The number of columns in the Bacon-Shor code.\n",
    "    \"\"\"\n",
    "    assert n % 2 == 1\n",
    "    assert m % 2 == 1\n",
    "    num_x_stabs = (m-1)\n",
    "    num_z_stabs = (n-1)\n",
    "\n",
    "    x_stabs = []\n",
    "    z_stabs = []\n",
    "\n",
    "    # make the X-stabilizers\n",
    "    # an X-stabilizer is a column of Xs, stored as a PauliString\n",
    "\n",
    "    for k in range(num_x_stabs):\n",
    "        x_stab_binary_mat = np.zeros((n, m))\n",
    "        x_stab_binary_mat[:, k] = 1\n",
    "        x_stab_binary_mat[:, k+1] = 1\n",
    "        # now change the binary matrix in an n*m character string\n",
    "        x_stab_str = \"\"\n",
    "        for i in range(n):\n",
    "            for j in range(m):\n",
    "                if x_stab_binary_mat[i, j] == 1:\n",
    "                    x_stab_str += \"X\"\n",
    "                else:\n",
    "                    x_stab_str += \"_\"\n",
    "        x_stabs.append(PauliString(x_stab_str))\n",
    "\n",
    "    # make the Z-stabilizers\n",
    "    # a Z-stabilizer is a row of Zs, stored as a PauliString\n",
    "\n",
    "    for k in range(num_z_stabs):\n",
    "        z_stab_binary_mat = np.zeros((n, m))\n",
    "        z_stab_binary_mat[k, :] = 1\n",
    "        z_stab_binary_mat[k+1, :] = 1\n",
    "        # now change the binary matrix in an n*m character string\n",
    "        z_stab_str = \"\"\n",
    "        for i in range(n):\n",
    "            for j in range(m):\n",
    "                if z_stab_binary_mat[i, j] == 1:\n",
    "                    z_stab_str += \"Z\"\n",
    "                else:\n",
    "                    z_stab_str += \"_\"\n",
    "        z_stabs.append(PauliString(z_stab_str))\n",
    "    \n",
    "\n",
    "    return x_stabs, z_stabs\n",
    "\n",
    "\n",
    "    \n",
    "\n"
   ]
  },
  {
   "cell_type": "code",
   "execution_count": 107,
   "metadata": {},
   "outputs": [
    {
     "data": {
      "text/plain": [
       "([stim.PauliString(\"+XX_________XX_________XX_________XX_________XX_________\"),\n",
       "  stim.PauliString(\"+_XX_________XX_________XX_________XX_________XX________\"),\n",
       "  stim.PauliString(\"+__XX_________XX_________XX_________XX_________XX_______\"),\n",
       "  stim.PauliString(\"+___XX_________XX_________XX_________XX_________XX______\"),\n",
       "  stim.PauliString(\"+____XX_________XX_________XX_________XX_________XX_____\"),\n",
       "  stim.PauliString(\"+_____XX_________XX_________XX_________XX_________XX____\"),\n",
       "  stim.PauliString(\"+______XX_________XX_________XX_________XX_________XX___\"),\n",
       "  stim.PauliString(\"+_______XX_________XX_________XX_________XX_________XX__\"),\n",
       "  stim.PauliString(\"+________XX_________XX_________XX_________XX_________XX_\"),\n",
       "  stim.PauliString(\"+_________XX_________XX_________XX_________XX_________XX\")],\n",
       " [stim.PauliString(\"+ZZZZZZZZZZZZZZZZZZZZZZ_________________________________\"),\n",
       "  stim.PauliString(\"+___________ZZZZZZZZZZZZZZZZZZZZZZ______________________\"),\n",
       "  stim.PauliString(\"+______________________ZZZZZZZZZZZZZZZZZZZZZZ___________\"),\n",
       "  stim.PauliString(\"+_________________________________ZZZZZZZZZZZZZZZZZZZZZZ\")])"
      ]
     },
     "execution_count": 107,
     "metadata": {},
     "output_type": "execute_result"
    }
   ],
   "source": [
    "make_bs_stabs(5, 11)"
   ]
  },
  {
   "cell_type": "code",
   "execution_count": null,
   "metadata": {},
   "outputs": [],
   "source": []
  }
 ],
 "metadata": {
  "kernelspec": {
   "display_name": "ErrorGenerators",
   "language": "python",
   "name": "python3"
  },
  "language_info": {
   "codemirror_mode": {
    "name": "ipython",
    "version": 3
   },
   "file_extension": ".py",
   "mimetype": "text/x-python",
   "name": "python",
   "nbconvert_exporter": "python",
   "pygments_lexer": "ipython3",
   "version": "3.10.11"
  }
 },
 "nbformat": 4,
 "nbformat_minor": 2
}
