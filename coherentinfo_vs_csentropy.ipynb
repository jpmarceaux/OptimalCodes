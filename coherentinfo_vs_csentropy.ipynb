{
 "cells": [
  {
   "cell_type": "code",
   "execution_count": 12,
   "metadata": {},
   "outputs": [
    {
     "name": "stdout",
     "output_type": "stream",
     "text": [
      "The autoreload extension is already loaded. To reload it, use:\n",
      "  %reload_ext autoreload\n"
     ]
    }
   ],
   "source": [
    "from cs_entropy import *\n",
    "from color_compass import *\n",
    "from code_definitions import *\n",
    "\n",
    "from tqdm import tqdm\n",
    "\n",
    "# autoreload \n",
    "%load_ext autoreload\n",
    "%autoreload 2"
   ]
  },
  {
   "cell_type": "markdown",
   "metadata": {},
   "source": [
    "# 5-qubit code"
   ]
  },
  {
   "cell_type": "code",
   "execution_count": 15,
   "metadata": {},
   "outputs": [],
   "source": [
    "code = FiveQubitCode()"
   ]
  },
  {
   "cell_type": "code",
   "execution_count": 16,
   "metadata": {},
   "outputs": [
    {
     "name": "stdout",
     "output_type": "stream",
     "text": [
      "+-xz-xz-xz-xz-xz-\n",
      "| ++ ++ ++ ++ ++\n",
      "| XZ XX __ XX _Z\n",
      "| XZ _Z XX __ XX\n",
      "| XZ XZ XZ _X X_\n",
      "| XZ XX _Z _Z XX\n",
      "| XZ X_ _X XZ XZ\n"
     ]
    }
   ],
   "source": [
    "print(code.tableau)"
   ]
  },
  {
   "cell_type": "code",
   "execution_count": 17,
   "metadata": {},
   "outputs": [],
   "source": [
    "noise = BiasedPauliNoise(0.3, 0.3, 5)\n",
    "joint_dist = code.make_joint_distribution(noise)"
   ]
  },
  {
   "cell_type": "code",
   "execution_count": 18,
   "metadata": {},
   "outputs": [
    {
     "name": "stdout",
     "output_type": "stream",
     "text": [
      "[1. 0.]\n"
     ]
    }
   ],
   "source": [
    "error = PauliString('ZZZZZ')\n",
    "print(code.logical_effect(error))"
   ]
  },
  {
   "cell_type": "code",
   "execution_count": 25,
   "metadata": {},
   "outputs": [
    {
     "data": {
      "text/plain": [
       "{(0.0, 0.0, 0.0, 0.0): 0.06444205,\n",
       " (0.0, 0.0, 1.0, 1.0): 0.06240441000000001,\n",
       " (0.0, 1.0, 1.0, 1.0): 0.06230277000000001,\n",
       " (0.0, 1.0, 0.0, 0.0): 0.06240441,\n",
       " (0.0, 1.0, 1.0, 0.0): 0.06240441000000001,\n",
       " (0.0, 1.0, 0.0, 1.0): 0.062404409999999993,\n",
       " (0.0, 0.0, 0.0, 1.0): 0.06240441,\n",
       " (0.0, 0.0, 1.0, 0.0): 0.06240441,\n",
       " (1.0, 1.0, 1.0, 1.0): 0.06230277000000001,\n",
       " (1.0, 1.0, 0.0, 0.0): 0.06240441000000001,\n",
       " (1.0, 0.0, 0.0, 0.0): 0.062404409999999993,\n",
       " (1.0, 0.0, 1.0, 1.0): 0.06230277,\n",
       " (1.0, 0.0, 0.0, 1.0): 0.06240441000000001,\n",
       " (1.0, 0.0, 1.0, 0.0): 0.06240441000000001,\n",
       " (1.0, 1.0, 1.0, 0.0): 0.06230277000000001,\n",
       " (1.0, 1.0, 0.0, 1.0): 0.06230277000000001}"
      ]
     },
     "execution_count": 25,
     "metadata": {},
     "output_type": "execute_result"
    }
   ],
   "source": [
    "syndrome_marginal = calculate_syndrome_marginal_distribution(joint_dist)\n",
    "syndrome_marginal"
   ]
  },
  {
   "cell_type": "code",
   "execution_count": 26,
   "metadata": {},
   "outputs": [
    {
     "data": {
      "text/plain": [
       "{(0.0, 0.0): 0.2501776816,\n",
       " (0.0, 1.0): 0.25007999999999997,\n",
       " (1.0, 1.0): 0.24966231839999997,\n",
       " (1.0, 0.0): 0.25007999999999997}"
      ]
     },
     "execution_count": 26,
     "metadata": {},
     "output_type": "execute_result"
    }
   ],
   "source": [
    "logical_marginal = calculate_logical_marginal_distribution(joint_dist)\n",
    "logical_marginal"
   ]
  },
  {
   "cell_type": "code",
   "execution_count": 27,
   "metadata": {},
   "outputs": [
    {
     "data": {
      "text/plain": [
       "<function code_definitions.calculate_syndrome_marginal_distribution(joint_distribution)>"
      ]
     },
     "execution_count": 27,
     "metadata": {},
     "output_type": "execute_result"
    }
   ],
   "source": [
    "calculate_syndrome_marginal_distribution"
   ]
  },
  {
   "cell_type": "code",
   "execution_count": 28,
   "metadata": {},
   "outputs": [
    {
     "name": "stdout",
     "output_type": "stream",
     "text": [
      "1.997873768317378\n",
      "0.0021257745152214458\n",
      "1.9999995428325994\n"
     ]
    }
   ],
   "source": [
    "print(calculate_conditional_entropy(joint_dist))\n",
    "print(calculate_mutual_information(joint_dist))\n",
    "print(calculate_logical_entropy(joint_dist))\n"
   ]
  },
  {
   "cell_type": "code",
   "execution_count": 29,
   "metadata": {},
   "outputs": [],
   "source": [
    "def make_joint_dist_grid(code, px_line, pz_line):\n",
    "    joint_dists = dict()\n",
    "    for px in tqdm(px_line):\n",
    "        for pz in pz_line:\n",
    "            noise = BiasedPauliNoise(px, pz, code.num_qubits)\n",
    "            joint_dists[(px, pz)] = code.make_joint_distribution(noise)\n",
    "    return joint_dists\n",
    "    "
   ]
  },
  {
   "cell_type": "code",
   "execution_count": 48,
   "metadata": {},
   "outputs": [
    {
     "name": "stderr",
     "output_type": "stream",
     "text": [
      "  0%|          | 0/21 [00:00<?, ?it/s]"
     ]
    },
    {
     "name": "stderr",
     "output_type": "stream",
     "text": [
      "100%|██████████| 21/21 [00:20<00:00,  1.00it/s]\n"
     ]
    }
   ],
   "source": [
    "px_line = np.linspace(0, 0.2, 21)\n",
    "pz_line = np.linspace(0, 0.2, 21)\n",
    "joint_dists = make_joint_dist_grid(code, px_line, pz_line)"
   ]
  },
  {
   "cell_type": "code",
   "execution_count": 49,
   "metadata": {},
   "outputs": [
    {
     "ename": "NameError",
     "evalue": "name 'px_grid' is not defined",
     "output_type": "error",
     "traceback": [
      "\u001b[0;31m---------------------------------------------------------------------------\u001b[0m",
      "\u001b[0;31mNameError\u001b[0m                                 Traceback (most recent call last)",
      "Cell \u001b[0;32mIn[49], line 2\u001b[0m\n\u001b[1;32m      1\u001b[0m \u001b[38;5;66;03m# plot the conditional entropies on a grid\u001b[39;00m\n\u001b[0;32m----> 2\u001b[0m cond_entropies \u001b[38;5;241m=\u001b[39m np\u001b[38;5;241m.\u001b[39mzeros((\u001b[38;5;28mlen\u001b[39m(\u001b[43mpx_grid\u001b[49m), \u001b[38;5;28mlen\u001b[39m(pz_grid)))\n\u001b[1;32m      3\u001b[0m \u001b[38;5;28;01mfor\u001b[39;00m i, px \u001b[38;5;129;01min\u001b[39;00m \u001b[38;5;28menumerate\u001b[39m(px_grid):\n\u001b[1;32m      4\u001b[0m     \u001b[38;5;28;01mfor\u001b[39;00m j, pz \u001b[38;5;129;01min\u001b[39;00m \u001b[38;5;28menumerate\u001b[39m(pz_grid):\n",
      "\u001b[0;31mNameError\u001b[0m: name 'px_grid' is not defined"
     ]
    }
   ],
   "source": [
    "# plot the conditional entropies on a grid\n",
    "cond_entropies = np.zeros((len(px_grid), len(pz_grid)))\n",
    "for i, px in enumerate(px_grid):\n",
    "    for j, pz in enumerate(pz_grid):\n",
    "        joint_dist = joint_dists[(px, pz)]\n",
    "        cond_entropies[i, j] = calculate_conditional_entropy(joint_dist)\n",
    "\n",
    "plt.imshow(cond_entropies, origin='lower', extent=(0, 0.2, 0, 0.2))\n",
    "plt.colorbar()"
   ]
  },
  {
   "cell_type": "code",
   "execution_count": 50,
   "metadata": {},
   "outputs": [],
   "source": [
    "def plot_fun_on_grid(fun, grid_dict, px_line, pz_line, title=None):\n",
    "    grid = np.zeros((len(px_line), len(pz_line)))\n",
    "    for i, px in enumerate(px_line):\n",
    "        for j, pz in enumerate(pz_line):\n",
    "            grid[i, j] = fun(grid_dict[(px, pz)])\n",
    "    plt.imshow(grid, origin='lower', extent=(0, 0.2, 0, 0.2))\n",
    "    plt.colorbar()\n",
    "    if title:\n",
    "        plt.title(title)\n",
    "\n",
    "\n",
    "def plot_fun_on_colormesh(fun, grid_dict, px_line, pz_line, title=None):\n",
    "    grid = np.zeros((len(px_line), len(pz_line)))\n",
    "    for i, px in enumerate(px_line):\n",
    "        for j, pz in enumerate(pz_line):\n",
    "            grid[i, j] = fun(grid_dict[(px, pz)])\n",
    "    plt.pcolormesh(px_line, pz_line, grid, shading='auto', cmap='PiYG')\n",
    "    plt.colorbar()\n",
    "    if title:\n",
    "        plt.title(title)\n",
    "    "
   ]
  },
  {
   "cell_type": "code",
   "execution_count": 51,
   "metadata": {},
   "outputs": [
    {
     "data": {
      "image/png": "[encoded data removed]",
      "text/plain": [
       "<Figure size 640x480 with 2 Axes>"
      ]
     },
     "metadata": {},
     "output_type": "display_data"
    }
   ],
   "source": [
    "plot_fun_on_colormesh(calculate_logical_entropy, joint_dists, px_line, pz_line, title='Logical entropy')"
   ]
  },
  {
   "cell_type": "code",
   "execution_count": 52,
   "metadata": {},
   "outputs": [
    {
     "data": {
      "image/png": "[encoded data removed]",
      "text/plain": [
       "<Figure size 640x480 with 2 Axes>"
      ]
     },
     "metadata": {},
     "output_type": "display_data"
    }
   ],
   "source": [
    "plot_fun_on_colormesh(calculate_conditional_entropy, joint_dists, px_line, pz_line, title='Conditional entropy of 5 qubit code')\n",
    "# save in pdf\n",
    "plt.savefig('conditional_entropy_5qubit.pdf')"
   ]
  },
  {
   "cell_type": "code",
   "execution_count": 37,
   "metadata": {},
   "outputs": [
    {
     "data": {
      "image/png": "[encoded data removed]",
      "text/plain": [
       "<Figure size 640x480 with 2 Axes>"
      ]
     },
     "metadata": {},
     "output_type": "display_data"
    }
   ],
   "source": [
    "plot_fun_on_colormesh(calculate_mutual_information, joint_dists, px_line, pz_line, title='Mutual information')"
   ]
  },
  {
   "cell_type": "code",
   "execution_count": 38,
   "metadata": {},
   "outputs": [],
   "source": [
    "# plot the mutual information for a depolarizing channel with increasing bias \n",
    "\n",
    "class DepolarizingChannel(SeparablePauliNoise):\n",
    "    def __init__(self, p, num_qubits):\n",
    "        pZ = p/3 \n",
    "        pX = p/3\n",
    "        pY = p/3\n",
    "        super().__init__(pX, pY, pZ, num_qubits)"
   ]
  },
  {
   "cell_type": "code",
   "execution_count": null,
   "metadata": {},
   "outputs": [],
   "source": []
  },
  {
   "cell_type": "code",
   "execution_count": 39,
   "metadata": {},
   "outputs": [
    {
     "name": "stderr",
     "output_type": "stream",
     "text": [
      "100%|██████████| 100/100 [00:04<00:00, 20.74it/s]\n"
     ]
    }
   ],
   "source": [
    "p_line = np.linspace(0, 0.5, 100)\n",
    "joint_dists = [code.make_joint_distribution(DepolarizingChannel(p, 5)) for p in tqdm(p_line)]"
   ]
  },
  {
   "cell_type": "code",
   "execution_count": 40,
   "metadata": {},
   "outputs": [],
   "source": [
    "mutual_infos = [calculate_mutual_information(joint_dist) for joint_dist in joint_dists]\n",
    "conditional_entropies = [calculate_conditional_entropy(joint_dist) for joint_dist in joint_dists]\n",
    "logical_entropies = [calculate_logical_entropy(joint_dist) for joint_dist in joint_dists]\n"
   ]
  },
  {
   "cell_type": "code",
   "execution_count": 41,
   "metadata": {},
   "outputs": [],
   "source": [
    "# calculate the entropy of the single-qubit depolarizing channel on the grid\n",
    "sq_entropies = [entropy(DepolarizingChannel(p, 1).pvec_1q) for p in p_line]\n",
    "five_qubit_entropies = [5*s for s in sq_entropies]"
   ]
  },
  {
   "cell_type": "code",
   "execution_count": 47,
   "metadata": {},
   "outputs": [
    {
     "data": {
      "image/png": "[encoded data removed]",
      "text/plain": [
       "<Figure size 640x480 with 1 Axes>"
      ]
     },
     "metadata": {},
     "output_type": "display_data"
    }
   ],
   "source": [
    "plt.plot(p_line, mutual_infos, label='Mutual information')\n",
    "plt.plot(p_line, conditional_entropies, label='Conditional entropy')\n",
    "plt.plot(p_line, logical_entropies, label='Logical entropy')\n",
    "plt.plot(p_line, sq_entropies, label='Single-qubit entropy')\n",
    "plt.plot(p_line, five_qubit_entropies, label='Total entropy')\n",
    "plt.legend()\n",
    "plt.xlabel('Depolarizing probability')\n",
    "plt.ylabel('Entropy (bits)')\n",
    "plt.title('Five qubit code')\n",
    "plt.ylim(0, 2.1)\n",
    "# save in PDF\n",
    "plt.savefig('five_qubit_entropies.pdf')"
   ]
  },
  {
   "cell_type": "markdown",
   "metadata": {},
   "source": [
    "# Key ideas:\n",
    "\n",
    "- The Pauli distribution that maximizes mutual information represents the maximal entropy extraction rate of the code (but it will have residual entropy)\n",
    "- The conditional entropy relates to the expected success probability per\n",
    "$$\n",
    "    r = 2^{-m H(Z|Y)}\n",
    "$$\n",
    "where $m$ is the number of uses of the code\n",
    "- The crossing between the conditional entropy and the (average) single-qubit entropy may be understood as the point at which the code stops perfoming better than its constitutes (specifically, it is the point at which the residual entropy in the code space is larger than the entropy of a single qubit)\n",
    "\n",
    "# Questions:\n",
    "\n",
    "- \n",
    "\n",
    "\n",
    "# Steps: \n",
    "\n",
    "- Do the same calc for the steane code and some compass codes (under depolarizing noise)\n",
    "- make the biased noise grids for the steane code and some compass codes\n",
    "- "
   ]
  },
  {
   "cell_type": "code",
   "execution_count": 534,
   "metadata": {},
   "outputs": [
    {
     "data": {
      "text/plain": [
       "0.1034574042213498"
      ]
     },
     "execution_count": 534,
     "metadata": {},
     "output_type": "execute_result"
    }
   ],
   "source": [
    "# find the point where the conditional entropy crosses the single-qubit entropy\n",
    "# this is the threshold for the depolarizing channel\n",
    "\n",
    "# do this by first fitting a spline to the data\n",
    "from scipy.interpolate import interp1d\n",
    "spline = interp1d(p_line, conditional_entropies, kind='cubic')\n",
    "spline_sq = interp1d(p_line, sq_entropies, kind='cubic')\n",
    "\n",
    "# then find the root of the difference, but exclude the starting point\n",
    "from scipy.optimize import root_scalar\n",
    "root = root_scalar(lambda p: spline(p) - spline_sq(p), bracket=[0.1, 0.5])\n",
    "threshold = root.root\n",
    "threshold"
   ]
  },
  {
   "cell_type": "code",
   "execution_count": 535,
   "metadata": {},
   "outputs": [
    {
     "data": {
      "text/plain": [
       "0.1034574042213498"
      ]
     },
     "execution_count": 535,
     "metadata": {},
     "output_type": "execute_result"
    }
   ],
   "source": [
    "threshold"
   ]
  },
  {
   "cell_type": "code",
   "execution_count": 536,
   "metadata": {},
   "outputs": [
    {
     "data": {
      "text/plain": [
       "[<matplotlib.lines.Line2D at 0x7fe8aa581240>]"
      ]
     },
     "execution_count": 536,
     "metadata": {},
     "output_type": "execute_result"
    },
    {
     "data": {
      "image/png": "[encoded data removed]",
      "text/plain": [
       "<Figure size 640x480 with 1 Axes>"
      ]
     },
     "metadata": {},
     "output_type": "display_data"
    }
   ],
   "source": [
    "plt.plot(p_line, mutual_infos, label='Mutual information')"
   ]
  },
  {
   "cell_type": "markdown",
   "metadata": {},
   "source": [
    "# find the distribution that maximizes mutual information "
   ]
  },
  {
   "cell_type": "code",
   "execution_count": 537,
   "metadata": {},
   "outputs": [
    {
     "data": {
      "text/plain": [
       "(array([0.03366859, 0.03366859, 0.03366859]), 1.1434965939111885)"
      ]
     },
     "execution_count": 537,
     "metadata": {},
     "output_type": "execute_result"
    }
   ],
   "source": [
    "def mutual_information_for_bias(px, py, pz, code):\n",
    "    noise = SeparablePauliNoise(px, py, pz, code.num_qubits)\n",
    "    joint_dist = code.make_joint_distribution(noise)\n",
    "    return calculate_mutual_information(joint_dist)\n",
    "\n",
    "# find the px, py, pz that maximizes the mutual information\n",
    "from scipy.optimize import minimize\n",
    "\n",
    "cost = lambda x: -mutual_information_for_bias(x[0], x[1], x[2], code)\n",
    "initial_guess = [0.1, 0.1, 0.1]\n",
    "res = minimize(cost, initial_guess, bounds=[(0, 0.2)]*3)\n",
    "res.x, -res.fun"
   ]
  },
  {
   "cell_type": "code",
   "execution_count": 538,
   "metadata": {},
   "outputs": [
    {
     "name": "stdout",
     "output_type": "stream",
     "text": [
      "1.5742338554498385\n",
      "0.43073726153865\n",
      "1.1434965939111885\n"
     ]
    }
   ],
   "source": [
    "px_opt, py_opt, pz_opt = res.x\n",
    "noise = SeparablePauliNoise(px_opt, py_opt, pz_opt, code.num_qubits)\n",
    "joint_dist = code.make_joint_distribution(noise)\n",
    "print(calculate_logical_entropy(joint_dist))\n",
    "print(calculate_conditional_entropy(joint_dist))\n",
    "print(calculate_mutual_information(joint_dist))"
   ]
  },
  {
   "cell_type": "markdown",
   "metadata": {},
   "source": [
    "# steane code"
   ]
  },
  {
   "cell_type": "code",
   "execution_count": 552,
   "metadata": {},
   "outputs": [
    {
     "name": "stdout",
     "output_type": "stream",
     "text": [
      "+-xz-xz-xz-xz-xz-xz-xz-\n",
      "| ++ ++ ++ ++ ++ ++ ++\n",
      "| XZ __ __ _X X_ __ _Z\n",
      "| _Z __ ZX Z_ __ _Z __\n",
      "| _Z __ _X ZX __ _Z _Z\n",
      "| _Z ZX __ __ _Z __ __\n",
      "| _Z _X __ _X XZ X_ _Z\n",
      "| XZ _X _X __ _Z _Z X_\n",
      "| XZ _X _X _X _Z XZ XZ\n"
     ]
    }
   ],
   "source": [
    "# five_qubit_code_stabilizers = [\n",
    "#     PauliString('XZZXI'), \n",
    "#     PauliString('IXZZX'),\n",
    "#     PauliString('XIXZZ'),\n",
    "#     PauliString('ZXIXZ'),\n",
    "# ]\n",
    "# five_qubit_code_Lx = PauliString('XXXXX')\n",
    "# five_qubit_code_Lz = PauliString('ZZZZZ')\n",
    "\n",
    "# code = StabilizerCode([[five_qubit_code_Lx], [five_qubit_code_Lz]], five_qubit_code_stabilizers)\n",
    "\n",
    "steane_code_stabilizers = [\n",
    "    PauliString('IIIXXXX'), \n",
    "    PauliString('IXXIIXX'), \n",
    "    PauliString('XIXIXIX'),\n",
    "    PauliString('IIIZZZZ'),\n",
    "    PauliString('IZZIIZZ'),\n",
    "    PauliString('ZIZIZIZ'),\n",
    "]\n",
    "\n",
    "steane_code_Lx = PauliString('XXXXXXX')\n",
    "steane_code_Lz = PauliString('ZZZZZZZ')\n",
    "\n",
    "code = StabilizerCode([[steane_code_Lx], [steane_code_Lz]], steane_code_stabilizers)\n",
    "print(code.tableau)"
   ]
  },
  {
   "cell_type": "code",
   "execution_count": 553,
   "metadata": {},
   "outputs": [
    {
     "name": "stdout",
     "output_type": "stream",
     "text": [
      "1.7502927929582033\n",
      "0.4192979831800234\n",
      "1.3309948097781799\n"
     ]
    }
   ],
   "source": [
    "noise = DepolarizingChannel(0.1, 7)\n",
    "joint_dist = code.make_joint_distribution(noise)\n",
    "print(calculate_logical_entropy(joint_dist))\n",
    "print(calculate_conditional_entropy(joint_dist))\n",
    "print(calculate_mutual_information(joint_dist))"
   ]
  },
  {
   "cell_type": "code",
   "execution_count": 554,
   "metadata": {},
   "outputs": [
    {
     "name": "stderr",
     "output_type": "stream",
     "text": [
      "100%|██████████| 100/100 [00:05<00:00, 17.72it/s]\n"
     ]
    }
   ],
   "source": [
    "# make a grid\n",
    "p_line = np.linspace(0, 0.5, 100)\n",
    "\n",
    "# calculate the joint distributions on the grid\n",
    "joint_dists = [code.make_joint_distribution(DepolarizingChannel(p, 5)) for p in tqdm(p_line)]\n",
    "\n",
    "# calculate the mutual information, conditional entropy, and logical entropy on the grid\n",
    "mutual_infos = [calculate_mutual_information(joint_dist) for joint_dist in joint_dists]\n",
    "conditional_entropies = [calculate_conditional_entropy(joint_dist) for joint_dist in joint_dists]\n",
    "logical_entropies = [calculate_logical_entropy(joint_dist) for joint_dist in joint_dists]\n",
    "\n",
    "# calculate the entropy of the single-qubit depolarizing channel on the grid\n",
    "sq_entropies = [entropy(DepolarizingChannel(p, 1).pvec_1q) for p in p_line]"
   ]
  },
  {
   "cell_type": "code",
   "execution_count": 558,
   "metadata": {},
   "outputs": [
    {
     "data": {
      "text/plain": [
       "(0.0, 2.1)"
      ]
     },
     "execution_count": 558,
     "metadata": {},
     "output_type": "execute_result"
    },
    {
     "data": {
      "image/png": "[encoded data removed]",
      "text/plain": [
       "<Figure size 640x480 with 1 Axes>"
      ]
     },
     "metadata": {},
     "output_type": "display_data"
    }
   ],
   "source": [
    "plt.plot(p_line, mutual_infos, label='Mutual information')\n",
    "plt.plot(p_line, conditional_entropies, label='Conditional entropy')\n",
    "plt.plot(p_line, logical_entropies, label='Logical entropy')\n",
    "plt.plot(p_line, sq_entropies, label='Single-qubit entropy')\n",
    "plt.plot(p_line, five_qubit_entropies, label='Total entropy')\n",
    "plt.legend()\n",
    "plt.xlabel('Depolarizing probability')\n",
    "plt.ylabel('Entropy (bits)')\n",
    "plt.title('Steane code')\n",
    "plt.ylim(0, 2.1)"
   ]
  },
  {
   "cell_type": "markdown",
   "metadata": {},
   "source": [
    "# compass codes"
   ]
  },
  {
   "cell_type": "code",
   "execution_count": 556,
   "metadata": {},
   "outputs": [],
   "source": [
    "class Lattice2D():\n",
    "    \"\"\"\n",
    "    convention: \n",
    "    X coords extend vertically |\n",
    "    Z coords extend horizontally --\n",
    "    store the coloring as a list with values in {-1, 0, 1}\n",
    "    \n",
    "    Red  ~ -1 ~ Z-type cuts\n",
    "    Blue ~ +1 ~ X-type cuts\n",
    "    White ~ 0\n",
    "    \n",
    "    preallocate logical X and L as cuts accross the lattice\n",
    "    \"\"\"\n",
    "    def __init__(self, dimX, dimZ):\n",
    "        self.dimX = dimX\n",
    "        self.dimZ = dimZ\n",
    "        self.colors = [0] * (dimX-1)*(dimZ-1)\n",
    "        self.stabs = bacon_shor_group(dimX, dimZ)\n",
    "        self.gauge = bsgauge_group(dimX, dimZ)\n",
    "        self.Lx = ''.join(['X']*dimX+['_']*dimX*(dimZ-1))\n",
    "        self.Lz = ''.join((['Z']+['_']*(dimX-1))*dimZ)\n",
    "        self.logicals = [self.Lx,self.Lz]\n",
    "        \n",
    "    def size(self):\n",
    "        return self.dimX*self.dimZ\n",
    "        \n",
    "    def __str__(self):\n",
    "        vertex_rows = []\n",
    "        face_rows = []\n",
    "        dimX = self.dimX\n",
    "        dimZ = self.dimZ\n",
    "        for i in range(dimX):\n",
    "            vertex_string = ''\n",
    "            for j in range(dimZ):\n",
    "                vertex_string += str(i*dimZ + j).zfill(3)\n",
    "                if (j != dimZ-1):\n",
    "                    vertex_string += '---'\n",
    "            vertex_rows.append(vertex_string)\n",
    "                \n",
    "        for i in range(dimX-1):\n",
    "            face_string = ''\n",
    "            for j in range(dimZ-1):\n",
    "                if(self.colors[i*(dimZ-1) + j] == -1):\n",
    "                    face_string += ' | '+colored(' # ', 'red')\n",
    "                elif(self.colors[i*(dimZ-1) + j] == +1):\n",
    "                    face_string += ' | '+colored(' # ', 'blue')\n",
    "                elif(self.colors[i*(dimZ-1) + j] == 0):\n",
    "                    face_string += ' |    '\n",
    "                else:\n",
    "                    raise ValueError(f'Invalid color type {self.colors[i*dimZ+j]}')\n",
    "                if j == dimZ-2:\n",
    "                    face_string += ' |'\n",
    "            face_rows.append(face_string)\n",
    "        sout = ''\n",
    "        for idx, row in enumerate(vertex_rows):\n",
    "            sout += row +'\\n'\n",
    "            if idx != len(vertex_rows)-1:\n",
    "                sout += face_rows[idx]+'\\n'\n",
    "        return sout\n",
    "    \n",
    "    def size(self):\n",
    "        return self.dimX*self.dimZ\n",
    "    \n",
    "    def getG(self):\n",
    "        return self.gauge[0]+self.gauge[1]\n",
    "    \n",
    "    def getGx(self):\n",
    "        return self.gauge[0]\n",
    "    \n",
    "    def getGz(self):\n",
    "        return self.gauge[1]\n",
    "    \n",
    "    def getS(self):\n",
    "        return self.stabs[0]+self.stabs[1]\n",
    "    \n",
    "    def getSx(self):\n",
    "        return self.stabs[0]\n",
    "    \n",
    "    def getSz(self):\n",
    "        return self.stabs[1]\n",
    "    \n",
    "    def getDims(self):\n",
    "        return (self.dimX, self.dimZ)\n",
    "    \n",
    "    def max_stab_number(self):\n",
    "        return self.dimX*self.dimZ - 1\n",
    "    \n",
    "    def pcheckZ(self):\n",
    "        \"\"\"returns the Z parity check matrix\"\"\"\n",
    "        return np.vstack([pauli2vector(s) for s in self.getSz()])\n",
    "        \n",
    "    def pcheckX(self):\n",
    "        \"\"\"returns the X parity check matrix\"\"\"\n",
    "        return np.vstack([pauli2vector(s) for s in self.getSx()])\n",
    "    \n",
    "    def parity_check_matrix(self):\n",
    "        \"\"\"returns the full parity check matrix\"\"\"\n",
    "        return np.vstack([self.pcheckX(), self.pcheckZ()])\n",
    "    \n",
    "    def display(self, pauli):\n",
    "        dimX = self.dimX\n",
    "        dimZ = self.dimZ\n",
    "        if (len(pauli) != dimX*dimZ):\n",
    "            raise ValueError(\"Pauli string dimension mismatch with lattice size\")\n",
    "        sout = ''\n",
    "        slist = list(pauli)\n",
    "        for i in range(dimX):\n",
    "            for j in range(dimZ):\n",
    "                if slist[i*dimZ+j] == 'X':\n",
    "                    sout += ' X '\n",
    "                elif slist[i*dimZ+j] == 'Z':\n",
    "                    sout += ' Z '\n",
    "                else:\n",
    "                    sout += '   '\n",
    "                if (j != dimZ-1):\n",
    "                    sout += '---'\n",
    "            if (i != dimX -1):\n",
    "                sout += '\\n'\n",
    "                sout += ' |    '*dimZ\n",
    "            sout += '\\n'\n",
    "        print(sout)\n",
    "        \n",
    "    def color_lattice(self, colors):\n",
    "        \"\"\"\n",
    "        replace color state with input and recalculate stab and gauge groups \n",
    "        \"\"\"\n",
    "        dimX = self.dimX-1\n",
    "        dimZ = self.dimZ-1\n",
    "        if(len(colors) != dimX*dimZ):\n",
    "            raise ValueError(\"Color dimension mismatch with lattice size\")\n",
    "        \n",
    "        self.stabs = bacon_shor_group(self.dimX, self.dimZ)\n",
    "        self.gauge = bsgauge_group(self.dimX, self.dimZ)\n",
    "        self.colors = colors\n",
    "        \n",
    "        \n",
    "        for cidx, c in enumerate(colors):\n",
    "            if c == -1:\n",
    "                self.update_groups((int(np.floor(cidx/dimZ)), cidx%dimZ), -1)\n",
    "            elif c == +1:\n",
    "                self.update_groups((int(np.floor(cidx/dimZ)), cidx%dimZ), +1)\n",
    "        \n",
    "        \n",
    "    def update_groups(self, coords, cut_type):\n",
    "        \"\"\"\n",
    "        cut the stabilizer group by coloring the face with the given type\n",
    "            AND\n",
    "        update the gauge group \n",
    "    \n",
    "        algo: \n",
    "        [0] pick the gauge operator g to cut around\n",
    "        [1] find s \\in S that has weight-2 overlap with g\n",
    "        [2] divide that s \n",
    "        [3] update the gauge group \n",
    "        \"\"\"\n",
    "        (i, j) = coords\n",
    "        dimX = self.dimX\n",
    "        dimZ = self.dimZ\n",
    "        [Sx, Sz] = self.getSx(), self.getSz()\n",
    "        [Gx, Gz] = self.getGx(), self.getGz()\n",
    "        \n",
    "        if cut_type == -1:\n",
    "            # -1 = red which is a Z-cut\n",
    "            g = ['_'] * dimX*dimZ\n",
    "            g[i*dimZ + j] = 'Z'\n",
    "            g[i*dimZ + j + 1] = 'Z'\n",
    "            \n",
    "            gvec = pauli2vector(''.join(g))\n",
    "            \n",
    "            # cut the relevant stabilizer\n",
    "            for idx, s in enumerate(Sz):\n",
    "                # find the overlapping stabilizer\n",
    "                if pauli_weight(np.bitwise_xor(gvec, pauli2vector(s))) == pauli_weight(s) - 2:\n",
    "                    # cut s into two vertical parts \n",
    "                    s1 = ['_'] * dimX*dimZ\n",
    "                    s2 = ['_'] * dimX*dimZ\n",
    "                    for k in range(0, i+1):\n",
    "                        s1[k*dimZ + j] = s[k*dimZ + j]\n",
    "                        s1[k*dimZ + j+1] = s[k*dimZ + j+1]\n",
    "                    for k in range(i+1, dimX):\n",
    "                        s2[k*dimZ + j] = s[k*dimZ + j]\n",
    "                        s2[k*dimZ + j+1] = s[k*dimZ + j+1]\n",
    "                    del Sz[idx]\n",
    "                    Sz.append(''.join(s1))\n",
    "                    Sz.append(''.join(s2))\n",
    "                    break\n",
    "            \n",
    "            # make new gauge operator and update gauge group \n",
    "            gauge = ['_'] * dimX*dimZ\n",
    "            for k in range(0, j+1):\n",
    "                gauge[k + i*dimZ] = 'Z'\n",
    "                gauge[k + i*dimZ + 1] = 'Z'\n",
    "            Gx_new = []\n",
    "            for g in Gx:\n",
    "                if twisted_product(pauli2vector(''.join(g)), pauli2vector(''.join(gauge))) == 0:\n",
    "                    Gx_new.append(g)\n",
    "            Gx = Gx_new\n",
    "                \n",
    "        elif cut_type == +1:\n",
    "            # +1 = blue that is a X-cut:\n",
    "            g = ['_'] * dimX*dimZ\n",
    "            g[i*dimZ + j] = 'X'\n",
    "            g[(i+1)*dimZ + j ] = 'X'\n",
    "            \n",
    "            gvec = pauli2vector(''.join(g))\n",
    "            \n",
    "            # cut the relevant stabilizer\n",
    "            for idx, s in enumerate(Sx):\n",
    "                # find the overlapping stabilizer\n",
    "                if pauli_weight(np.bitwise_xor(gvec, pauli2vector(s))) == pauli_weight(s) - 2:\n",
    "                    # cut s into two horizontal parts \n",
    "                    s1 = ['_'] * dimX*dimZ\n",
    "                    s2 = ['_'] * dimX*dimZ\n",
    "                    for k in range(0, j+1):\n",
    "                        s1[i*dimZ + k] = s[i*dimZ + k]\n",
    "                        s1[(i+1)*dimZ + k] = s[(i+1)*dimZ + k]\n",
    "                    for k in range(j+1, dimZ):\n",
    "                        s2[i*dimZ + k] = s[i*dimZ + k]\n",
    "                        s2[(i+1)*dimZ + k] = s[(i+1)*dimZ + k]\n",
    "                    del Sx[idx]\n",
    "                    Sx.append(''.join(s1))\n",
    "                    Sx.append(''.join(s2))\n",
    "                    break\n",
    "            \n",
    "            # make new gauge operator and update gauge group \n",
    "            gauge = ['_'] * dimX*dimZ\n",
    "            for k in range(0, j+1):\n",
    "                gauge[k + i*dimZ] = 'X'\n",
    "                gauge[k + (i+1)*dimZ] = 'X'\n",
    "            Gz_new = []\n",
    "            for g in Gz:\n",
    "                if twisted_product(pauli2vector(''.join(g)), pauli2vector(''.join(gauge))) == 0:\n",
    "                    Gz_new.append(g)\n",
    "            Gz = Gz_new\n",
    "\n",
    "        # update the groups\n",
    "        self.stabs = [Sx, Sz]\n",
    "        self.gauge = [Gx, Gz]"
   ]
  },
  {
   "cell_type": "code",
   "execution_count": 557,
   "metadata": {},
   "outputs": [],
   "source": [
    "def make_code_from_lattice(lat):\n",
    "    \"\"\"\n",
    "    make a stabilizer code from a lattice\n",
    "    \"\"\"\n",
    "    Lx = PauliString(lat.Lx)\n",
    "    Lz = PauliString(lat.Lz)\n",
    "    S = [PauliString(s) for s in lat.getS()]\n",
    "    return StabilizerCode([[Lx], [Lz]], S)"
   ]
  },
  {
   "cell_type": "code",
   "execution_count": 312,
   "metadata": {},
   "outputs": [
    {
     "name": "stdout",
     "output_type": "stream",
     "text": [
      "0.8235096052938333 0.09150106725487032\n"
     ]
    }
   ],
   "source": [
    "noise = BiasedPauliNoise(0.01, 0.0001, 9)\n",
    "print(noise.entropy(), noise.entropy_1q())"
   ]
  },
  {
   "cell_type": "code",
   "execution_count": 313,
   "metadata": {},
   "outputs": [
    {
     "name": "stdout",
     "output_type": "stream",
     "text": [
      "_________\n"
     ]
    }
   ],
   "source": [
    "pauli_error = noise.sample_error()\n",
    "print(pauli_error)"
   ]
  },
  {
   "cell_type": "code",
   "execution_count": 314,
   "metadata": {},
   "outputs": [],
   "source": [
    "# first make all length-4 lists of elements in {-1, 0, 1}\n",
    "# then make all 3x3 lattices\n",
    "# then calculate the entropy of each lattice\n",
    "# then plot the entropy of each lattice\n",
    "# then calculate the entropy of each lattice with a depolarizing channel\n",
    "# then plot the entropy of each lattice with a depolarizing channel"
   ]
  },
  {
   "cell_type": "code",
   "execution_count": 315,
   "metadata": {},
   "outputs": [],
   "source": [
    "# make all 3x3 lattices\n",
    "import itertools as _itr\n",
    "\n",
    "all_colorings = _itr.product([-1, 0, 1], repeat=4)\n",
    "\n",
    "\n",
    "lattices = []\n",
    "for i in all_colorings:\n",
    "    lat = compass_to_surface(3,3)\n",
    "    lat.color_lattice(i)\n",
    "    lattices.append(lat)\n",
    "\n",
    "all_codes = [make_code_from_lattice(lat) for lat in lattices]"
   ]
  },
  {
   "cell_type": "code",
   "execution_count": 332,
   "metadata": {},
   "outputs": [],
   "source": [
    "surface_lat = compass_to_surface(3,3)\n",
    "shor_red_lat = compass_to_surface(3,3)\n",
    "shor_red_lat.color_lattice([-1, -1, -1, -1])\n",
    "shor_blue_lat = compass_to_surface(3,3)\n",
    "shor_blue_lat.color_lattice([1, 1, 1, 1])\n",
    "three_lattices = [surface_lat, shor_red_lat, shor_blue_lat]\n",
    "surface_code = make_code_from_lattice(surface_lat)\n",
    "shor_red_code = make_code_from_lattice(shor_red_lat)\n",
    "shor_blue_code = make_code_from_lattice(shor_blue_lat)\n",
    "three_codes = [make_code_from_lattice(lat) for lat in three_lattices]"
   ]
  },
  {
   "cell_type": "code",
   "execution_count": 340,
   "metadata": {},
   "outputs": [
    {
     "name": "stdout",
     "output_type": "stream",
     "text": [
      "[0. 0. 0. 1. 0. 0. 1. 0.]\n",
      "+X_Z__ZXXX\n",
      "[0. 0. 0. 1. 0. 0. 1. 0.]\n",
      "[0. 0. 0. 0. 0. 0. 0. 0.]\n"
     ]
    }
   ],
   "source": [
    "error = PauliString('XIZIZIZIZ')\n",
    "syndrome = surface_code.syndrome(error)\n",
    "print(syndrome)\n",
    "syndrome_recovery = surface_code.syndrome_recovery(syndrome)\n",
    "print(syndrome_recovery)\n",
    "print(surface_code.syndrome(syndrome_recovery))\n",
    "print(surface_code.syndrome(error*syndrome_recovery))"
   ]
  },
  {
   "cell_type": "code",
   "execution_count": 334,
   "metadata": {},
   "outputs": [
    {
     "data": {
      "text/plain": [
       "array([1., 0.])"
      ]
     },
     "execution_count": 334,
     "metadata": {},
     "output_type": "execute_result"
    }
   ],
   "source": [
    "surface_code.logical_effect(error)"
   ]
  },
  {
   "cell_type": "code",
   "execution_count": 341,
   "metadata": {},
   "outputs": [
    {
     "name": "stdout",
     "output_type": "stream",
     "text": [
      "[0. 0. 0. 1. 0. 0. 1. 0.]\n"
     ]
    }
   ],
   "source": [
    "syndrome = surface_code.syndrome(error)\n",
    "print(syndrome)"
   ]
  },
  {
   "cell_type": "code",
   "execution_count": 342,
   "metadata": {},
   "outputs": [
    {
     "data": {
      "text/plain": [
       "stim.Tableau.from_conjugated_generators(\n",
       "    xs=[\n",
       "        stim.PauliString(\"+______XXX\"),\n",
       "        stim.PauliString(\"+__ZZZ____\"),\n",
       "        stim.PauliString(\"+__Z______\"),\n",
       "        stim.PauliString(\"+__Z_Z____\"),\n",
       "        stim.PauliString(\"+__Z__Z___\"),\n",
       "        stim.PauliString(\"+XX____XXX\"),\n",
       "        stim.PauliString(\"+________X\"),\n",
       "        stim.PauliString(\"+X_____XXX\"),\n",
       "        stim.PauliString(\"+_______XX\"),\n",
       "    ],\n",
       "    zs=[\n",
       "        stim.PauliString(\"+Z__Z__Z__\"),\n",
       "        stim.PauliString(\"+X__X_____\"),\n",
       "        stim.PauliString(\"+_XX_XX___\"),\n",
       "        stim.PauliString(\"+___XX_XX_\"),\n",
       "        stim.PauliString(\"+_____X__X\"),\n",
       "        stim.PauliString(\"+_ZZ______\"),\n",
       "        stim.PauliString(\"+____ZZ_ZZ\"),\n",
       "        stim.PauliString(\"+ZZ_ZZ____\"),\n",
       "        stim.PauliString(\"+______ZZ_\"),\n",
       "    ],\n",
       ")"
      ]
     },
     "execution_count": 342,
     "metadata": {},
     "output_type": "execute_result"
    }
   ],
   "source": [
    "surface_code.tableau"
   ]
  },
  {
   "cell_type": "code",
   "execution_count": 343,
   "metadata": {},
   "outputs": [
    {
     "data": {
      "text/plain": [
       "[stim.PauliString(\"+__ZZZ____\"),\n",
       " stim.PauliString(\"+__Z______\"),\n",
       " stim.PauliString(\"+__Z_Z____\"),\n",
       " stim.PauliString(\"+__Z__Z___\"),\n",
       " stim.PauliString(\"+XX____XXX\"),\n",
       " stim.PauliString(\"+________X\"),\n",
       " stim.PauliString(\"+X_____XXX\"),\n",
       " stim.PauliString(\"+_______XX\")]"
      ]
     },
     "execution_count": 343,
     "metadata": {},
     "output_type": "execute_result"
    }
   ],
   "source": [
    "surface_code.destabilizers"
   ]
  },
  {
   "cell_type": "code",
   "execution_count": 344,
   "metadata": {},
   "outputs": [
    {
     "data": {
      "text/plain": [
       "[stim.PauliString(\"+X__X_____\"),\n",
       " stim.PauliString(\"+_XX_XX___\"),\n",
       " stim.PauliString(\"+___XX_XX_\"),\n",
       " stim.PauliString(\"+_____X__X\"),\n",
       " stim.PauliString(\"+_ZZ______\"),\n",
       " stim.PauliString(\"+____ZZ_ZZ\"),\n",
       " stim.PauliString(\"+ZZ_ZZ____\"),\n",
       " stim.PauliString(\"+______ZZ_\")]"
      ]
     },
     "execution_count": 344,
     "metadata": {},
     "output_type": "execute_result"
    }
   ],
   "source": [
    "surface_code.stabilizer_generators"
   ]
  },
  {
   "cell_type": "code",
   "execution_count": 345,
   "metadata": {},
   "outputs": [
    {
     "data": {
      "text/plain": [
       "stim.PauliString(\"+X_Z__ZXXX\")"
      ]
     },
     "execution_count": 345,
     "metadata": {},
     "output_type": "execute_result"
    }
   ],
   "source": [
    "surface_code.syndrome_recovery(syndrome)"
   ]
  },
  {
   "cell_type": "code",
   "execution_count": 346,
   "metadata": {},
   "outputs": [
    {
     "data": {
      "text/plain": [
       "stim.Tableau.from_conjugated_generators(\n",
       "    xs=[\n",
       "        stim.PauliString(\"+X______XX\"),\n",
       "        stim.PauliString(\"+___Z__Z__\"),\n",
       "        stim.PauliString(\"+_Z_______\"),\n",
       "        stim.PauliString(\"+__Z______\"),\n",
       "        stim.PauliString(\"+______Z__\"),\n",
       "        stim.PauliString(\"+_Z__Z____\"),\n",
       "        stim.PauliString(\"+__Z__Z___\"),\n",
       "        stim.PauliString(\"+_______XX\"),\n",
       "        stim.PauliString(\"+________X\"),\n",
       "    ],\n",
       "    zs=[\n",
       "        stim.PauliString(\"+Z__Z__Z__\"),\n",
       "        stim.PauliString(\"+X__X_____\"),\n",
       "        stim.PauliString(\"+_X__X____\"),\n",
       "        stim.PauliString(\"+__X__X___\"),\n",
       "        stim.PauliString(\"+___X__X__\"),\n",
       "        stim.PauliString(\"+____X__X_\"),\n",
       "        stim.PauliString(\"+_____X__X\"),\n",
       "        stim.PauliString(\"+ZZ_ZZ_ZZ_\"),\n",
       "        stim.PauliString(\"+_ZZ_ZZ_ZZ\"),\n",
       "    ],\n",
       ")"
      ]
     },
     "execution_count": 346,
     "metadata": {},
     "output_type": "execute_result"
    }
   ],
   "source": [
    "shor_blue_code.tableau"
   ]
  },
  {
   "cell_type": "code",
   "execution_count": 347,
   "metadata": {},
   "outputs": [
    {
     "data": {
      "text/plain": [
       "stim.Tableau.from_conjugated_generators(\n",
       "    xs=[\n",
       "        stim.PauliString(\"+______XXX\"),\n",
       "        stim.PauliString(\"+_Z_______\"),\n",
       "        stim.PauliString(\"+_Z_Z_____\"),\n",
       "        stim.PauliString(\"+X_____XXX\"),\n",
       "        stim.PauliString(\"+__X______\"),\n",
       "        stim.PauliString(\"+____XX___\"),\n",
       "        stim.PauliString(\"+_______XX\"),\n",
       "        stim.PauliString(\"+_____X___\"),\n",
       "        stim.PauliString(\"+________X\"),\n",
       "    ],\n",
       "    zs=[\n",
       "        stim.PauliString(\"+Z__Z__Z__\"),\n",
       "        stim.PauliString(\"+XXXXXX___\"),\n",
       "        stim.PauliString(\"+___XXXXXX\"),\n",
       "        stim.PauliString(\"+ZZ_______\"),\n",
       "        stim.PauliString(\"+_ZZ______\"),\n",
       "        stim.PauliString(\"+___ZZ____\"),\n",
       "        stim.PauliString(\"+______ZZ_\"),\n",
       "        stim.PauliString(\"+____ZZ___\"),\n",
       "        stim.PauliString(\"+_______ZZ\"),\n",
       "    ],\n",
       ")"
      ]
     },
     "execution_count": 347,
     "metadata": {},
     "output_type": "execute_result"
    }
   ],
   "source": [
    "shor_red_code.tableau"
   ]
  },
  {
   "cell_type": "code",
   "execution_count": 348,
   "metadata": {},
   "outputs": [
    {
     "data": {
      "text/plain": [
       "stim.Tableau.from_conjugated_generators(\n",
       "    xs=[\n",
       "        stim.PauliString(\"+______XXX\"),\n",
       "        stim.PauliString(\"+__ZZZ____\"),\n",
       "        stim.PauliString(\"+__Z______\"),\n",
       "        stim.PauliString(\"+__Z_Z____\"),\n",
       "        stim.PauliString(\"+__Z__Z___\"),\n",
       "        stim.PauliString(\"+XX____XXX\"),\n",
       "        stim.PauliString(\"+________X\"),\n",
       "        stim.PauliString(\"+X_____XXX\"),\n",
       "        stim.PauliString(\"+_______XX\"),\n",
       "    ],\n",
       "    zs=[\n",
       "        stim.PauliString(\"+Z__Z__Z__\"),\n",
       "        stim.PauliString(\"+X__X_____\"),\n",
       "        stim.PauliString(\"+_XX_XX___\"),\n",
       "        stim.PauliString(\"+___XX_XX_\"),\n",
       "        stim.PauliString(\"+_____X__X\"),\n",
       "        stim.PauliString(\"+_ZZ______\"),\n",
       "        stim.PauliString(\"+____ZZ_ZZ\"),\n",
       "        stim.PauliString(\"+ZZ_ZZ____\"),\n",
       "        stim.PauliString(\"+______ZZ_\"),\n",
       "    ],\n",
       ")"
      ]
     },
     "execution_count": 348,
     "metadata": {},
     "output_type": "execute_result"
    }
   ],
   "source": [
    "surface_code.tableau"
   ]
  },
  {
   "cell_type": "code",
   "execution_count": 349,
   "metadata": {},
   "outputs": [],
   "source": [
    "from tqdm import tqdm"
   ]
  },
  {
   "cell_type": "code",
   "execution_count": 382,
   "metadata": {},
   "outputs": [],
   "source": [
    "noise = BiasedPauliNoise(0.0, 0.1, 9)"
   ]
  },
  {
   "cell_type": "code",
   "execution_count": 383,
   "metadata": {},
   "outputs": [],
   "source": [
    "joint_dist = surface_code.make_joint_distribution(noise)"
   ]
  },
  {
   "cell_type": "code",
   "execution_count": 384,
   "metadata": {},
   "outputs": [
    {
     "data": {
      "text/plain": [
       "{((0.0, 0.0, 0.0, 0.0, 0.0, 0.0, 0.0, 0.0), (0.0, 0.0)): 0.40157200000000015,\n",
       " ((0.0, 0.0, 0.0, 0.0, 0.0, 1.0, 0.0, 0.0), (0.0, 0.0)): 0.0,\n",
       " ((0.0, 0.0, 0.0, 1.0, 0.0, 1.0, 0.0, 0.0), (1.0, 0.0)): 0.0,\n",
       " ((0.0, 0.0, 0.0, 1.0, 0.0, 0.0, 0.0, 0.0), (1.0, 0.0)): 0.05533200000000003,\n",
       " ((0.0, 0.0, 0.0, 0.0, 0.0, 1.0, 0.0, 1.0), (0.0, 0.0)): 0.0,\n",
       " ((0.0, 0.0, 0.0, 0.0, 0.0, 0.0, 0.0, 1.0), (0.0, 0.0)): 0.0,\n",
       " ((0.0, 0.0, 0.0, 1.0, 0.0, 0.0, 0.0, 1.0), (1.0, 0.0)): 0.0,\n",
       " ((0.0, 0.0, 0.0, 1.0, 0.0, 1.0, 0.0, 1.0), (1.0, 0.0)): 0.0,\n",
       " ((0.0, 0.0, 1.0, 0.0, 0.0, 1.0, 0.0, 1.0), (1.0, 0.0)): 0.0,\n",
       " ((0.0, 0.0, 1.0, 0.0, 0.0, 0.0, 0.0, 1.0), (1.0, 0.0)): 0.0,\n",
       " ((0.0, 0.0, 1.0, 1.0, 0.0, 0.0, 0.0, 1.0), (0.0, 0.0)): 0.0,\n",
       " ((0.0, 0.0, 1.0, 1.0, 0.0, 1.0, 0.0, 1.0), (0.0, 0.0)): 0.0,\n",
       " ((0.0, 0.0, 1.0, 0.0, 0.0, 0.0, 0.0, 0.0), (1.0, 0.0)): 0.10256400000000009,\n",
       " ((0.0, 0.0, 1.0, 0.0, 0.0, 1.0, 0.0, 0.0), (1.0, 0.0)): 0.0,\n",
       " ((0.0, 0.0, 1.0, 1.0, 0.0, 1.0, 0.0, 0.0), (0.0, 0.0)): 0.0,\n",
       " ((0.0, 0.0, 1.0, 1.0, 0.0, 0.0, 0.0, 0.0), (0.0, 0.0)): 0.018468,\n",
       " ((0.0, 1.0, 0.0, 1.0, 0.0, 1.0, 0.0, 0.0), (0.0, 0.0)): 0.0,\n",
       " ((0.0, 1.0, 0.0, 1.0, 0.0, 0.0, 0.0, 0.0), (0.0, 0.0)): 0.055332000000000034,\n",
       " ((0.0, 1.0, 0.0, 0.0, 0.0, 0.0, 0.0, 0.0), (1.0, 0.0)): 0.1025640000000001,\n",
       " ((0.0, 1.0, 0.0, 0.0, 0.0, 1.0, 0.0, 0.0), (1.0, 0.0)): 0.0,\n",
       " ((0.0, 1.0, 0.0, 1.0, 0.0, 0.0, 0.0, 1.0), (0.0, 0.0)): 0.0,\n",
       " ((0.0, 1.0, 0.0, 1.0, 0.0, 1.0, 0.0, 1.0), (0.0, 0.0)): 0.0,\n",
       " ((0.0, 1.0, 0.0, 0.0, 0.0, 1.0, 0.0, 1.0), (1.0, 0.0)): 0.0,\n",
       " ((0.0, 1.0, 0.0, 0.0, 0.0, 0.0, 0.0, 1.0), (1.0, 0.0)): 0.0,\n",
       " ((0.0, 1.0, 1.0, 1.0, 0.0, 0.0, 0.0, 1.0), (1.0, 0.0)): 0.0,\n",
       " ((0.0, 1.0, 1.0, 1.0, 0.0, 1.0, 0.0, 1.0), (1.0, 0.0)): 0.0,\n",
       " ((0.0, 1.0, 1.0, 0.0, 0.0, 1.0, 0.0, 1.0), (0.0, 0.0)): 0.0,\n",
       " ((0.0, 1.0, 1.0, 0.0, 0.0, 0.0, 0.0, 1.0), (0.0, 0.0)): 0.0,\n",
       " ((0.0, 1.0, 1.0, 1.0, 0.0, 1.0, 0.0, 0.0), (1.0, 0.0)): 0.0,\n",
       " ((0.0, 1.0, 1.0, 1.0, 0.0, 0.0, 0.0, 0.0), (1.0, 0.0)): 0.018468000000000002,\n",
       " ((0.0, 1.0, 1.0, 0.0, 0.0, 0.0, 0.0, 0.0), (0.0, 0.0)): 0.06570000000000006,\n",
       " ((0.0, 1.0, 1.0, 0.0, 0.0, 1.0, 0.0, 0.0), (0.0, 0.0)): 0.0,\n",
       " ((0.0, 0.0, 0.0, 0.0, 0.0, 1.0, 1.0, 0.0), (0.0, 0.0)): 0.0,\n",
       " ((0.0, 0.0, 0.0, 0.0, 0.0, 0.0, 1.0, 0.0), (0.0, 0.0)): 0.0,\n",
       " ((0.0, 0.0, 0.0, 1.0, 0.0, 0.0, 1.0, 0.0), (1.0, 0.0)): 0.0,\n",
       " ((0.0, 0.0, 0.0, 1.0, 0.0, 1.0, 1.0, 0.0), (1.0, 0.0)): 0.0,\n",
       " ((0.0, 0.0, 0.0, 0.0, 0.0, 0.0, 1.0, 1.0), (0.0, 0.0)): 0.0,\n",
       " ((0.0, 0.0, 0.0, 0.0, 0.0, 1.0, 1.0, 1.0), (0.0, 0.0)): 0.0,\n",
       " ((0.0, 0.0, 0.0, 1.0, 0.0, 1.0, 1.0, 1.0), (1.0, 0.0)): 0.0,\n",
       " ((0.0, 0.0, 0.0, 1.0, 0.0, 0.0, 1.0, 1.0), (1.0, 0.0)): 0.0,\n",
       " ((0.0, 0.0, 1.0, 0.0, 0.0, 0.0, 1.0, 1.0), (1.0, 0.0)): 0.0,\n",
       " ((0.0, 0.0, 1.0, 0.0, 0.0, 1.0, 1.0, 1.0), (1.0, 0.0)): 0.0,\n",
       " ((0.0, 0.0, 1.0, 1.0, 0.0, 1.0, 1.0, 1.0), (0.0, 0.0)): 0.0,\n",
       " ((0.0, 0.0, 1.0, 1.0, 0.0, 0.0, 1.0, 1.0), (0.0, 0.0)): 0.0,\n",
       " ((0.0, 0.0, 1.0, 0.0, 0.0, 1.0, 1.0, 0.0), (1.0, 0.0)): 0.0,\n",
       " ((0.0, 0.0, 1.0, 0.0, 0.0, 0.0, 1.0, 0.0), (1.0, 0.0)): 0.0,\n",
       " ((0.0, 0.0, 1.0, 1.0, 0.0, 0.0, 1.0, 0.0), (0.0, 0.0)): 0.0,\n",
       " ((0.0, 0.0, 1.0, 1.0, 0.0, 1.0, 1.0, 0.0), (0.0, 0.0)): 0.0,\n",
       " ((0.0, 1.0, 0.0, 1.0, 0.0, 0.0, 1.0, 0.0), (0.0, 0.0)): 0.0,\n",
       " ((0.0, 1.0, 0.0, 1.0, 0.0, 1.0, 1.0, 0.0), (0.0, 0.0)): 0.0,\n",
       " ((0.0, 1.0, 0.0, 0.0, 0.0, 1.0, 1.0, 0.0), (1.0, 0.0)): 0.0,\n",
       " ((0.0, 1.0, 0.0, 0.0, 0.0, 0.0, 1.0, 0.0), (1.0, 0.0)): 0.0,\n",
       " ((0.0, 1.0, 0.0, 1.0, 0.0, 1.0, 1.0, 1.0), (0.0, 0.0)): 0.0,\n",
       " ((0.0, 1.0, 0.0, 1.0, 0.0, 0.0, 1.0, 1.0), (0.0, 0.0)): 0.0,\n",
       " ((0.0, 1.0, 0.0, 0.0, 0.0, 0.0, 1.0, 1.0), (1.0, 0.0)): 0.0,\n",
       " ((0.0, 1.0, 0.0, 0.0, 0.0, 1.0, 1.0, 1.0), (1.0, 0.0)): 0.0,\n",
       " ((0.0, 1.0, 1.0, 1.0, 0.0, 1.0, 1.0, 1.0), (1.0, 0.0)): 0.0,\n",
       " ((0.0, 1.0, 1.0, 1.0, 0.0, 0.0, 1.0, 1.0), (1.0, 0.0)): 0.0,\n",
       " ((0.0, 1.0, 1.0, 0.0, 0.0, 0.0, 1.0, 1.0), (0.0, 0.0)): 0.0,\n",
       " ((0.0, 1.0, 1.0, 0.0, 0.0, 1.0, 1.0, 1.0), (0.0, 0.0)): 0.0,\n",
       " ((0.0, 1.0, 1.0, 1.0, 0.0, 0.0, 1.0, 0.0), (1.0, 0.0)): 0.0,\n",
       " ((0.0, 1.0, 1.0, 1.0, 0.0, 1.0, 1.0, 0.0), (1.0, 0.0)): 0.0,\n",
       " ((0.0, 1.0, 1.0, 0.0, 0.0, 1.0, 1.0, 0.0), (0.0, 0.0)): 0.0,\n",
       " ((0.0, 1.0, 1.0, 0.0, 0.0, 0.0, 1.0, 0.0), (0.0, 0.0)): 0.0,\n",
       " ((1.0, 0.0, 1.0, 0.0, 0.0, 0.0, 1.0, 0.0), (0.0, 0.0)): 0.0,\n",
       " ((1.0, 0.0, 1.0, 0.0, 0.0, 1.0, 1.0, 0.0), (0.0, 0.0)): 0.0,\n",
       " ((1.0, 0.0, 1.0, 1.0, 0.0, 1.0, 1.0, 0.0), (1.0, 0.0)): 0.0,\n",
       " ((1.0, 0.0, 1.0, 1.0, 0.0, 0.0, 1.0, 0.0), (1.0, 0.0)): 0.0,\n",
       " ((1.0, 0.0, 1.0, 0.0, 0.0, 1.0, 1.0, 1.0), (0.0, 0.0)): 0.0,\n",
       " ((1.0, 0.0, 1.0, 0.0, 0.0, 0.0, 1.0, 1.0), (0.0, 0.0)): 0.0,\n",
       " ((1.0, 0.0, 1.0, 1.0, 0.0, 0.0, 1.0, 1.0), (1.0, 0.0)): 0.0,\n",
       " ((1.0, 0.0, 1.0, 1.0, 0.0, 1.0, 1.0, 1.0), (1.0, 0.0)): 0.0,\n",
       " ((1.0, 0.0, 0.0, 0.0, 0.0, 1.0, 1.0, 1.0), (1.0, 0.0)): 0.0,\n",
       " ((1.0, 0.0, 0.0, 0.0, 0.0, 0.0, 1.0, 1.0), (1.0, 0.0)): 0.0,\n",
       " ((1.0, 0.0, 0.0, 1.0, 0.0, 0.0, 1.0, 1.0), (0.0, 0.0)): 0.0,\n",
       " ((1.0, 0.0, 0.0, 1.0, 0.0, 1.0, 1.0, 1.0), (0.0, 0.0)): 0.0,\n",
       " ((1.0, 0.0, 0.0, 0.0, 0.0, 0.0, 1.0, 0.0), (1.0, 0.0)): 0.0,\n",
       " ((1.0, 0.0, 0.0, 0.0, 0.0, 1.0, 1.0, 0.0), (1.0, 0.0)): 0.0,\n",
       " ((1.0, 0.0, 0.0, 1.0, 0.0, 1.0, 1.0, 0.0), (0.0, 0.0)): 0.0,\n",
       " ((1.0, 0.0, 0.0, 1.0, 0.0, 0.0, 1.0, 0.0), (0.0, 0.0)): 0.0,\n",
       " ((1.0, 1.0, 1.0, 1.0, 0.0, 1.0, 1.0, 0.0), (0.0, 0.0)): 0.0,\n",
       " ((1.0, 1.0, 1.0, 1.0, 0.0, 0.0, 1.0, 0.0), (0.0, 0.0)): 0.0,\n",
       " ((1.0, 1.0, 1.0, 0.0, 0.0, 0.0, 1.0, 0.0), (1.0, 0.0)): 0.0,\n",
       " ((1.0, 1.0, 1.0, 0.0, 0.0, 1.0, 1.0, 0.0), (1.0, 0.0)): 0.0,\n",
       " ((1.0, 1.0, 1.0, 1.0, 0.0, 0.0, 1.0, 1.0), (0.0, 0.0)): 0.0,\n",
       " ((1.0, 1.0, 1.0, 1.0, 0.0, 1.0, 1.0, 1.0), (0.0, 0.0)): 0.0,\n",
       " ((1.0, 1.0, 1.0, 0.0, 0.0, 1.0, 1.0, 1.0), (1.0, 0.0)): 0.0,\n",
       " ((1.0, 1.0, 1.0, 0.0, 0.0, 0.0, 1.0, 1.0), (1.0, 0.0)): 0.0,\n",
       " ((1.0, 1.0, 0.0, 1.0, 0.0, 0.0, 1.0, 1.0), (1.0, 0.0)): 0.0,\n",
       " ((1.0, 1.0, 0.0, 1.0, 0.0, 1.0, 1.0, 1.0), (1.0, 0.0)): 0.0,\n",
       " ((1.0, 1.0, 0.0, 0.0, 0.0, 1.0, 1.0, 1.0), (0.0, 0.0)): 0.0,\n",
       " ((1.0, 1.0, 0.0, 0.0, 0.0, 0.0, 1.0, 1.0), (0.0, 0.0)): 0.0,\n",
       " ((1.0, 1.0, 0.0, 1.0, 0.0, 1.0, 1.0, 0.0), (1.0, 0.0)): 0.0,\n",
       " ((1.0, 1.0, 0.0, 1.0, 0.0, 0.0, 1.0, 0.0), (1.0, 0.0)): 0.0,\n",
       " ((1.0, 1.0, 0.0, 0.0, 0.0, 0.0, 1.0, 0.0), (0.0, 0.0)): 0.0,\n",
       " ((1.0, 1.0, 0.0, 0.0, 0.0, 1.0, 1.0, 0.0), (0.0, 0.0)): 0.0,\n",
       " ((1.0, 0.0, 1.0, 0.0, 0.0, 1.0, 0.0, 0.0), (0.0, 0.0)): 0.0,\n",
       " ((1.0, 0.0, 1.0, 0.0, 0.0, 0.0, 0.0, 0.0), (0.0, 0.0)): 0.05533200000000002,\n",
       " ((1.0, 0.0, 1.0, 1.0, 0.0, 0.0, 0.0, 0.0), (1.0, 0.0)): 0.00810000000000001,\n",
       " ((1.0, 0.0, 1.0, 1.0, 0.0, 1.0, 0.0, 0.0), (1.0, 0.0)): 0.0,\n",
       " ((1.0, 0.0, 1.0, 0.0, 0.0, 0.0, 0.0, 1.0), (0.0, 0.0)): 0.0,\n",
       " ((1.0, 0.0, 1.0, 0.0, 0.0, 1.0, 0.0, 1.0), (0.0, 0.0)): 0.0,\n",
       " ((1.0, 0.0, 1.0, 1.0, 0.0, 1.0, 0.0, 1.0), (1.0, 0.0)): 0.0,\n",
       " ((1.0, 0.0, 1.0, 1.0, 0.0, 0.0, 0.0, 1.0), (1.0, 0.0)): 0.0,\n",
       " ((1.0, 0.0, 0.0, 0.0, 0.0, 0.0, 0.0, 1.0), (1.0, 0.0)): 0.0,\n",
       " ((1.0, 0.0, 0.0, 0.0, 0.0, 1.0, 0.0, 1.0), (1.0, 0.0)): 0.0,\n",
       " ((1.0, 0.0, 0.0, 1.0, 0.0, 1.0, 0.0, 1.0), (0.0, 0.0)): 0.0,\n",
       " ((1.0, 0.0, 0.0, 1.0, 0.0, 0.0, 0.0, 1.0), (0.0, 0.0)): 0.0,\n",
       " ((1.0, 0.0, 0.0, 0.0, 0.0, 1.0, 0.0, 0.0), (1.0, 0.0)): 0.0,\n",
       " ((1.0, 0.0, 0.0, 0.0, 0.0, 0.0, 0.0, 0.0), (1.0, 0.0)): 0.05533200000000002,\n",
       " ((1.0, 0.0, 0.0, 1.0, 0.0, 0.0, 0.0, 0.0), (0.0, 0.0)): 0.008100000000000007,\n",
       " ((1.0, 0.0, 0.0, 1.0, 0.0, 1.0, 0.0, 0.0), (0.0, 0.0)): 0.0,\n",
       " ((1.0, 1.0, 1.0, 1.0, 0.0, 0.0, 0.0, 0.0), (0.0, 0.0)): 0.00810000000000001,\n",
       " ((1.0, 1.0, 1.0, 1.0, 0.0, 1.0, 0.0, 0.0), (0.0, 0.0)): 0.0,\n",
       " ((1.0, 1.0, 1.0, 0.0, 0.0, 1.0, 0.0, 0.0), (1.0, 0.0)): 0.0,\n",
       " ((1.0, 1.0, 1.0, 0.0, 0.0, 0.0, 0.0, 0.0), (1.0, 0.0)): 0.01846800000000001,\n",
       " ((1.0, 1.0, 1.0, 1.0, 0.0, 1.0, 0.0, 1.0), (0.0, 0.0)): 0.0,\n",
       " ((1.0, 1.0, 1.0, 1.0, 0.0, 0.0, 0.0, 1.0), (0.0, 0.0)): 0.0,\n",
       " ((1.0, 1.0, 1.0, 0.0, 0.0, 0.0, 0.0, 1.0), (1.0, 0.0)): 0.0,\n",
       " ((1.0, 1.0, 1.0, 0.0, 0.0, 1.0, 0.0, 1.0), (1.0, 0.0)): 0.0,\n",
       " ((1.0, 1.0, 0.0, 1.0, 0.0, 1.0, 0.0, 1.0), (1.0, 0.0)): 0.0,\n",
       " ((1.0, 1.0, 0.0, 1.0, 0.0, 0.0, 0.0, 1.0), (1.0, 0.0)): 0.0,\n",
       " ((1.0, 1.0, 0.0, 0.0, 0.0, 0.0, 0.0, 1.0), (0.0, 0.0)): 0.0,\n",
       " ((1.0, 1.0, 0.0, 0.0, 0.0, 1.0, 0.0, 1.0), (0.0, 0.0)): 0.0,\n",
       " ((1.0, 1.0, 0.0, 1.0, 0.0, 0.0, 0.0, 0.0), (1.0, 0.0)): 0.008100000000000007,\n",
       " ((1.0, 1.0, 0.0, 1.0, 0.0, 1.0, 0.0, 0.0), (1.0, 0.0)): 0.0,\n",
       " ((1.0, 1.0, 0.0, 0.0, 0.0, 1.0, 0.0, 0.0), (0.0, 0.0)): 0.0,\n",
       " ((1.0, 1.0, 0.0, 0.0, 0.0, 0.0, 0.0, 0.0), (0.0, 0.0)): 0.018468000000000005,\n",
       " ((0.0, 0.0, 0.0, 0.0, 1.0, 0.0, 0.0, 0.0), (0.0, 0.0)): 0.0,\n",
       " ((0.0, 0.0, 0.0, 0.0, 1.0, 1.0, 0.0, 0.0), (0.0, 0.0)): 0.0,\n",
       " ((0.0, 0.0, 0.0, 1.0, 1.0, 1.0, 0.0, 0.0), (1.0, 0.0)): 0.0,\n",
       " ((0.0, 0.0, 0.0, 1.0, 1.0, 0.0, 0.0, 0.0), (1.0, 0.0)): 0.0,\n",
       " ((0.0, 0.0, 0.0, 0.0, 1.0, 1.0, 0.0, 1.0), (0.0, 0.0)): 0.0,\n",
       " ((0.0, 0.0, 0.0, 0.0, 1.0, 0.0, 0.0, 1.0), (0.0, 0.0)): 0.0,\n",
       " ((0.0, 0.0, 0.0, 1.0, 1.0, 0.0, 0.0, 1.0), (1.0, 0.0)): 0.0,\n",
       " ((0.0, 0.0, 0.0, 1.0, 1.0, 1.0, 0.0, 1.0), (1.0, 0.0)): 0.0,\n",
       " ((0.0, 0.0, 1.0, 0.0, 1.0, 1.0, 0.0, 1.0), (1.0, 0.0)): 0.0,\n",
       " ((0.0, 0.0, 1.0, 0.0, 1.0, 0.0, 0.0, 1.0), (1.0, 0.0)): 0.0,\n",
       " ((0.0, 0.0, 1.0, 1.0, 1.0, 0.0, 0.0, 1.0), (0.0, 0.0)): 0.0,\n",
       " ((0.0, 0.0, 1.0, 1.0, 1.0, 1.0, 0.0, 1.0), (0.0, 0.0)): 0.0,\n",
       " ((0.0, 0.0, 1.0, 0.0, 1.0, 0.0, 0.0, 0.0), (1.0, 0.0)): 0.0,\n",
       " ((0.0, 0.0, 1.0, 0.0, 1.0, 1.0, 0.0, 0.0), (1.0, 0.0)): 0.0,\n",
       " ((0.0, 0.0, 1.0, 1.0, 1.0, 1.0, 0.0, 0.0), (0.0, 0.0)): 0.0,\n",
       " ((0.0, 0.0, 1.0, 1.0, 1.0, 0.0, 0.0, 0.0), (0.0, 0.0)): 0.0,\n",
       " ((0.0, 1.0, 0.0, 1.0, 1.0, 1.0, 0.0, 0.0), (0.0, 0.0)): 0.0,\n",
       " ((0.0, 1.0, 0.0, 1.0, 1.0, 0.0, 0.0, 0.0), (0.0, 0.0)): 0.0,\n",
       " ((0.0, 1.0, 0.0, 0.0, 1.0, 0.0, 0.0, 0.0), (1.0, 0.0)): 0.0,\n",
       " ((0.0, 1.0, 0.0, 0.0, 1.0, 1.0, 0.0, 0.0), (1.0, 0.0)): 0.0,\n",
       " ((0.0, 1.0, 0.0, 1.0, 1.0, 0.0, 0.0, 1.0), (0.0, 0.0)): 0.0,\n",
       " ((0.0, 1.0, 0.0, 1.0, 1.0, 1.0, 0.0, 1.0), (0.0, 0.0)): 0.0,\n",
       " ((0.0, 1.0, 0.0, 0.0, 1.0, 1.0, 0.0, 1.0), (1.0, 0.0)): 0.0,\n",
       " ((0.0, 1.0, 0.0, 0.0, 1.0, 0.0, 0.0, 1.0), (1.0, 0.0)): 0.0,\n",
       " ((0.0, 1.0, 1.0, 1.0, 1.0, 0.0, 0.0, 1.0), (1.0, 0.0)): 0.0,\n",
       " ((0.0, 1.0, 1.0, 1.0, 1.0, 1.0, 0.0, 1.0), (1.0, 0.0)): 0.0,\n",
       " ((0.0, 1.0, 1.0, 0.0, 1.0, 1.0, 0.0, 1.0), (0.0, 0.0)): 0.0,\n",
       " ((0.0, 1.0, 1.0, 0.0, 1.0, 0.0, 0.0, 1.0), (0.0, 0.0)): 0.0,\n",
       " ((0.0, 1.0, 1.0, 1.0, 1.0, 1.0, 0.0, 0.0), (1.0, 0.0)): 0.0,\n",
       " ((0.0, 1.0, 1.0, 1.0, 1.0, 0.0, 0.0, 0.0), (1.0, 0.0)): 0.0,\n",
       " ((0.0, 1.0, 1.0, 0.0, 1.0, 0.0, 0.0, 0.0), (0.0, 0.0)): 0.0,\n",
       " ((0.0, 1.0, 1.0, 0.0, 1.0, 1.0, 0.0, 0.0), (0.0, 0.0)): 0.0,\n",
       " ((0.0, 0.0, 0.0, 0.0, 1.0, 1.0, 1.0, 0.0), (0.0, 0.0)): 0.0,\n",
       " ((0.0, 0.0, 0.0, 0.0, 1.0, 0.0, 1.0, 0.0), (0.0, 0.0)): 0.0,\n",
       " ((0.0, 0.0, 0.0, 1.0, 1.0, 0.0, 1.0, 0.0), (1.0, 0.0)): 0.0,\n",
       " ((0.0, 0.0, 0.0, 1.0, 1.0, 1.0, 1.0, 0.0), (1.0, 0.0)): 0.0,\n",
       " ((0.0, 0.0, 0.0, 0.0, 1.0, 0.0, 1.0, 1.0), (0.0, 0.0)): 0.0,\n",
       " ((0.0, 0.0, 0.0, 0.0, 1.0, 1.0, 1.0, 1.0), (0.0, 0.0)): 0.0,\n",
       " ((0.0, 0.0, 0.0, 1.0, 1.0, 1.0, 1.0, 1.0), (1.0, 0.0)): 0.0,\n",
       " ((0.0, 0.0, 0.0, 1.0, 1.0, 0.0, 1.0, 1.0), (1.0, 0.0)): 0.0,\n",
       " ((0.0, 0.0, 1.0, 0.0, 1.0, 0.0, 1.0, 1.0), (1.0, 0.0)): 0.0,\n",
       " ((0.0, 0.0, 1.0, 0.0, 1.0, 1.0, 1.0, 1.0), (1.0, 0.0)): 0.0,\n",
       " ((0.0, 0.0, 1.0, 1.0, 1.0, 1.0, 1.0, 1.0), (0.0, 0.0)): 0.0,\n",
       " ((0.0, 0.0, 1.0, 1.0, 1.0, 0.0, 1.0, 1.0), (0.0, 0.0)): 0.0,\n",
       " ((0.0, 0.0, 1.0, 0.0, 1.0, 1.0, 1.0, 0.0), (1.0, 0.0)): 0.0,\n",
       " ((0.0, 0.0, 1.0, 0.0, 1.0, 0.0, 1.0, 0.0), (1.0, 0.0)): 0.0,\n",
       " ((0.0, 0.0, 1.0, 1.0, 1.0, 0.0, 1.0, 0.0), (0.0, 0.0)): 0.0,\n",
       " ((0.0, 0.0, 1.0, 1.0, 1.0, 1.0, 1.0, 0.0), (0.0, 0.0)): 0.0,\n",
       " ((0.0, 1.0, 0.0, 1.0, 1.0, 0.0, 1.0, 0.0), (0.0, 0.0)): 0.0,\n",
       " ((0.0, 1.0, 0.0, 1.0, 1.0, 1.0, 1.0, 0.0), (0.0, 0.0)): 0.0,\n",
       " ((0.0, 1.0, 0.0, 0.0, 1.0, 1.0, 1.0, 0.0), (1.0, 0.0)): 0.0,\n",
       " ((0.0, 1.0, 0.0, 0.0, 1.0, 0.0, 1.0, 0.0), (1.0, 0.0)): 0.0,\n",
       " ((0.0, 1.0, 0.0, 1.0, 1.0, 1.0, 1.0, 1.0), (0.0, 0.0)): 0.0,\n",
       " ((0.0, 1.0, 0.0, 1.0, 1.0, 0.0, 1.0, 1.0), (0.0, 0.0)): 0.0,\n",
       " ((0.0, 1.0, 0.0, 0.0, 1.0, 0.0, 1.0, 1.0), (1.0, 0.0)): 0.0,\n",
       " ((0.0, 1.0, 0.0, 0.0, 1.0, 1.0, 1.0, 1.0), (1.0, 0.0)): 0.0,\n",
       " ((0.0, 1.0, 1.0, 1.0, 1.0, 1.0, 1.0, 1.0), (1.0, 0.0)): 0.0,\n",
       " ((0.0, 1.0, 1.0, 1.0, 1.0, 0.0, 1.0, 1.0), (1.0, 0.0)): 0.0,\n",
       " ((0.0, 1.0, 1.0, 0.0, 1.0, 0.0, 1.0, 1.0), (0.0, 0.0)): 0.0,\n",
       " ((0.0, 1.0, 1.0, 0.0, 1.0, 1.0, 1.0, 1.0), (0.0, 0.0)): 0.0,\n",
       " ((0.0, 1.0, 1.0, 1.0, 1.0, 0.0, 1.0, 0.0), (1.0, 0.0)): 0.0,\n",
       " ((0.0, 1.0, 1.0, 1.0, 1.0, 1.0, 1.0, 0.0), (1.0, 0.0)): 0.0,\n",
       " ((0.0, 1.0, 1.0, 0.0, 1.0, 1.0, 1.0, 0.0), (0.0, 0.0)): 0.0,\n",
       " ((0.0, 1.0, 1.0, 0.0, 1.0, 0.0, 1.0, 0.0), (0.0, 0.0)): 0.0,\n",
       " ((1.0, 0.0, 1.0, 0.0, 1.0, 0.0, 1.0, 0.0), (0.0, 0.0)): 0.0,\n",
       " ((1.0, 0.0, 1.0, 0.0, 1.0, 1.0, 1.0, 0.0), (0.0, 0.0)): 0.0,\n",
       " ((1.0, 0.0, 1.0, 1.0, 1.0, 1.0, 1.0, 0.0), (1.0, 0.0)): 0.0,\n",
       " ((1.0, 0.0, 1.0, 1.0, 1.0, 0.0, 1.0, 0.0), (1.0, 0.0)): 0.0,\n",
       " ((1.0, 0.0, 1.0, 0.0, 1.0, 1.0, 1.0, 1.0), (0.0, 0.0)): 0.0,\n",
       " ((1.0, 0.0, 1.0, 0.0, 1.0, 0.0, 1.0, 1.0), (0.0, 0.0)): 0.0,\n",
       " ((1.0, 0.0, 1.0, 1.0, 1.0, 0.0, 1.0, 1.0), (1.0, 0.0)): 0.0,\n",
       " ((1.0, 0.0, 1.0, 1.0, 1.0, 1.0, 1.0, 1.0), (1.0, 0.0)): 0.0,\n",
       " ((1.0, 0.0, 0.0, 0.0, 1.0, 1.0, 1.0, 1.0), (1.0, 0.0)): 0.0,\n",
       " ((1.0, 0.0, 0.0, 0.0, 1.0, 0.0, 1.0, 1.0), (1.0, 0.0)): 0.0,\n",
       " ((1.0, 0.0, 0.0, 1.0, 1.0, 0.0, 1.0, 1.0), (0.0, 0.0)): 0.0,\n",
       " ((1.0, 0.0, 0.0, 1.0, 1.0, 1.0, 1.0, 1.0), (0.0, 0.0)): 0.0,\n",
       " ((1.0, 0.0, 0.0, 0.0, 1.0, 0.0, 1.0, 0.0), (1.0, 0.0)): 0.0,\n",
       " ((1.0, 0.0, 0.0, 0.0, 1.0, 1.0, 1.0, 0.0), (1.0, 0.0)): 0.0,\n",
       " ((1.0, 0.0, 0.0, 1.0, 1.0, 1.0, 1.0, 0.0), (0.0, 0.0)): 0.0,\n",
       " ((1.0, 0.0, 0.0, 1.0, 1.0, 0.0, 1.0, 0.0), (0.0, 0.0)): 0.0,\n",
       " ((1.0, 1.0, 1.0, 1.0, 1.0, 1.0, 1.0, 0.0), (0.0, 0.0)): 0.0,\n",
       " ((1.0, 1.0, 1.0, 1.0, 1.0, 0.0, 1.0, 0.0), (0.0, 0.0)): 0.0,\n",
       " ((1.0, 1.0, 1.0, 0.0, 1.0, 0.0, 1.0, 0.0), (1.0, 0.0)): 0.0,\n",
       " ((1.0, 1.0, 1.0, 0.0, 1.0, 1.0, 1.0, 0.0), (1.0, 0.0)): 0.0,\n",
       " ((1.0, 1.0, 1.0, 1.0, 1.0, 0.0, 1.0, 1.0), (0.0, 0.0)): 0.0,\n",
       " ((1.0, 1.0, 1.0, 1.0, 1.0, 1.0, 1.0, 1.0), (0.0, 0.0)): 0.0,\n",
       " ((1.0, 1.0, 1.0, 0.0, 1.0, 1.0, 1.0, 1.0), (1.0, 0.0)): 0.0,\n",
       " ((1.0, 1.0, 1.0, 0.0, 1.0, 0.0, 1.0, 1.0), (1.0, 0.0)): 0.0,\n",
       " ((1.0, 1.0, 0.0, 1.0, 1.0, 0.0, 1.0, 1.0), (1.0, 0.0)): 0.0,\n",
       " ((1.0, 1.0, 0.0, 1.0, 1.0, 1.0, 1.0, 1.0), (1.0, 0.0)): 0.0,\n",
       " ((1.0, 1.0, 0.0, 0.0, 1.0, 1.0, 1.0, 1.0), (0.0, 0.0)): 0.0,\n",
       " ((1.0, 1.0, 0.0, 0.0, 1.0, 0.0, 1.0, 1.0), (0.0, 0.0)): 0.0,\n",
       " ((1.0, 1.0, 0.0, 1.0, 1.0, 1.0, 1.0, 0.0), (1.0, 0.0)): 0.0,\n",
       " ((1.0, 1.0, 0.0, 1.0, 1.0, 0.0, 1.0, 0.0), (1.0, 0.0)): 0.0,\n",
       " ((1.0, 1.0, 0.0, 0.0, 1.0, 0.0, 1.0, 0.0), (0.0, 0.0)): 0.0,\n",
       " ((1.0, 1.0, 0.0, 0.0, 1.0, 1.0, 1.0, 0.0), (0.0, 0.0)): 0.0,\n",
       " ((1.0, 0.0, 1.0, 0.0, 1.0, 1.0, 0.0, 0.0), (0.0, 0.0)): 0.0,\n",
       " ((1.0, 0.0, 1.0, 0.0, 1.0, 0.0, 0.0, 0.0), (0.0, 0.0)): 0.0,\n",
       " ((1.0, 0.0, 1.0, 1.0, 1.0, 0.0, 0.0, 0.0), (1.0, 0.0)): 0.0,\n",
       " ((1.0, 0.0, 1.0, 1.0, 1.0, 1.0, 0.0, 0.0), (1.0, 0.0)): 0.0,\n",
       " ((1.0, 0.0, 1.0, 0.0, 1.0, 0.0, 0.0, 1.0), (0.0, 0.0)): 0.0,\n",
       " ((1.0, 0.0, 1.0, 0.0, 1.0, 1.0, 0.0, 1.0), (0.0, 0.0)): 0.0,\n",
       " ((1.0, 0.0, 1.0, 1.0, 1.0, 1.0, 0.0, 1.0), (1.0, 0.0)): 0.0,\n",
       " ((1.0, 0.0, 1.0, 1.0, 1.0, 0.0, 0.0, 1.0), (1.0, 0.0)): 0.0,\n",
       " ((1.0, 0.0, 0.0, 0.0, 1.0, 0.0, 0.0, 1.0), (1.0, 0.0)): 0.0,\n",
       " ((1.0, 0.0, 0.0, 0.0, 1.0, 1.0, 0.0, 1.0), (1.0, 0.0)): 0.0,\n",
       " ((1.0, 0.0, 0.0, 1.0, 1.0, 1.0, 0.0, 1.0), (0.0, 0.0)): 0.0,\n",
       " ((1.0, 0.0, 0.0, 1.0, 1.0, 0.0, 0.0, 1.0), (0.0, 0.0)): 0.0,\n",
       " ((1.0, 0.0, 0.0, 0.0, 1.0, 1.0, 0.0, 0.0), (1.0, 0.0)): 0.0,\n",
       " ((1.0, 0.0, 0.0, 0.0, 1.0, 0.0, 0.0, 0.0), (1.0, 0.0)): 0.0,\n",
       " ((1.0, 0.0, 0.0, 1.0, 1.0, 0.0, 0.0, 0.0), (0.0, 0.0)): 0.0,\n",
       " ((1.0, 0.0, 0.0, 1.0, 1.0, 1.0, 0.0, 0.0), (0.0, 0.0)): 0.0,\n",
       " ((1.0, 1.0, 1.0, 1.0, 1.0, 0.0, 0.0, 0.0), (0.0, 0.0)): 0.0,\n",
       " ((1.0, 1.0, 1.0, 1.0, 1.0, 1.0, 0.0, 0.0), (0.0, 0.0)): 0.0,\n",
       " ((1.0, 1.0, 1.0, 0.0, 1.0, 1.0, 0.0, 0.0), (1.0, 0.0)): 0.0,\n",
       " ((1.0, 1.0, 1.0, 0.0, 1.0, 0.0, 0.0, 0.0), (1.0, 0.0)): 0.0,\n",
       " ((1.0, 1.0, 1.0, 1.0, 1.0, 1.0, 0.0, 1.0), (0.0, 0.0)): 0.0,\n",
       " ((1.0, 1.0, 1.0, 1.0, 1.0, 0.0, 0.0, 1.0), (0.0, 0.0)): 0.0,\n",
       " ((1.0, 1.0, 1.0, 0.0, 1.0, 0.0, 0.0, 1.0), (1.0, 0.0)): 0.0,\n",
       " ((1.0, 1.0, 1.0, 0.0, 1.0, 1.0, 0.0, 1.0), (1.0, 0.0)): 0.0,\n",
       " ((1.0, 1.0, 0.0, 1.0, 1.0, 1.0, 0.0, 1.0), (1.0, 0.0)): 0.0,\n",
       " ((1.0, 1.0, 0.0, 1.0, 1.0, 0.0, 0.0, 1.0), (1.0, 0.0)): 0.0,\n",
       " ((1.0, 1.0, 0.0, 0.0, 1.0, 0.0, 0.0, 1.0), (0.0, 0.0)): 0.0,\n",
       " ((1.0, 1.0, 0.0, 0.0, 1.0, 1.0, 0.0, 1.0), (0.0, 0.0)): 0.0,\n",
       " ((1.0, 1.0, 0.0, 1.0, 1.0, 0.0, 0.0, 0.0), (1.0, 0.0)): 0.0,\n",
       " ((1.0, 1.0, 0.0, 1.0, 1.0, 1.0, 0.0, 0.0), (1.0, 0.0)): 0.0,\n",
       " ((1.0, 1.0, 0.0, 0.0, 1.0, 1.0, 0.0, 0.0), (0.0, 0.0)): 0.0,\n",
       " ((1.0, 1.0, 0.0, 0.0, 1.0, 0.0, 0.0, 0.0), (0.0, 0.0)): 0.0}"
      ]
     },
     "execution_count": 384,
     "metadata": {},
     "output_type": "execute_result"
    }
   ],
   "source": [
    "joint_dist"
   ]
  },
  {
   "cell_type": "code",
   "execution_count": 380,
   "metadata": {},
   "outputs": [
    {
     "data": {
      "text/plain": [
       "{(0.0, 0.0, 0.0, 0.0, 0.0, 0.0, 0.0, 0.0): 0.017916704202342485,\n",
       " (0.0, 0.0, 0.0, 0.0, 0.0, 1.0, 0.0, 0.0): 0.007095505352703984,\n",
       " (0.0, 0.0, 0.0, 1.0, 0.0, 1.0, 0.0, 0.0): 0.006737972722892805,\n",
       " (0.0, 0.0, 0.0, 1.0, 0.0, 0.0, 0.0, 0.0): 0.017559171572531285,\n",
       " (0.0, 0.0, 0.0, 0.0, 0.0, 1.0, 0.0, 1.0): 0.003968371632947209,\n",
       " (0.0, 0.0, 0.0, 0.0, 0.0, 0.0, 0.0, 1.0): 0.003968371632947209,\n",
       " (0.0, 0.0, 0.0, 1.0, 0.0, 0.0, 0.0, 1.0): 0.003854890641817618,\n",
       " (0.0, 0.0, 0.0, 1.0, 0.0, 1.0, 0.0, 1.0): 0.003854890641817618,\n",
       " (0.0, 0.0, 1.0, 0.0, 0.0, 1.0, 0.0, 1.0): 0.003963287862476816,\n",
       " (0.0, 0.0, 1.0, 0.0, 0.0, 0.0, 0.0, 1.0): 0.003963287862476816,\n",
       " (0.0, 0.0, 1.0, 1.0, 0.0, 0.0, 0.0, 1.0): 0.0038500418682880077,\n",
       " (0.0, 0.0, 1.0, 1.0, 0.0, 1.0, 0.0, 1.0): 0.0038500418682880077,\n",
       " (0.0, 0.0, 1.0, 0.0, 0.0, 0.0, 0.0, 0.0): 0.017911620431872055,\n",
       " (0.0, 0.0, 1.0, 0.0, 0.0, 1.0, 0.0, 0.0): 0.007090421582233608,\n",
       " (0.0, 0.0, 1.0, 1.0, 0.0, 1.0, 0.0, 0.0): 0.006733123949363203,\n",
       " (0.0, 0.0, 1.0, 1.0, 0.0, 0.0, 0.0, 0.0): 0.01755432279900167,\n",
       " (0.0, 1.0, 0.0, 1.0, 0.0, 1.0, 0.0, 0.0): 0.006737972722892807,\n",
       " (0.0, 1.0, 0.0, 1.0, 0.0, 0.0, 0.0, 0.0): 0.01755917157253128,\n",
       " (0.0, 1.0, 0.0, 0.0, 0.0, 0.0, 0.0, 0.0): 0.01791162043187206,\n",
       " (0.0, 1.0, 0.0, 0.0, 0.0, 1.0, 0.0, 0.0): 0.007090421582233593,\n",
       " (0.0, 1.0, 0.0, 1.0, 0.0, 0.0, 0.0, 1.0): 0.0038548906418176174,\n",
       " (0.0, 1.0, 0.0, 1.0, 0.0, 1.0, 0.0, 1.0): 0.0038548906418176174,\n",
       " (0.0, 1.0, 0.0, 0.0, 0.0, 1.0, 0.0, 1.0): 0.003966695467417609,\n",
       " (0.0, 1.0, 0.0, 0.0, 0.0, 0.0, 0.0, 1.0): 0.00396669546741761,\n",
       " (0.0, 1.0, 1.0, 1.0, 0.0, 0.0, 0.0, 1.0): 0.0038500418682880086,\n",
       " (0.0, 1.0, 1.0, 1.0, 0.0, 1.0, 0.0, 1.0): 0.003850041868288008,\n",
       " (0.0, 1.0, 1.0, 0.0, 0.0, 1.0, 0.0, 1.0): 0.003961798320947216,\n",
       " (0.0, 1.0, 1.0, 0.0, 0.0, 0.0, 0.0, 1.0): 0.003961798320947214,\n",
       " (0.0, 1.0, 1.0, 1.0, 0.0, 1.0, 0.0, 0.0): 0.006733123949363205,\n",
       " (0.0, 1.0, 1.0, 1.0, 0.0, 0.0, 0.0, 0.0): 0.017554322799001675,\n",
       " (0.0, 1.0, 1.0, 0.0, 0.0, 0.0, 0.0, 0.0): 0.017906723285401632,\n",
       " (0.0, 1.0, 1.0, 0.0, 0.0, 1.0, 0.0, 0.0): 0.007085524435763207,\n",
       " (0.0, 0.0, 0.0, 0.0, 0.0, 1.0, 1.0, 0.0): 0.0049814358470656045,\n",
       " (0.0, 0.0, 0.0, 0.0, 0.0, 0.0, 1.0, 0.0): 0.0070955053527040025,\n",
       " (0.0, 0.0, 0.0, 1.0, 0.0, 0.0, 1.0, 0.0): 0.006921596406169601,\n",
       " (0.0, 0.0, 0.0, 1.0, 0.0, 1.0, 1.0, 0.0): 0.004807526900531218,\n",
       " (0.0, 0.0, 0.0, 0.0, 0.0, 0.0, 1.0, 1.0): 0.001916993458585594,\n",
       " (0.0, 0.0, 0.0, 0.0, 0.0, 1.0, 1.0, 1.0): 0.0019169934585855938,\n",
       " (0.0, 0.0, 0.0, 1.0, 0.0, 1.0, 1.0, 1.0): 0.0018617534881791976,\n",
       " (0.0, 0.0, 0.0, 1.0, 0.0, 0.0, 1.0, 1.0): 0.001861753488179197,\n",
       " (0.0, 0.0, 1.0, 0.0, 0.0, 0.0, 1.0, 1.0): 0.0019119096881151977,\n",
       " (0.0, 0.0, 1.0, 0.0, 0.0, 1.0, 1.0, 1.0): 0.0019119096881151983,\n",
       " (0.0, 0.0, 1.0, 1.0, 0.0, 1.0, 1.0, 1.0): 0.0018569047146495949,\n",
       " (0.0, 0.0, 1.0, 1.0, 0.0, 0.0, 1.0, 1.0): 0.0018569047146495946,\n",
       " (0.0, 0.0, 1.0, 0.0, 0.0, 1.0, 1.0, 0.0): 0.004976352076595216,\n",
       " (0.0, 0.0, 1.0, 0.0, 0.0, 0.0, 1.0, 0.0): 0.007090421582233601,\n",
       " (0.0, 0.0, 1.0, 1.0, 0.0, 0.0, 1.0, 0.0): 0.006916747632639992,\n",
       " (0.0, 0.0, 1.0, 1.0, 0.0, 1.0, 1.0, 0.0): 0.0048026781270016075,\n",
       " (0.0, 1.0, 0.0, 1.0, 0.0, 0.0, 1.0, 0.0): 0.0069215964061696035,\n",
       " (0.0, 1.0, 0.0, 1.0, 0.0, 1.0, 1.0, 0.0): 0.0048075269005312185,\n",
       " (0.0, 1.0, 0.0, 0.0, 0.0, 1.0, 1.0, 0.0): 0.0049763520765952075,\n",
       " (0.0, 1.0, 0.0, 0.0, 0.0, 0.0, 1.0, 0.0): 0.007090421582233593,\n",
       " (0.0, 1.0, 0.0, 1.0, 0.0, 1.0, 1.0, 1.0): 0.0018617534881791974,\n",
       " (0.0, 1.0, 0.0, 1.0, 0.0, 0.0, 1.0, 1.0): 0.001861753488179197,\n",
       " (0.0, 1.0, 0.0, 0.0, 0.0, 0.0, 1.0, 1.0): 0.0019153172930559967,\n",
       " (0.0, 1.0, 0.0, 0.0, 0.0, 1.0, 1.0, 1.0): 0.001915317293055997,\n",
       " (0.0, 1.0, 1.0, 1.0, 0.0, 1.0, 1.0, 1.0): 0.0018569047146495949,\n",
       " (0.0, 1.0, 1.0, 1.0, 0.0, 0.0, 1.0, 1.0): 0.0018569047146495946,\n",
       " (0.0, 1.0, 1.0, 0.0, 0.0, 0.0, 1.0, 1.0): 0.001910420146585593,\n",
       " (0.0, 1.0, 1.0, 0.0, 0.0, 1.0, 1.0, 1.0): 0.001910420146585593,\n",
       " (0.0, 1.0, 1.0, 1.0, 0.0, 0.0, 1.0, 0.0): 0.006916747632639991,\n",
       " (0.0, 1.0, 1.0, 1.0, 0.0, 1.0, 1.0, 0.0): 0.00480267812700161,\n",
       " (0.0, 1.0, 1.0, 0.0, 0.0, 1.0, 1.0, 0.0): 0.0049714549301248115,\n",
       " (0.0, 1.0, 1.0, 0.0, 0.0, 0.0, 1.0, 0.0): 0.007085524435763196,\n",
       " (1.0, 0.0, 1.0, 0.0, 0.0, 0.0, 1.0, 0.0): 0.0067379727228928194,\n",
       " (1.0, 0.0, 1.0, 0.0, 0.0, 1.0, 1.0, 0.0): 0.0048075269005312124,\n",
       " (1.0, 0.0, 1.0, 1.0, 0.0, 1.0, 1.0, 0.0): 0.00464127623987201,\n",
       " (1.0, 0.0, 1.0, 1.0, 0.0, 0.0, 1.0, 0.0): 0.006571722062233608,\n",
       " (1.0, 0.0, 1.0, 0.0, 0.0, 1.0, 1.0, 1.0): 0.0018309775482879987,\n",
       " (1.0, 0.0, 1.0, 0.0, 0.0, 0.0, 1.0, 1.0): 0.001830977548287999,\n",
       " (1.0, 0.0, 1.0, 1.0, 0.0, 0.0, 1.0, 1.0): 0.0017782468329471963,\n",
       " (1.0, 0.0, 1.0, 1.0, 0.0, 1.0, 1.0, 1.0): 0.001778246832947196,\n",
       " (1.0, 0.0, 0.0, 0.0, 0.0, 1.0, 1.0, 1.0): 0.0018309775482879965,\n",
       " (1.0, 0.0, 0.0, 0.0, 0.0, 0.0, 1.0, 1.0): 0.001830977548287996,\n",
       " (1.0, 0.0, 0.0, 1.0, 0.0, 0.0, 1.0, 1.0): 0.0017782468329471997,\n",
       " (1.0, 0.0, 0.0, 1.0, 0.0, 1.0, 1.0, 1.0): 0.0017782468329471995,\n",
       " (1.0, 0.0, 0.0, 0.0, 0.0, 0.0, 1.0, 0.0): 0.006737972722892808,\n",
       " (1.0, 0.0, 0.0, 0.0, 0.0, 1.0, 1.0, 0.0): 0.0048075269005312055,\n",
       " (1.0, 0.0, 0.0, 1.0, 0.0, 1.0, 1.0, 0.0): 0.004641276239872009,\n",
       " (1.0, 0.0, 0.0, 1.0, 0.0, 0.0, 1.0, 0.0): 0.006571722062233615,\n",
       " (1.0, 1.0, 1.0, 1.0, 0.0, 1.0, 1.0, 0.0): 0.004641276239872009,\n",
       " (1.0, 1.0, 1.0, 1.0, 0.0, 0.0, 1.0, 0.0): 0.006571722062233607,\n",
       " (1.0, 1.0, 1.0, 0.0, 0.0, 0.0, 1.0, 0.0): 0.006733123949363205,\n",
       " (1.0, 1.0, 1.0, 0.0, 0.0, 1.0, 1.0, 0.0): 0.004802678127001607,\n",
       " (1.0, 1.0, 1.0, 1.0, 0.0, 0.0, 1.0, 1.0): 0.001778246832947196,\n",
       " (1.0, 1.0, 1.0, 1.0, 0.0, 1.0, 1.0, 1.0): 0.0017782468329471954,\n",
       " (1.0, 1.0, 1.0, 0.0, 0.0, 1.0, 1.0, 1.0): 0.001829439633817596,\n",
       " (1.0, 1.0, 1.0, 0.0, 0.0, 0.0, 1.0, 1.0): 0.0018294396338175967,\n",
       " (1.0, 1.0, 0.0, 1.0, 0.0, 0.0, 1.0, 1.0): 0.0017782468329472,\n",
       " (1.0, 1.0, 0.0, 1.0, 0.0, 1.0, 1.0, 1.0): 0.0017782468329471997,\n",
       " (1.0, 1.0, 0.0, 0.0, 0.0, 1.0, 1.0, 1.0): 0.0018294396338175967,\n",
       " (1.0, 1.0, 0.0, 0.0, 0.0, 0.0, 1.0, 1.0): 0.0018294396338175971,\n",
       " (1.0, 1.0, 0.0, 1.0, 0.0, 1.0, 1.0, 0.0): 0.004641276239872011,\n",
       " (1.0, 1.0, 0.0, 1.0, 0.0, 0.0, 1.0, 0.0): 0.006571722062233616,\n",
       " (1.0, 1.0, 0.0, 0.0, 0.0, 0.0, 1.0, 0.0): 0.006733123949363214,\n",
       " (1.0, 1.0, 0.0, 0.0, 0.0, 1.0, 1.0, 0.0): 0.004802678127001606,\n",
       " (1.0, 0.0, 1.0, 0.0, 0.0, 1.0, 0.0, 0.0): 0.006921596406169609,\n",
       " (1.0, 0.0, 1.0, 0.0, 0.0, 0.0, 0.0, 0.0): 0.01755917157253128,\n",
       " (1.0, 0.0, 1.0, 1.0, 0.0, 0.0, 0.0, 0.0): 0.01720929722859531,\n",
       " (1.0, 0.0, 1.0, 1.0, 0.0, 1.0, 0.0, 0.0): 0.006571722062233602,\n",
       " (1.0, 0.0, 1.0, 0.0, 0.0, 0.0, 0.0, 1.0): 0.0038823557226496078,\n",
       " (1.0, 0.0, 1.0, 0.0, 0.0, 1.0, 0.0, 1.0): 0.003882355722649608,\n",
       " (1.0, 0.0, 1.0, 1.0, 0.0, 1.0, 0.0, 1.0): 0.0037713839865856033,\n",
       " (1.0, 0.0, 1.0, 1.0, 0.0, 0.0, 0.0, 1.0): 0.003771383986585603,\n",
       " (1.0, 0.0, 0.0, 0.0, 0.0, 0.0, 0.0, 1.0): 0.0038823557226496165,\n",
       " (1.0, 0.0, 0.0, 0.0, 0.0, 1.0, 0.0, 1.0): 0.0038823557226496156,\n",
       " (1.0, 0.0, 0.0, 1.0, 0.0, 1.0, 0.0, 1.0): 0.003771383986585608,\n",
       " (1.0, 0.0, 0.0, 1.0, 0.0, 0.0, 0.0, 1.0): 0.0037713839865856076,\n",
       " (1.0, 0.0, 0.0, 0.0, 0.0, 1.0, 0.0, 0.0): 0.006921596406169615,\n",
       " (1.0, 0.0, 0.0, 0.0, 0.0, 0.0, 0.0, 0.0): 0.01755917157253124,\n",
       " (1.0, 0.0, 0.0, 1.0, 0.0, 0.0, 0.0, 0.0): 0.017209297228595297,\n",
       " (1.0, 0.0, 0.0, 1.0, 0.0, 1.0, 0.0, 0.0): 0.006571722062233611,\n",
       " (1.0, 1.0, 1.0, 1.0, 0.0, 0.0, 0.0, 0.0): 0.017209297228595308,\n",
       " (1.0, 1.0, 1.0, 1.0, 0.0, 1.0, 0.0, 0.0): 0.006571722062233606,\n",
       " (1.0, 1.0, 1.0, 0.0, 0.0, 1.0, 0.0, 0.0): 0.006916747632640011,\n",
       " (1.0, 1.0, 1.0, 0.0, 0.0, 0.0, 0.0, 0.0): 0.017554322799001657,\n",
       " (1.0, 1.0, 1.0, 1.0, 0.0, 1.0, 0.0, 1.0): 0.003771383986585603,\n",
       " (1.0, 1.0, 1.0, 1.0, 0.0, 0.0, 0.0, 1.0): 0.0037713839865856033,\n",
       " (1.0, 1.0, 1.0, 0.0, 0.0, 0.0, 0.0, 1.0): 0.0038808178081792136,\n",
       " (1.0, 1.0, 1.0, 0.0, 0.0, 1.0, 0.0, 1.0): 0.003880817808179215,\n",
       " (1.0, 1.0, 0.0, 1.0, 0.0, 1.0, 0.0, 1.0): 0.0037713839865856076,\n",
       " (1.0, 1.0, 0.0, 1.0, 0.0, 0.0, 0.0, 1.0): 0.0037713839865856067,\n",
       " (1.0, 1.0, 0.0, 0.0, 0.0, 0.0, 0.0, 1.0): 0.0038808178081792106,\n",
       " (1.0, 1.0, 0.0, 0.0, 0.0, 1.0, 0.0, 1.0): 0.003880817808179212,\n",
       " (1.0, 1.0, 0.0, 1.0, 0.0, 0.0, 0.0, 0.0): 0.017209297228595294,\n",
       " (1.0, 1.0, 0.0, 1.0, 0.0, 1.0, 0.0, 0.0): 0.006571722062233612,\n",
       " (1.0, 1.0, 0.0, 0.0, 0.0, 1.0, 0.0, 0.0): 0.0069167476326400055,\n",
       " (1.0, 1.0, 0.0, 0.0, 0.0, 0.0, 0.0, 0.0): 0.0175543227990017,\n",
       " (0.0, 0.0, 0.0, 0.0, 1.0, 0.0, 0.0, 0.0): 0.003968371632947216,\n",
       " (0.0, 0.0, 0.0, 0.0, 1.0, 1.0, 0.0, 0.0): 0.0019169934585855962,\n",
       " (0.0, 0.0, 0.0, 1.0, 1.0, 1.0, 0.0, 0.0): 0.0018309775482879965,\n",
       " (0.0, 0.0, 0.0, 1.0, 1.0, 0.0, 0.0, 0.0): 0.0038823557226496143,\n",
       " (0.0, 0.0, 0.0, 0.0, 1.0, 1.0, 0.0, 1.0): 0.0009339204677631984,\n",
       " (0.0, 0.0, 0.0, 0.0, 1.0, 0.0, 0.0, 1.0): 0.0009339204677631985,\n",
       " (0.0, 0.0, 0.0, 1.0, 1.0, 0.0, 0.0, 1.0): 0.0009065910870015982,\n",
       " (0.0, 0.0, 0.0, 1.0, 1.0, 1.0, 0.0, 1.0): 0.0009065910870015983,\n",
       " (0.0, 0.0, 1.0, 0.0, 1.0, 1.0, 0.0, 1.0): 0.000932244302233598,\n",
       " (0.0, 0.0, 1.0, 0.0, 1.0, 0.0, 0.0, 1.0): 0.0009322443022335983,\n",
       " (0.0, 0.0, 1.0, 1.0, 1.0, 0.0, 0.0, 1.0): 0.0009050531725311989,\n",
       " (0.0, 0.0, 1.0, 1.0, 1.0, 1.0, 0.0, 1.0): 0.0009050531725311986,\n",
       " (0.0, 0.0, 1.0, 0.0, 1.0, 0.0, 0.0, 0.0): 0.003966695467417612,\n",
       " (0.0, 0.0, 1.0, 0.0, 1.0, 1.0, 0.0, 0.0): 0.0019153172930559989,\n",
       " (0.0, 0.0, 1.0, 1.0, 1.0, 1.0, 0.0, 0.0): 0.0018294396338175978,\n",
       " (0.0, 0.0, 1.0, 1.0, 1.0, 0.0, 0.0, 0.0): 0.0038808178081792236,\n",
       " (0.0, 1.0, 0.0, 1.0, 1.0, 1.0, 0.0, 0.0): 0.0018309775482879972,\n",
       " (0.0, 1.0, 0.0, 1.0, 1.0, 0.0, 0.0, 0.0): 0.0038823557226496143,\n",
       " (0.0, 1.0, 0.0, 0.0, 1.0, 0.0, 0.0, 0.0): 0.003963287862476819,\n",
       " (0.0, 1.0, 0.0, 0.0, 1.0, 1.0, 0.0, 0.0): 0.0019119096881151994,\n",
       " (0.0, 1.0, 0.0, 1.0, 1.0, 0.0, 0.0, 1.0): 0.0009065910870015984,\n",
       " (0.0, 1.0, 0.0, 1.0, 1.0, 1.0, 0.0, 1.0): 0.0009065910870015981,\n",
       " (0.0, 1.0, 0.0, 0.0, 1.0, 1.0, 0.0, 1.0): 0.0009322443022335972,\n",
       " (0.0, 1.0, 0.0, 0.0, 1.0, 0.0, 0.0, 1.0): 0.0009322443022335971,\n",
       " (0.0, 1.0, 1.0, 1.0, 1.0, 0.0, 0.0, 1.0): 0.0009050531725311987,\n",
       " (0.0, 1.0, 1.0, 1.0, 1.0, 1.0, 0.0, 1.0): 0.0009050531725311988,\n",
       " (0.0, 1.0, 1.0, 0.0, 1.0, 1.0, 0.0, 1.0): 0.0009307547607039994,\n",
       " (0.0, 1.0, 1.0, 0.0, 1.0, 0.0, 0.0, 1.0): 0.0009307547607039997,\n",
       " (0.0, 1.0, 1.0, 1.0, 1.0, 1.0, 0.0, 0.0): 0.001829439633817597,\n",
       " (0.0, 1.0, 1.0, 1.0, 1.0, 0.0, 0.0, 0.0): 0.0038808178081792236,\n",
       " (0.0, 1.0, 1.0, 0.0, 1.0, 0.0, 0.0, 0.0): 0.0039617983209472175,\n",
       " (0.0, 1.0, 1.0, 0.0, 1.0, 1.0, 0.0, 0.0): 0.0019104201465855956,\n",
       " (0.0, 0.0, 0.0, 0.0, 1.0, 1.0, 1.0, 0.0): 0.0019169934585855969,\n",
       " (0.0, 0.0, 0.0, 0.0, 1.0, 0.0, 1.0, 0.0): 0.003968371632947216,\n",
       " (0.0, 0.0, 0.0, 1.0, 1.0, 0.0, 1.0, 0.0): 0.003882355722649615,\n",
       " (0.0, 0.0, 0.0, 1.0, 1.0, 1.0, 1.0, 0.0): 0.0018309775482879952,\n",
       " (0.0, 0.0, 0.0, 0.0, 1.0, 0.0, 1.0, 1.0): 0.000933920467763199,\n",
       " (0.0, 0.0, 0.0, 0.0, 1.0, 1.0, 1.0, 1.0): 0.0009339204677631988,\n",
       " (0.0, 0.0, 0.0, 1.0, 1.0, 1.0, 1.0, 1.0): 0.0009065910870015985,\n",
       " (0.0, 0.0, 0.0, 1.0, 1.0, 0.0, 1.0, 1.0): 0.0009065910870015988,\n",
       " (0.0, 0.0, 1.0, 0.0, 1.0, 0.0, 1.0, 1.0): 0.0009322443022335983,\n",
       " (0.0, 0.0, 1.0, 0.0, 1.0, 1.0, 1.0, 1.0): 0.0009322443022335983,\n",
       " (0.0, 0.0, 1.0, 1.0, 1.0, 1.0, 1.0, 1.0): 0.000905053172531199,\n",
       " (0.0, 0.0, 1.0, 1.0, 1.0, 0.0, 1.0, 1.0): 0.0009050531725311994,\n",
       " (0.0, 0.0, 1.0, 0.0, 1.0, 1.0, 1.0, 0.0): 0.0019153172930559985,\n",
       " (0.0, 0.0, 1.0, 0.0, 1.0, 0.0, 1.0, 0.0): 0.003966695467417615,\n",
       " (0.0, 0.0, 1.0, 1.0, 1.0, 0.0, 1.0, 0.0): 0.0038808178081792205,\n",
       " (0.0, 0.0, 1.0, 1.0, 1.0, 1.0, 1.0, 0.0): 0.0018294396338175976,\n",
       " (0.0, 1.0, 0.0, 1.0, 1.0, 0.0, 1.0, 0.0): 0.0038823557226496156,\n",
       " (0.0, 1.0, 0.0, 1.0, 1.0, 1.0, 1.0, 0.0): 0.0018309775482879956,\n",
       " (0.0, 1.0, 0.0, 0.0, 1.0, 1.0, 1.0, 0.0): 0.0019119096881152,\n",
       " (0.0, 1.0, 0.0, 0.0, 1.0, 0.0, 1.0, 0.0): 0.003963287862476816,\n",
       " (0.0, 1.0, 0.0, 1.0, 1.0, 1.0, 1.0, 1.0): 0.0009065910870015986,\n",
       " (0.0, 1.0, 0.0, 1.0, 1.0, 0.0, 1.0, 1.0): 0.0009065910870015991,\n",
       " (0.0, 1.0, 0.0, 0.0, 1.0, 0.0, 1.0, 1.0): 0.0009322443022335979,\n",
       " (0.0, 1.0, 0.0, 0.0, 1.0, 1.0, 1.0, 1.0): 0.0009322443022335979,\n",
       " (0.0, 1.0, 1.0, 1.0, 1.0, 1.0, 1.0, 1.0): 0.0009050531725311991,\n",
       " (0.0, 1.0, 1.0, 1.0, 1.0, 0.0, 1.0, 1.0): 0.0009050531725311994,\n",
       " (0.0, 1.0, 1.0, 0.0, 1.0, 0.0, 1.0, 1.0): 0.0009307547607039998,\n",
       " (0.0, 1.0, 1.0, 0.0, 1.0, 1.0, 1.0, 1.0): 0.0009307547607039999,\n",
       " (0.0, 1.0, 1.0, 1.0, 1.0, 0.0, 1.0, 0.0): 0.0038808178081792205,\n",
       " (0.0, 1.0, 1.0, 1.0, 1.0, 1.0, 1.0, 0.0): 0.0018294396338175984,\n",
       " (0.0, 1.0, 1.0, 0.0, 1.0, 1.0, 1.0, 0.0): 0.001910420146585595,\n",
       " (0.0, 1.0, 1.0, 0.0, 1.0, 0.0, 1.0, 0.0): 0.003961798320947216,\n",
       " (1.0, 0.0, 1.0, 0.0, 1.0, 0.0, 1.0, 0.0): 0.0038548906418176127,\n",
       " (1.0, 0.0, 1.0, 0.0, 1.0, 1.0, 1.0, 0.0): 0.0018617534881792029,\n",
       " (1.0, 0.0, 1.0, 1.0, 1.0, 1.0, 1.0, 0.0): 0.0017782468329471987,\n",
       " (1.0, 0.0, 1.0, 1.0, 1.0, 0.0, 1.0, 0.0): 0.0037713839865856132,\n",
       " (1.0, 0.0, 1.0, 0.0, 1.0, 1.0, 1.0, 1.0): 0.0009065910870015991,\n",
       " (1.0, 0.0, 1.0, 0.0, 1.0, 0.0, 1.0, 1.0): 0.000906591087001599,\n",
       " (1.0, 0.0, 1.0, 1.0, 1.0, 0.0, 1.0, 1.0): 0.0008801047822335981,\n",
       " (1.0, 0.0, 1.0, 1.0, 1.0, 1.0, 1.0, 1.0): 0.0008801047822335978,\n",
       " (1.0, 0.0, 0.0, 0.0, 1.0, 1.0, 1.0, 1.0): 0.0009065910870015987,\n",
       " (1.0, 0.0, 0.0, 0.0, 1.0, 0.0, 1.0, 1.0): 0.0009065910870015988,\n",
       " (1.0, 0.0, 0.0, 1.0, 1.0, 0.0, 1.0, 1.0): 0.0008801047822335989,\n",
       " (1.0, 0.0, 0.0, 1.0, 1.0, 1.0, 1.0, 1.0): 0.0008801047822335988,\n",
       " (1.0, 0.0, 0.0, 0.0, 1.0, 0.0, 1.0, 0.0): 0.0038548906418176122,\n",
       " (1.0, 0.0, 0.0, 0.0, 1.0, 1.0, 1.0, 0.0): 0.0018617534881791972,\n",
       " (1.0, 0.0, 0.0, 1.0, 1.0, 1.0, 1.0, 0.0): 0.0017782468329471995,\n",
       " (1.0, 0.0, 0.0, 1.0, 1.0, 0.0, 1.0, 0.0): 0.003771383986585608,\n",
       " (1.0, 1.0, 1.0, 1.0, 1.0, 1.0, 1.0, 0.0): 0.001778246832947198,\n",
       " (1.0, 1.0, 1.0, 1.0, 1.0, 0.0, 1.0, 0.0): 0.0037713839865856137,\n",
       " (1.0, 1.0, 1.0, 0.0, 1.0, 0.0, 1.0, 0.0): 0.003850041868288007,\n",
       " (1.0, 1.0, 1.0, 0.0, 1.0, 1.0, 1.0, 0.0): 0.0018569047146495966,\n",
       " (1.0, 1.0, 1.0, 1.0, 1.0, 0.0, 1.0, 1.0): 0.000880104782233598,\n",
       " (1.0, 1.0, 1.0, 1.0, 1.0, 1.0, 1.0, 1.0): 0.0008801047822335979,\n",
       " (1.0, 1.0, 1.0, 0.0, 1.0, 1.0, 1.0, 1.0): 0.0009050531725311996,\n",
       " (1.0, 1.0, 1.0, 0.0, 1.0, 0.0, 1.0, 1.0): 0.0009050531725311995,\n",
       " (1.0, 1.0, 0.0, 1.0, 1.0, 0.0, 1.0, 1.0): 0.0008801047822335989,\n",
       " (1.0, 1.0, 0.0, 1.0, 1.0, 1.0, 1.0, 1.0): 0.000880104782233599,\n",
       " (1.0, 1.0, 0.0, 0.0, 1.0, 1.0, 1.0, 1.0): 0.0009050531725311987,\n",
       " (1.0, 1.0, 0.0, 0.0, 1.0, 0.0, 1.0, 1.0): 0.0009050531725311987,\n",
       " (1.0, 1.0, 0.0, 1.0, 1.0, 1.0, 1.0, 0.0): 0.0017782468329471997,\n",
       " (1.0, 1.0, 0.0, 1.0, 1.0, 0.0, 1.0, 0.0): 0.003771383986585608,\n",
       " (1.0, 1.0, 0.0, 0.0, 1.0, 0.0, 1.0, 0.0): 0.0038500418682880094,\n",
       " (1.0, 1.0, 0.0, 0.0, 1.0, 1.0, 1.0, 0.0): 0.001856904714649597,\n",
       " (1.0, 0.0, 1.0, 0.0, 1.0, 1.0, 0.0, 0.0): 0.001861753488179201,\n",
       " (1.0, 0.0, 1.0, 0.0, 1.0, 0.0, 0.0, 0.0): 0.003854890641817611,\n",
       " (1.0, 0.0, 1.0, 1.0, 1.0, 0.0, 0.0, 0.0): 0.0037713839865856093,\n",
       " (1.0, 0.0, 1.0, 1.0, 1.0, 1.0, 0.0, 0.0): 0.0017782468329471989,\n",
       " (1.0, 0.0, 1.0, 0.0, 1.0, 0.0, 0.0, 1.0): 0.0009065910870015987,\n",
       " (1.0, 0.0, 1.0, 0.0, 1.0, 1.0, 0.0, 1.0): 0.0009065910870015991,\n",
       " (1.0, 0.0, 1.0, 1.0, 1.0, 1.0, 0.0, 1.0): 0.0008801047822335986,\n",
       " (1.0, 0.0, 1.0, 1.0, 1.0, 0.0, 0.0, 1.0): 0.0008801047822335985,\n",
       " (1.0, 0.0, 0.0, 0.0, 1.0, 0.0, 0.0, 1.0): 0.0009065910870015995,\n",
       " (1.0, 0.0, 0.0, 0.0, 1.0, 1.0, 0.0, 1.0): 0.0009065910870015992,\n",
       " (1.0, 0.0, 0.0, 1.0, 1.0, 1.0, 0.0, 1.0): 0.0008801047822335991,\n",
       " (1.0, 0.0, 0.0, 1.0, 1.0, 0.0, 0.0, 1.0): 0.0008801047822335989,\n",
       " (1.0, 0.0, 0.0, 0.0, 1.0, 1.0, 0.0, 0.0): 0.0018617534881791953,\n",
       " (1.0, 0.0, 0.0, 0.0, 1.0, 0.0, 0.0, 0.0): 0.0038548906418176053,\n",
       " (1.0, 0.0, 0.0, 1.0, 1.0, 0.0, 0.0, 0.0): 0.003771383986585606,\n",
       " (1.0, 0.0, 0.0, 1.0, 1.0, 1.0, 0.0, 0.0): 0.0017782468329472,\n",
       " (1.0, 1.0, 1.0, 1.0, 1.0, 0.0, 0.0, 0.0): 0.0037713839865856115,\n",
       " (1.0, 1.0, 1.0, 1.0, 1.0, 1.0, 0.0, 0.0): 0.0017782468329471984,\n",
       " (1.0, 1.0, 1.0, 0.0, 1.0, 1.0, 0.0, 0.0): 0.0018569047146495968,\n",
       " (1.0, 1.0, 1.0, 0.0, 1.0, 0.0, 0.0, 0.0): 0.0038500418682880073,\n",
       " (1.0, 1.0, 1.0, 1.0, 1.0, 1.0, 0.0, 1.0): 0.0008801047822335985,\n",
       " (1.0, 1.0, 1.0, 1.0, 1.0, 0.0, 0.0, 1.0): 0.0008801047822335988,\n",
       " (1.0, 1.0, 1.0, 0.0, 1.0, 0.0, 0.0, 1.0): 0.0009050531725311996,\n",
       " (1.0, 1.0, 1.0, 0.0, 1.0, 1.0, 0.0, 1.0): 0.0009050531725311997,\n",
       " (1.0, 1.0, 0.0, 1.0, 1.0, 1.0, 0.0, 1.0): 0.0008801047822335988,\n",
       " (1.0, 1.0, 0.0, 1.0, 1.0, 0.0, 0.0, 1.0): 0.0008801047822335989,\n",
       " (1.0, 1.0, 0.0, 0.0, 1.0, 0.0, 0.0, 1.0): 0.0009050531725311992,\n",
       " (1.0, 1.0, 0.0, 0.0, 1.0, 1.0, 0.0, 1.0): 0.0009050531725311994,\n",
       " (1.0, 1.0, 0.0, 1.0, 1.0, 0.0, 0.0, 0.0): 0.003771383986585605,\n",
       " (1.0, 1.0, 0.0, 1.0, 1.0, 1.0, 0.0, 0.0): 0.0017782468329471997,\n",
       " (1.0, 1.0, 0.0, 0.0, 1.0, 1.0, 0.0, 0.0): 0.001856904714649596,\n",
       " (1.0, 1.0, 0.0, 0.0, 1.0, 0.0, 0.0, 0.0): 0.003850041868288009}"
      ]
     },
     "execution_count": 380,
     "metadata": {},
     "output_type": "execute_result"
    }
   ],
   "source": [
    "syndrome_marginal = calculate_syndrome_marginal_distribution(joint_dist)\n",
    "syndrome_marginal"
   ]
  },
  {
   "cell_type": "code",
   "execution_count": 377,
   "metadata": {},
   "outputs": [
    {
     "name": "stdout",
     "output_type": "stream",
     "text": [
      "0.0\n",
      "0.9999999999935684\n",
      "0.9999999999935684\n"
     ]
    }
   ],
   "source": [
    "print(calculate_conditional_entropy(joint_dist))\n",
    "print(calculate_logical_entropy(joint_dist))\n",
    "print(calculate_mutual_information(joint_dist))"
   ]
  },
  {
   "cell_type": "markdown",
   "metadata": {},
   "source": [
    "___"
   ]
  },
  {
   "cell_type": "code",
   "execution_count": null,
   "metadata": {},
   "outputs": [
    {
     "name": "stderr",
     "output_type": "stream",
     "text": [
      "  0%|          | 0/3 [00:00<?, ?it/s]"
     ]
    },
    {
     "name": "stderr",
     "output_type": "stream",
     "text": [
      "100%|██████████| 3/3 [00:49<00:00, 16.44s/it]\n"
     ]
    }
   ],
   "source": [
    "three_joint_dists = []\n",
    "for code in tqdm(three_codes):\n",
    "    joint_dist = code.make_joint_distribution(noise)\n",
    "    three_joint_dists.append(joint_dist)"
   ]
  },
  {
   "cell_type": "code",
   "execution_count": 351,
   "metadata": {},
   "outputs": [],
   "source": [
    "all_mutual_infos = [calculate_mutual_information(joint_dist) for joint_dist in three_joint_dists]\n",
    "all_conditional_entropies = [calculate_conditional_entropy(joint_dist) for joint_dist in three_joint_dists]"
   ]
  },
  {
   "cell_type": "code",
   "execution_count": 352,
   "metadata": {},
   "outputs": [],
   "source": [
    "all_logical_entropies = [calculate_logical_entropy(joint_dist) for joint_dist in three_joint_dists]"
   ]
  },
  {
   "cell_type": "code",
   "execution_count": 353,
   "metadata": {},
   "outputs": [
    {
     "data": {
      "text/plain": [
       "<BarContainer object of 3 artists>"
      ]
     },
     "execution_count": 353,
     "metadata": {},
     "output_type": "execute_result"
    },
    {
     "data": {
      "image/png": "[encoded data removed]",
      "text/plain": [
       "<Figure size 640x480 with 1 Axes>"
      ]
     },
     "metadata": {},
     "output_type": "display_data"
    }
   ],
   "source": [
    "plt.bar(range(len(all_logical_entropies)), all_logical_entropies)"
   ]
  },
  {
   "cell_type": "code",
   "execution_count": null,
   "metadata": {},
   "outputs": [],
   "source": [
    "noise = BiasedPauliNoise(0.01, 0.0001, 9)\n",
    "print(noise.entropy(), noise.entropy_1q())"
   ]
  },
  {
   "cell_type": "code",
   "execution_count": 354,
   "metadata": {},
   "outputs": [
    {
     "data": {
      "text/plain": [
       "<BarContainer object of 3 artists>"
      ]
     },
     "execution_count": 354,
     "metadata": {},
     "output_type": "execute_result"
    },
    {
     "data": {
      "image/png": "[encoded data removed]",
      "text/plain": [
       "<Figure size 640x480 with 1 Axes>"
      ]
     },
     "metadata": {},
     "output_type": "display_data"
    }
   ],
   "source": [
    "plt.bar(range(len(all_conditional_entropies)), all_conditional_entropies)"
   ]
  },
  {
   "cell_type": "code",
   "execution_count": 355,
   "metadata": {},
   "outputs": [
    {
     "data": {
      "text/plain": [
       "stim.Tableau.from_conjugated_generators(\n",
       "    xs=[\n",
       "        stim.PauliString(\"+______XXX\"),\n",
       "        stim.PauliString(\"+__ZZZ____\"),\n",
       "        stim.PauliString(\"+__Z______\"),\n",
       "        stim.PauliString(\"+__Z_Z____\"),\n",
       "        stim.PauliString(\"+__Z__Z___\"),\n",
       "        stim.PauliString(\"+XX____XXX\"),\n",
       "        stim.PauliString(\"+________X\"),\n",
       "        stim.PauliString(\"+X_____XXX\"),\n",
       "        stim.PauliString(\"+_______XX\"),\n",
       "    ],\n",
       "    zs=[\n",
       "        stim.PauliString(\"+Z__Z__Z__\"),\n",
       "        stim.PauliString(\"+X__X_____\"),\n",
       "        stim.PauliString(\"+_XX_XX___\"),\n",
       "        stim.PauliString(\"+___XX_XX_\"),\n",
       "        stim.PauliString(\"+_____X__X\"),\n",
       "        stim.PauliString(\"+_ZZ______\"),\n",
       "        stim.PauliString(\"+____ZZ_ZZ\"),\n",
       "        stim.PauliString(\"+ZZ_ZZ____\"),\n",
       "        stim.PauliString(\"+______ZZ_\"),\n",
       "    ],\n",
       ")"
      ]
     },
     "execution_count": 355,
     "metadata": {},
     "output_type": "execute_result"
    }
   ],
   "source": [
    "surface_code.tableau"
   ]
  },
  {
   "cell_type": "code",
   "execution_count": 356,
   "metadata": {},
   "outputs": [
    {
     "data": {
      "text/plain": [
       "stim.PauliString(\"+__ZZZ____\")"
      ]
     },
     "execution_count": 356,
     "metadata": {},
     "output_type": "execute_result"
    }
   ],
   "source": [
    "surface_code.destabilizers[0]"
   ]
  },
  {
   "cell_type": "code",
   "execution_count": 357,
   "metadata": {},
   "outputs": [
    {
     "data": {
      "text/plain": [
       "stim.PauliString(\"+_XXX__XXX\")"
      ]
     },
     "execution_count": 357,
     "metadata": {},
     "output_type": "execute_result"
    }
   ],
   "source": [
    "surface_code.tableau(surface_code.destabilizers[0])"
   ]
  },
  {
   "cell_type": "code",
   "execution_count": 358,
   "metadata": {},
   "outputs": [
    {
     "name": "stdout",
     "output_type": "stream",
     "text": [
      "+__ZZZ____\n",
      "[1. 0. 0. 0. 0. 0. 0. 0.]\n",
      "+__Z______\n",
      "[0. 1. 0. 0. 0. 0. 0. 0.]\n",
      "+__Z_Z____\n",
      "[0. 0. 1. 0. 0. 0. 0. 0.]\n",
      "+__Z__Z___\n",
      "[0. 0. 0. 1. 0. 0. 0. 0.]\n",
      "+XX____XXX\n",
      "[0. 0. 0. 0. 1. 0. 0. 0.]\n",
      "+________X\n",
      "[0. 0. 0. 0. 0. 1. 0. 0.]\n",
      "+X_____XXX\n",
      "[0. 0. 0. 0. 0. 0. 1. 0.]\n",
      "+_______XX\n",
      "[0. 0. 0. 0. 0. 0. 0. 1.]\n"
     ]
    }
   ],
   "source": [
    "for destab in surface_code.destabilizers:\n",
    "    print(destab)\n",
    "    print(surface_code.syndrome(destab))"
   ]
  },
  {
   "cell_type": "code",
   "execution_count": 359,
   "metadata": {},
   "outputs": [
    {
     "data": {
      "text/plain": [
       "<BarContainer object of 3 artists>"
      ]
     },
     "execution_count": 359,
     "metadata": {},
     "output_type": "execute_result"
    },
    {
     "data": {
      "image/png": "[encoded data removed]",
      "text/plain": [
       "<Figure size 640x480 with 1 Axes>"
      ]
     },
     "metadata": {},
     "output_type": "display_data"
    }
   ],
   "source": [
    "plt.bar(range(len(all_mutual_infos)), all_mutual_infos)"
   ]
  },
  {
   "cell_type": "code",
   "execution_count": 360,
   "metadata": {},
   "outputs": [
    {
     "data": {
      "text/plain": [
       "0.140856356777118"
      ]
     },
     "execution_count": 360,
     "metadata": {},
     "output_type": "execute_result"
    }
   ],
   "source": [
    "logical_vec = np.array(list(calculate_logical_marginal_distribution(joint_dist).values()))\n",
    "entropy(logical_vec, base=2)"
   ]
  },
  {
   "cell_type": "code",
   "execution_count": 361,
   "metadata": {},
   "outputs": [
    {
     "data": {
      "text/plain": [
       "0.140856356777118"
      ]
     },
     "execution_count": 361,
     "metadata": {},
     "output_type": "execute_result"
    }
   ],
   "source": [
    "calculate_logical_entropy(joint_dist)"
   ]
  },
  {
   "cell_type": "code",
   "execution_count": 362,
   "metadata": {},
   "outputs": [
    {
     "data": {
      "text/plain": [
       "0.7427259522847506"
      ]
     },
     "execution_count": 362,
     "metadata": {},
     "output_type": "execute_result"
    }
   ],
   "source": [
    "calculate_syndrome_marginal_distribution(joint_dist)\n",
    "syndrome_vec = np.array(list(calculate_syndrome_marginal_distribution(joint_dist).values()))\n",
    "entropy(syndrome_vec, base=2)"
   ]
  },
  {
   "cell_type": "code",
   "execution_count": 363,
   "metadata": {},
   "outputs": [
    {
     "data": {
      "text/plain": [
       "0.7427259522847506"
      ]
     },
     "execution_count": 363,
     "metadata": {},
     "output_type": "execute_result"
    }
   ],
   "source": [
    "joint_vec = np.array(list(joint_dist.values()))\n",
    "entropy(joint_vec, base=2)"
   ]
  },
  {
   "cell_type": "code",
   "execution_count": 364,
   "metadata": {},
   "outputs": [
    {
     "data": {
      "text/plain": [
       "0.140856356777118"
      ]
     },
     "execution_count": 364,
     "metadata": {},
     "output_type": "execute_result"
    }
   ],
   "source": [
    "calculate_logical_entropy(joint_dist)"
   ]
  },
  {
   "cell_type": "code",
   "execution_count": 365,
   "metadata": {},
   "outputs": [
    {
     "data": {
      "text/plain": [
       "0.0"
      ]
     },
     "execution_count": 365,
     "metadata": {},
     "output_type": "execute_result"
    }
   ],
   "source": [
    "calculate_conditional_entropy(joint_dist)"
   ]
  },
  {
   "cell_type": "code",
   "execution_count": 366,
   "metadata": {},
   "outputs": [
    {
     "data": {
      "text/plain": [
       "0.140856356777118"
      ]
     },
     "execution_count": 366,
     "metadata": {},
     "output_type": "execute_result"
    }
   ],
   "source": [
    "calculate_mutual_information(joint_dist)"
   ]
  },
  {
   "cell_type": "code",
   "execution_count": null,
   "metadata": {},
   "outputs": [],
   "source": []
  },
  {
   "cell_type": "code",
   "execution_count": null,
   "metadata": {},
   "outputs": [],
   "source": []
  }
 ],
 "metadata": {
  "kernelspec": {
   "display_name": "ErrorGenerators",
   "language": "python",
   "name": "python3"
  },
  "language_info": {
   "codemirror_mode": {
    "name": "ipython",
    "version": 3
   },
   "file_extension": ".py",
   "mimetype": "text/x-python",
   "name": "python",
   "nbconvert_exporter": "python",
   "pygments_lexer": "ipython3",
   "version": "3.10.11"
  }
 },
 "nbformat": 4,
 "nbformat_minor": 2
}
